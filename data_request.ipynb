{
 "cells": [
  {
   "cell_type": "markdown",
   "metadata": {},
   "source": [
    "Step 1: Download data files \n",
    "Preferred script: download_data_ooi1_0.py\n",
    "\n",
    "Usage:\n",
    "1- compare the QC Database to the OOI GUI data catalog, \n",
    "2- build netCDF data request urls, and \n",
    "3- send requests if prompted.\n",
    "To Run:\n",
    "Input variables:\n",
    "sDir: directory where outputs are saved\n",
    "username: OOI API username\n",
    "Token: OOI API password\n",
    "\n",
    "Module Functions: in Tools (GitHub)\n",
    "Download_data_nc_interactive.py (Main Script)  \n",
    "data_request_urls\n",
    "send_data_requests_nc\n",
    "data_request_tools not in use \n",
    "Interactive_inputs\n",
    "Prompt usage:\n",
    "select the platform, node, instruments and methods\n",
    "start downloading data"
   ]
  },
  {
   "cell_type": "code",
   "execution_count": 1,
   "metadata": {},
   "outputs": [],
   "source": [
    "import datetime as dt\n",
    "import pandas as pd\n",
    "import os\n",
    "import itertools\n",
    "import functions.common as cf\n",
    "import scripts"
   ]
  },
  {
   "cell_type": "code",
   "execution_count": 2,
   "metadata": {},
   "outputs": [],
   "source": [
    "sDir = '/Users/leila/Documents/Desktop/8thEGOMeeting-notebooks'\n",
    "f = ''  # optional i.e. 'data_download.csv'\n",
    "username = 'OOIAPI-4J3Y5ISGDUPDB7'\n",
    "token = '4OT8YQUME0XOQF'\n",
    "\n",
    "cf.create_dir(sDir)\n",
    "now = dt.datetime.now().strftime('%Y%m%dT%H%M')"
   ]
  },
  {
   "cell_type": "code",
   "execution_count": 5,
   "metadata": {},
   "outputs": [
    {
     "ename": "AttributeError",
     "evalue": "module 'scripts' has no attribute 'interactive_inputs'",
     "output_type": "error",
     "traceback": [
      "\u001b[0;31m---------------------------------------------------------------------------\u001b[0m",
      "\u001b[0;31mAttributeError\u001b[0m                            Traceback (most recent call last)",
      "\u001b[0;32m<ipython-input-5-079c13b62cf6>\u001b[0m in \u001b[0;36m<module>\u001b[0;34m()\u001b[0m\n\u001b[1;32m      1\u001b[0m \u001b[0;32mif\u001b[0m \u001b[0;32mnot\u001b[0m \u001b[0mf\u001b[0m\u001b[0;34m:\u001b[0m\u001b[0;34m\u001b[0m\u001b[0;34m\u001b[0m\u001b[0m\n\u001b[0;32m----> 2\u001b[0;31m     \u001b[0marray\u001b[0m\u001b[0;34m,\u001b[0m \u001b[0msubsite\u001b[0m\u001b[0;34m,\u001b[0m \u001b[0mnode\u001b[0m\u001b[0;34m,\u001b[0m \u001b[0minst\u001b[0m\u001b[0;34m,\u001b[0m \u001b[0mdelivery_methods\u001b[0m \u001b[0;34m=\u001b[0m \u001b[0mscripts\u001b[0m\u001b[0;34m.\u001b[0m\u001b[0minteractive_inputs\u001b[0m\u001b[0;34m.\u001b[0m\u001b[0mreturn_interactive_inputs\u001b[0m\u001b[0;34m(\u001b[0m\u001b[0;34m)\u001b[0m\u001b[0;34m\u001b[0m\u001b[0;34m\u001b[0m\u001b[0m\n\u001b[0m\u001b[1;32m      3\u001b[0m     \u001b[0mf_url_list\u001b[0m \u001b[0;34m=\u001b[0m \u001b[0mscripts\u001b[0m\u001b[0;34m.\u001b[0m\u001b[0mdata_request_urls_ooi1_0\u001b[0m\u001b[0;34m.\u001b[0m\u001b[0mmain\u001b[0m\u001b[0;34m(\u001b[0m\u001b[0msDir\u001b[0m\u001b[0;34m,\u001b[0m \u001b[0marray\u001b[0m\u001b[0;34m,\u001b[0m \u001b[0msubsite\u001b[0m\u001b[0;34m,\u001b[0m \u001b[0mnode\u001b[0m\u001b[0;34m,\u001b[0m \u001b[0minst\u001b[0m\u001b[0;34m,\u001b[0m \u001b[0mdelivery_methods\u001b[0m\u001b[0;34m,\u001b[0m \u001b[0mnow\u001b[0m\u001b[0;34m)\u001b[0m\u001b[0;34m\u001b[0m\u001b[0;34m\u001b[0m\u001b[0m\n",
      "\u001b[0;31mAttributeError\u001b[0m: module 'scripts' has no attribute 'interactive_inputs'"
     ]
    }
   ],
   "source": [
    "if not f:\n",
    "    array, subsite, node, inst, delivery_methods = scripts.interactive_inputs.return_interactive_inputs()\n",
    "    f_url_list = scripts.data_request_urls_ooi1_0.main(sDir, array, subsite, node, inst, delivery_methods, now)"
   ]
  },
  {
   "cell_type": "code",
   "execution_count": null,
   "metadata": {},
   "outputs": [],
   "source": [
    "if not f:\n",
    "    array, subsite, node, inst, delivery_methods = scripts.interactive_inputs.return_interactive_inputs()\n",
    "    f_url_list = scripts.data_request_urls_ooi1_0.main(sDir, array, subsite, node, inst, delivery_methods, now)\n",
    "else:\n",
    "    df = pd.read_csv(os.path.join(sDir, f))\n",
    "    url_list = []\n",
    "    for i, j in df.iterrows():\n",
    "        array = scripts.data_request_tools.check_str(j['array'])\n",
    "        array = scripts.data_request_tools.format_inputs(array)\n",
    "        refdes = j['reference_designator']\n",
    "        if type(refdes) == str:\n",
    "            subsite = scripts.data_request_tools.format_inputs(refdes.split('-')[0])\n",
    "            node = scripts.data_request_tools.format_inputs(refdes.split('-')[1])\n",
    "            inst = scripts.data_request_tools.format_inputs('-'.join((refdes.split('-')[2], refdes.split('-')[3])))\n",
    "        else:\n",
    "            subsite = scripts.data_request_tools.check_str(j['subsite'])\n",
    "            subsite = scripts.data_request_tools.format_inputs(subsite)\n",
    "            node = scripts.data_request_tools.check_str(j['node'])\n",
    "            node = scripts.data_request_tools.format_inputs(node)\n",
    "            inst = scripts.data_request_tools.check_str(j['sensor'])\n",
    "            inst = scripts.data_request_tools.format_inputs(inst)\n",
    "        delivery_methods = scripts.data_request_tools.check_str(j['delivery_method'])\n",
    "        delivery_methods = scripts.data_request_tools.format_inputs(delivery_methods)\n",
    "\n",
    "        urls = scripts.data_request_urls_ooi1_0.main(sDir, array, subsite, node, inst, delivery_methods, now)\n",
    "        url_list.append(urls)\n",
    "\n",
    "    f_url_list = list(itertools.chain(*url_list))\n",
    "\n",
    "thredds_output_urls = scripts.send_data_requests_nc.main(sDir, f_url_list, username, token, now)\n",
    "\n",
    "print('\\nSeeing if the requests have fulfilled...')\n",
    "for i in range(len(thredds_output_urls)):\n",
    "    url = thredds_output_urls[i]\n",
    "    print('\\nDataset {} of {}: {}'.format((i + 1), len(thredds_output_urls), url))\n",
    "    if 'no_output_url' not in url:\n",
    "        cf.check_request_status(url)"
   ]
  }
 ],
 "metadata": {
  "kernelspec": {
   "display_name": "Python 3",
   "language": "python",
   "name": "python3"
  },
  "language_info": {
   "codemirror_mode": {
    "name": "ipython",
    "version": 3
   },
   "file_extension": ".py",
   "mimetype": "text/x-python",
   "name": "python",
   "nbconvert_exporter": "python",
   "pygments_lexer": "ipython3",
   "version": "3.7.2"
  }
 },
 "nbformat": 4,
 "nbformat_minor": 2
}
