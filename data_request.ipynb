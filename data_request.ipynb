{
 "cells": [
  {
   "cell_type": "markdown",
   "metadata": {},
   "source": [
    "Step 1: Download data files \n",
    "Preferred script: download_data_ooi1_0.py\n",
    "\n",
    "Usage:\n",
    "1- compare the QC Database to the OOI GUI data catalog, \n",
    "2- build netCDF data request urls, and \n",
    "3- send requests if prompted.\n",
    "To Run:\n",
    "Input variables:\n",
    "sDir: directory where outputs are saved\n",
    "username: OOI API username\n",
    "Token: OOI API password\n",
    "\n",
    "Module Functions: in Tools (GitHub)\n",
    "Download_data_nc_interactive.py (Main Script)  \n",
    "data_request_urls\n",
    "send_data_requests_nc\n",
    "data_request_tools not in use \n",
    "Interactive_inputs\n",
    "Prompt usage:\n",
    "select the platform, node, instruments and methods\n",
    "start downloading data"
   ]
  },
  {
   "cell_type": "code",
   "execution_count": 19,
   "metadata": {},
   "outputs": [],
   "source": [
    "import datetime as dt\n",
    "import pandas as pd\n",
    "import os\n",
    "import itertools\n",
    "import functions.common as cf\n",
    "from scripts import interactive_inputs\n",
    "from scripts import data_request_urls_ooi1_0\n",
    "from scripts import send_data_requests_nc"
   ]
  },
  {
   "cell_type": "code",
   "execution_count": 14,
   "metadata": {},
   "outputs": [],
   "source": [
    "sDir = '/Users/leila/Documents/Desktop/8thEGOMeeting-notebooks'\n",
    "f = ''  # optional i.e. 'data_download.csv'\n",
    "username = 'OOIAPI-4J3Y5ISGDUPDB7'\n",
    "token = '4OT8YQUME0XOQF'\n",
    "\n",
    "cf.create_dir(sDir)\n",
    "now = dt.datetime.now().strftime('%Y%m%dT%H%M')"
   ]
  },
  {
   "cell_type": "code",
   "execution_count": 15,
   "metadata": {},
   "outputs": [
    {
     "name": "stdout",
     "output_type": "stream",
     "text": [
      "Help on module scripts.interactive_inputs in scripts:\n",
      "\n",
      "NAME\n",
      "    scripts.interactive_inputs - Created  on Sep  2018\n",
      "\n",
      "DESCRIPTION\n",
      "    @author: Lori Garzio\n",
      "    @brief: provides interactive inputs for data download\n",
      "\n",
      "FUNCTIONS\n",
      "    return_interactive_inputs()\n",
      "\n",
      "FILE\n",
      "    /Users/leila/anaconda3/lib/python3.7/site-packages/scripts/interactive_inputs.py\n",
      "\n",
      "\n"
     ]
    }
   ],
   "source": [
    "help(interactive_inputs)"
   ]
  },
  {
   "cell_type": "code",
   "execution_count": 18,
   "metadata": {},
   "outputs": [
    {
     "name": "stdout",
     "output_type": "stream",
     "text": [
      "These arrays are listed in the QC Database:\n",
      "['CE', 'CP', 'GA', 'GI', 'GP', 'GS', 'RS']\n",
      "\n",
      "Please select arrays. Must be comma separated (if choosing multiple) or press enter to select all: CP\n",
      "These subsites are listed in the QC Database for the selected array(s):\n",
      "['CP01CNPM', 'CP01CNSM', 'CP01CNSP', 'CP02PMCI', 'CP02PMCO', 'CP02PMUI', 'CP02PMUO', 'CP03ISPM', 'CP03ISSM', 'CP03ISSP', 'CP04OSPM', 'CP04OSSM', 'CP05MOAS']\n",
      "\n",
      "Please select fully-qualified subsites. Must be comma separated (if choosing multiple) or press enter to select all: CP05MOAS\n",
      "\n",
      "These nodes are listed in the QC Database for the selected subsite(s):\n",
      "['A6263', 'A6264', 'GL335', 'GL336', 'GL339', 'GL340', 'GL374', 'GL375', 'GL376', 'GL379', 'GL380', 'GL387', 'GL388', 'GL389', 'PG564', 'PG583']\n",
      "\n",
      "Please select fully-qualified nodes. Must be comma separated (if choosing multiple) or press enter to select all: GL335\n",
      "\n",
      "These instruments are listed in the QC Database for the selected array(s), subsite(s), and node(s):\n",
      "['ADCPA', 'CTDGV', 'DOSTA', 'ENG00', 'FLORT', 'PARAD']\n",
      "\n",
      "Please select instruments (can be partial (e.g. CTD) or fully-qualified (e.g. 03-CTDBPF000)). Must be comma separated (if choosing multiple) or press enter to select all: CTD, DOSTA, FLOR, PAR\n",
      "\n",
      "Please select valid delivery methods [recovered, telemetered, streamed]. Must be comma separated (if choosing multiple) or press enter to select all: recovered, telemetered\n"
     ]
    }
   ],
   "source": [
    "if not f:\n",
    "    array, subsite, node, inst, delivery_methods = interactive_inputs.return_interactive_inputs()\n",
    "    f_url_list = scripts.data_request_urls_ooi1_0.main(sDir, array, subsite, node, inst, delivery_methods, now)"
   ]
  },
  {
   "cell_type": "code",
   "execution_count": 20,
   "metadata": {},
   "outputs": [
    {
     "name": "stdout",
     "output_type": "stream",
     "text": [
      "\n",
      "There are 8 requests to send, are you sure you want to continue? y/<n>: y\n",
      "\n",
      "Request url 1 of 8: https://ooinet.oceanobservatories.org/api/m2m/12576/sensor/inv/CP05MOAS/GL335/03-CTDGVM000/recovered_host/ctdgv_m_glider_instrument_recovered?beginDT=2014-10-06T20:16:00.000Z&endDT=2017-03-06T22:45:00.000Z&include_annotations=true&include_provenance=true\n",
      "Data request sent\n",
      "Data available for request\n",
      "\n",
      "Request url 2 of 8: https://ooinet.oceanobservatories.org/api/m2m/12576/sensor/inv/CP05MOAS/GL335/03-CTDGVM000/telemetered/ctdgv_m_glider_instrument?beginDT=2014-10-06T20:16:00.000Z&endDT=2017-03-06T22:45:00.000Z&include_annotations=true&include_provenance=true\n",
      "Data request sent\n",
      "Data available for request\n",
      "\n",
      "Request url 3 of 8: https://ooinet.oceanobservatories.org/api/m2m/12576/sensor/inv/CP05MOAS/GL335/04-DOSTAM000/recovered_host/dosta_abcdjm_glider_recovered?beginDT=2014-10-06T20:16:00.000Z&endDT=2017-03-06T22:45:00.000Z&include_annotations=true&include_provenance=true\n",
      "Data request sent\n",
      "Data available for request\n",
      "\n",
      "Request url 4 of 8: https://ooinet.oceanobservatories.org/api/m2m/12576/sensor/inv/CP05MOAS/GL335/04-DOSTAM000/telemetered/dosta_abcdjm_glider_instrument?beginDT=2014-10-06T20:16:00.000Z&endDT=2017-03-06T22:45:00.000Z&include_annotations=true&include_provenance=true\n",
      "Data request sent\n",
      "Data available for request\n",
      "\n",
      "Request url 5 of 8: https://ooinet.oceanobservatories.org/api/m2m/12576/sensor/inv/CP05MOAS/GL335/02-FLORTM000/recovered_host/flort_m_sample?beginDT=2014-10-06T20:16:00.000Z&endDT=2017-03-06T22:45:00.000Z&include_annotations=true&include_provenance=true\n",
      "Data request sent\n",
      "Data available for request\n",
      "\n",
      "Request url 6 of 8: https://ooinet.oceanobservatories.org/api/m2m/12576/sensor/inv/CP05MOAS/GL335/02-FLORTM000/telemetered/flort_m_sample?beginDT=2014-10-06T20:16:00.000Z&endDT=2017-03-06T22:45:00.000Z&include_annotations=true&include_provenance=true\n",
      "Data request sent\n",
      "Data available for request\n",
      "\n",
      "Request url 7 of 8: https://ooinet.oceanobservatories.org/api/m2m/12576/sensor/inv/CP05MOAS/GL335/05-PARADM000/recovered_host/parad_m_glider_recovered?beginDT=2014-10-06T20:16:00.000Z&endDT=2017-03-06T22:45:00.000Z&include_annotations=true&include_provenance=true\n",
      "Data request sent\n",
      "Data available for request\n",
      "\n",
      "Request url 8 of 8: https://ooinet.oceanobservatories.org/api/m2m/12576/sensor/inv/CP05MOAS/GL335/05-PARADM000/telemetered/parad_m_glider_instrument?beginDT=2014-10-06T20:16:00.000Z&endDT=2017-03-06T22:45:00.000Z&include_annotations=true&include_provenance=true\n",
      "Data request failed\n",
      "Status from uFrame: : Exceeded user quota for subjob requests (1000 outstanding subjobs >= 2546) for leila.ocean@gmail.com.Please try your request again later.\n",
      "Trying request again in 1 minute\n",
      "Re-sending request: https://ooinet.oceanobservatories.org/api/m2m/12576/sensor/inv/CP05MOAS/GL335/05-PARADM000/telemetered/parad_m_glider_instrument?beginDT=2014-10-06T20:16:00.000Z&endDT=2017-03-06T22:45:00.000Z&include_annotations=true&include_provenance=true\n",
      "Data request failed\n",
      "Status from uFrame: : Exceeded user quota for subjob requests (1000 outstanding subjobs >= 1787) for leila.ocean@gmail.com.Please try your request again later.\n",
      "Trying request again in 1 minute\n",
      "Re-sending request: https://ooinet.oceanobservatories.org/api/m2m/12576/sensor/inv/CP05MOAS/GL335/05-PARADM000/telemetered/parad_m_glider_instrument?beginDT=2014-10-06T20:16:00.000Z&endDT=2017-03-06T22:45:00.000Z&include_annotations=true&include_provenance=true\n",
      "Data request failed\n",
      "Status from uFrame: : Exceeded user quota for subjob requests (1000 outstanding subjobs >= 1068) for leila.ocean@gmail.com.Please try your request again later.\n",
      "Trying request again in 1 minute\n",
      "Re-sending request: https://ooinet.oceanobservatories.org/api/m2m/12576/sensor/inv/CP05MOAS/GL335/05-PARADM000/telemetered/parad_m_glider_instrument?beginDT=2014-10-06T20:16:00.000Z&endDT=2017-03-06T22:45:00.000Z&include_annotations=true&include_provenance=true\n",
      "Data request sent\n",
      "Data available for request\n",
      "\n",
      "Time elapsed sending data requests: 6.33 minutes\n"
     ]
    }
   ],
   "source": [
    "thredds_output_urls = send_data_requests_nc.main(sDir, f_url_list, username, token, now)"
   ]
  },
  {
   "cell_type": "code",
   "execution_count": null,
   "metadata": {},
   "outputs": [],
   "source": [
    "if not f:\n",
    "    array, subsite, node, inst, delivery_methods = scripts.interactive_inputs.return_interactive_inputs()\n",
    "    f_url_list = scripts.data_request_urls_ooi1_0.main(sDir, array, subsite, node, inst, delivery_methods, now)\n",
    "else:\n",
    "    df = pd.read_csv(os.path.join(sDir, f))\n",
    "    url_list = []\n",
    "    for i, j in df.iterrows():\n",
    "        array = scripts.data_request_tools.check_str(j['array'])\n",
    "        array = scripts.data_request_tools.format_inputs(array)\n",
    "        refdes = j['reference_designator']\n",
    "        if type(refdes) == str:\n",
    "            subsite = scripts.data_request_tools.format_inputs(refdes.split('-')[0])\n",
    "            node = scripts.data_request_tools.format_inputs(refdes.split('-')[1])\n",
    "            inst = scripts.data_request_tools.format_inputs('-'.join((refdes.split('-')[2], refdes.split('-')[3])))\n",
    "        else:\n",
    "            subsite = scripts.data_request_tools.check_str(j['subsite'])\n",
    "            subsite = scripts.data_request_tools.format_inputs(subsite)\n",
    "            node = scripts.data_request_tools.check_str(j['node'])\n",
    "            node = scripts.data_request_tools.format_inputs(node)\n",
    "            inst = scripts.data_request_tools.check_str(j['sensor'])\n",
    "            inst = scripts.data_request_tools.format_inputs(inst)\n",
    "        delivery_methods = scripts.data_request_tools.check_str(j['delivery_method'])\n",
    "        delivery_methods = scripts.data_request_tools.format_inputs(delivery_methods)\n",
    "\n",
    "        urls = scripts.data_request_urls_ooi1_0.main(sDir, array, subsite, node, inst, delivery_methods, now)\n",
    "        url_list.append(urls)\n",
    "\n",
    "    f_url_list = list(itertools.chain(*url_list))\n",
    "\n",
    "thredds_output_urls = scripts.send_data_requests_nc.main(sDir, f_url_list, username, token, now)\n",
    "\n",
    "print('\\nSeeing if the requests have fulfilled...')\n",
    "for i in range(len(thredds_output_urls)):\n",
    "    url = thredds_output_urls[i]\n",
    "    print('\\nDataset {} of {}: {}'.format((i + 1), len(thredds_output_urls), url))\n",
    "    if 'no_output_url' not in url:\n",
    "        cf.check_request_status(url)"
   ]
  }
 ],
 "metadata": {
  "kernelspec": {
   "display_name": "Python 3",
   "language": "python",
   "name": "python3"
  },
  "language_info": {
   "codemirror_mode": {
    "name": "ipython",
    "version": 3
   },
   "file_extension": ".py",
   "mimetype": "text/x-python",
   "name": "python",
   "nbconvert_exporter": "python",
   "pygments_lexer": "ipython3",
   "version": "3.7.2"
  }
 },
 "nbformat": 4,
 "nbformat_minor": 2
}
