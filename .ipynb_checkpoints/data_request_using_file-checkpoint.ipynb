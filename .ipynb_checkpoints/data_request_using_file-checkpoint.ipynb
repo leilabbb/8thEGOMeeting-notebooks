{
 "cells": [
  {
   "cell_type": "markdown",
   "metadata": {},
   "source": [
    "# Request and download data for a list of instruments:\n",
    "This is a step by step python code to build netCDF data request urls for pre-selected instruments in a file and send requests if prompted"
   ]
  },
  {
   "cell_type": "markdown",
   "metadata": {},
   "source": [
    "### Input variables:"
   ]
  },
  {
   "cell_type": "code",
   "execution_count": 39,
   "metadata": {},
   "outputs": [],
   "source": [
    "sDir = '/Users/leila/Documents/Desktop/tobe'#directory where outputs are saved\n",
    "username = '' #OOI API username\n",
    "token = '' # OOI API password\n",
    "f = '/Users/leila/Documents/NSFEduSupport/github/8thEGOMeeting-notebooks/instrument_list.csv'# file with pre-selected list of instruments\n",
    "# the following column names should in the file: ['array','subsite','node','sensor','delivery_method','reference_designator']\n"
   ]
  },
  {
   "cell_type": "markdown",
   "metadata": {},
   "source": [
    "### Import functions:"
   ]
  },
  {
   "cell_type": "code",
   "execution_count": 40,
   "metadata": {},
   "outputs": [],
   "source": [
    "import datetime as dt\n",
    "import pandas as pd\n",
    "import os\n",
    "import itertools\n",
    "import functions.common as cf\n",
    "from scripts import data_request_urls_ooi1_0\n",
    "from scripts import send_data_requests_nc\n",
    "from scripts import data_request_tools"
   ]
  },
  {
   "cell_type": "markdown",
   "metadata": {},
   "source": [
    "### Read input file:"
   ]
  },
  {
   "cell_type": "code",
   "execution_count": 41,
   "metadata": {},
   "outputs": [],
   "source": [
    "df = pd.read_csv(os.path.join(sDir, f))"
   ]
  },
  {
   "cell_type": "markdown",
   "metadata": {},
   "source": [
    "### Create request urls for instruments in the read file:"
   ]
  },
  {
   "cell_type": "code",
   "execution_count": 44,
   "metadata": {},
   "outputs": [
    {
     "name": "stdout",
     "output_type": "stream",
     "text": [
      "CP05MOAS-GL336-03-CTDGVM000 ['telemetered']\n",
      "[['https://ooinet.oceanobservatories.org/api/m2m/12576/sensor/inv/CP05MOAS/GL336/03-CTDGVM000/telemetered/ctdgv_m_glider_instrument?beginDT=2015-01-11T20:57:00.000Z&endDT=2018-04-03T11:50:00.000Z&include_annotations=true&include_provenance=true']]\n",
      "CP05MOAS-GL336-04-DOSTAM000 ['telemetered']\n",
      "[['https://ooinet.oceanobservatories.org/api/m2m/12576/sensor/inv/CP05MOAS/GL336/03-CTDGVM000/telemetered/ctdgv_m_glider_instrument?beginDT=2015-01-11T20:57:00.000Z&endDT=2018-04-03T11:50:00.000Z&include_annotations=true&include_provenance=true'], ['https://ooinet.oceanobservatories.org/api/m2m/12576/sensor/inv/CP05MOAS/GL336/04-DOSTAM000/telemetered/dosta_abcdjm_glider_instrument?beginDT=2015-01-11T20:57:00.000Z&endDT=2018-04-03T11:50:00.000Z&include_annotations=true&include_provenance=true']]\n",
      "CP05MOAS-GL336-05-PARADM000 ['telemetered']\n",
      "[['https://ooinet.oceanobservatories.org/api/m2m/12576/sensor/inv/CP05MOAS/GL336/03-CTDGVM000/telemetered/ctdgv_m_glider_instrument?beginDT=2015-01-11T20:57:00.000Z&endDT=2018-04-03T11:50:00.000Z&include_annotations=true&include_provenance=true'], ['https://ooinet.oceanobservatories.org/api/m2m/12576/sensor/inv/CP05MOAS/GL336/04-DOSTAM000/telemetered/dosta_abcdjm_glider_instrument?beginDT=2015-01-11T20:57:00.000Z&endDT=2018-04-03T11:50:00.000Z&include_annotations=true&include_provenance=true'], ['https://ooinet.oceanobservatories.org/api/m2m/12576/sensor/inv/CP05MOAS/GL336/05-PARADM000/telemetered/parad_m_glider_instrument?beginDT=2015-01-11T20:57:00.000Z&endDT=2018-04-03T11:50:00.000Z&include_annotations=true&include_provenance=true']]\n",
      "CP05MOAS-GL336-02-FLORTM000 ['telemetered']\n",
      "[['https://ooinet.oceanobservatories.org/api/m2m/12576/sensor/inv/CP05MOAS/GL336/03-CTDGVM000/telemetered/ctdgv_m_glider_instrument?beginDT=2015-01-11T20:57:00.000Z&endDT=2018-04-03T11:50:00.000Z&include_annotations=true&include_provenance=true'], ['https://ooinet.oceanobservatories.org/api/m2m/12576/sensor/inv/CP05MOAS/GL336/04-DOSTAM000/telemetered/dosta_abcdjm_glider_instrument?beginDT=2015-01-11T20:57:00.000Z&endDT=2018-04-03T11:50:00.000Z&include_annotations=true&include_provenance=true'], ['https://ooinet.oceanobservatories.org/api/m2m/12576/sensor/inv/CP05MOAS/GL336/05-PARADM000/telemetered/parad_m_glider_instrument?beginDT=2015-01-11T20:57:00.000Z&endDT=2018-04-03T11:50:00.000Z&include_annotations=true&include_provenance=true'], ['https://ooinet.oceanobservatories.org/api/m2m/12576/sensor/inv/CP05MOAS/GL336/02-FLORTM000/telemetered/flort_m_sample?beginDT=2015-01-11T20:57:00.000Z&endDT=2018-04-03T11:50:00.000Z&include_annotations=true&include_provenance=true']]\n",
      "CP05MOAS-GL336-03-CTDGVM000 ['recovered']\n",
      "[['https://ooinet.oceanobservatories.org/api/m2m/12576/sensor/inv/CP05MOAS/GL336/03-CTDGVM000/telemetered/ctdgv_m_glider_instrument?beginDT=2015-01-11T20:57:00.000Z&endDT=2018-04-03T11:50:00.000Z&include_annotations=true&include_provenance=true'], ['https://ooinet.oceanobservatories.org/api/m2m/12576/sensor/inv/CP05MOAS/GL336/04-DOSTAM000/telemetered/dosta_abcdjm_glider_instrument?beginDT=2015-01-11T20:57:00.000Z&endDT=2018-04-03T11:50:00.000Z&include_annotations=true&include_provenance=true'], ['https://ooinet.oceanobservatories.org/api/m2m/12576/sensor/inv/CP05MOAS/GL336/05-PARADM000/telemetered/parad_m_glider_instrument?beginDT=2015-01-11T20:57:00.000Z&endDT=2018-04-03T11:50:00.000Z&include_annotations=true&include_provenance=true'], ['https://ooinet.oceanobservatories.org/api/m2m/12576/sensor/inv/CP05MOAS/GL336/02-FLORTM000/telemetered/flort_m_sample?beginDT=2015-01-11T20:57:00.000Z&endDT=2018-04-03T11:50:00.000Z&include_annotations=true&include_provenance=true'], ['https://ooinet.oceanobservatories.org/api/m2m/12576/sensor/inv/CP05MOAS/GL336/03-CTDGVM000/recovered_host/ctdgv_m_glider_instrument_recovered?beginDT=2015-01-11T20:57:00.000Z&endDT=2018-04-03T11:50:00.000Z&include_annotations=true&include_provenance=true']]\n",
      "CP05MOAS-GL336-04-DOSTAM000 ['recovered']\n",
      "[['https://ooinet.oceanobservatories.org/api/m2m/12576/sensor/inv/CP05MOAS/GL336/03-CTDGVM000/telemetered/ctdgv_m_glider_instrument?beginDT=2015-01-11T20:57:00.000Z&endDT=2018-04-03T11:50:00.000Z&include_annotations=true&include_provenance=true'], ['https://ooinet.oceanobservatories.org/api/m2m/12576/sensor/inv/CP05MOAS/GL336/04-DOSTAM000/telemetered/dosta_abcdjm_glider_instrument?beginDT=2015-01-11T20:57:00.000Z&endDT=2018-04-03T11:50:00.000Z&include_annotations=true&include_provenance=true'], ['https://ooinet.oceanobservatories.org/api/m2m/12576/sensor/inv/CP05MOAS/GL336/05-PARADM000/telemetered/parad_m_glider_instrument?beginDT=2015-01-11T20:57:00.000Z&endDT=2018-04-03T11:50:00.000Z&include_annotations=true&include_provenance=true'], ['https://ooinet.oceanobservatories.org/api/m2m/12576/sensor/inv/CP05MOAS/GL336/02-FLORTM000/telemetered/flort_m_sample?beginDT=2015-01-11T20:57:00.000Z&endDT=2018-04-03T11:50:00.000Z&include_annotations=true&include_provenance=true'], ['https://ooinet.oceanobservatories.org/api/m2m/12576/sensor/inv/CP05MOAS/GL336/03-CTDGVM000/recovered_host/ctdgv_m_glider_instrument_recovered?beginDT=2015-01-11T20:57:00.000Z&endDT=2018-04-03T11:50:00.000Z&include_annotations=true&include_provenance=true'], ['https://ooinet.oceanobservatories.org/api/m2m/12576/sensor/inv/CP05MOAS/GL336/04-DOSTAM000/recovered_host/dosta_abcdjm_glider_recovered?beginDT=2015-01-11T20:57:00.000Z&endDT=2018-04-03T11:50:00.000Z&include_annotations=true&include_provenance=true']]\n",
      "CP05MOAS-GL336-05-PARADM000 ['recovered']\n",
      "[['https://ooinet.oceanobservatories.org/api/m2m/12576/sensor/inv/CP05MOAS/GL336/03-CTDGVM000/telemetered/ctdgv_m_glider_instrument?beginDT=2015-01-11T20:57:00.000Z&endDT=2018-04-03T11:50:00.000Z&include_annotations=true&include_provenance=true'], ['https://ooinet.oceanobservatories.org/api/m2m/12576/sensor/inv/CP05MOAS/GL336/04-DOSTAM000/telemetered/dosta_abcdjm_glider_instrument?beginDT=2015-01-11T20:57:00.000Z&endDT=2018-04-03T11:50:00.000Z&include_annotations=true&include_provenance=true'], ['https://ooinet.oceanobservatories.org/api/m2m/12576/sensor/inv/CP05MOAS/GL336/05-PARADM000/telemetered/parad_m_glider_instrument?beginDT=2015-01-11T20:57:00.000Z&endDT=2018-04-03T11:50:00.000Z&include_annotations=true&include_provenance=true'], ['https://ooinet.oceanobservatories.org/api/m2m/12576/sensor/inv/CP05MOAS/GL336/02-FLORTM000/telemetered/flort_m_sample?beginDT=2015-01-11T20:57:00.000Z&endDT=2018-04-03T11:50:00.000Z&include_annotations=true&include_provenance=true'], ['https://ooinet.oceanobservatories.org/api/m2m/12576/sensor/inv/CP05MOAS/GL336/03-CTDGVM000/recovered_host/ctdgv_m_glider_instrument_recovered?beginDT=2015-01-11T20:57:00.000Z&endDT=2018-04-03T11:50:00.000Z&include_annotations=true&include_provenance=true'], ['https://ooinet.oceanobservatories.org/api/m2m/12576/sensor/inv/CP05MOAS/GL336/04-DOSTAM000/recovered_host/dosta_abcdjm_glider_recovered?beginDT=2015-01-11T20:57:00.000Z&endDT=2018-04-03T11:50:00.000Z&include_annotations=true&include_provenance=true'], ['https://ooinet.oceanobservatories.org/api/m2m/12576/sensor/inv/CP05MOAS/GL336/05-PARADM000/recovered_host/parad_m_glider_recovered?beginDT=2015-01-11T20:57:00.000Z&endDT=2018-04-03T11:50:00.000Z&include_annotations=true&include_provenance=true']]\n",
      "CP05MOAS-GL336-02-FLORTM000 ['recovered']\n",
      "[['https://ooinet.oceanobservatories.org/api/m2m/12576/sensor/inv/CP05MOAS/GL336/03-CTDGVM000/telemetered/ctdgv_m_glider_instrument?beginDT=2015-01-11T20:57:00.000Z&endDT=2018-04-03T11:50:00.000Z&include_annotations=true&include_provenance=true'], ['https://ooinet.oceanobservatories.org/api/m2m/12576/sensor/inv/CP05MOAS/GL336/04-DOSTAM000/telemetered/dosta_abcdjm_glider_instrument?beginDT=2015-01-11T20:57:00.000Z&endDT=2018-04-03T11:50:00.000Z&include_annotations=true&include_provenance=true'], ['https://ooinet.oceanobservatories.org/api/m2m/12576/sensor/inv/CP05MOAS/GL336/05-PARADM000/telemetered/parad_m_glider_instrument?beginDT=2015-01-11T20:57:00.000Z&endDT=2018-04-03T11:50:00.000Z&include_annotations=true&include_provenance=true'], ['https://ooinet.oceanobservatories.org/api/m2m/12576/sensor/inv/CP05MOAS/GL336/02-FLORTM000/telemetered/flort_m_sample?beginDT=2015-01-11T20:57:00.000Z&endDT=2018-04-03T11:50:00.000Z&include_annotations=true&include_provenance=true'], ['https://ooinet.oceanobservatories.org/api/m2m/12576/sensor/inv/CP05MOAS/GL336/03-CTDGVM000/recovered_host/ctdgv_m_glider_instrument_recovered?beginDT=2015-01-11T20:57:00.000Z&endDT=2018-04-03T11:50:00.000Z&include_annotations=true&include_provenance=true'], ['https://ooinet.oceanobservatories.org/api/m2m/12576/sensor/inv/CP05MOAS/GL336/04-DOSTAM000/recovered_host/dosta_abcdjm_glider_recovered?beginDT=2015-01-11T20:57:00.000Z&endDT=2018-04-03T11:50:00.000Z&include_annotations=true&include_provenance=true'], ['https://ooinet.oceanobservatories.org/api/m2m/12576/sensor/inv/CP05MOAS/GL336/05-PARADM000/recovered_host/parad_m_glider_recovered?beginDT=2015-01-11T20:57:00.000Z&endDT=2018-04-03T11:50:00.000Z&include_annotations=true&include_provenance=true'], ['https://ooinet.oceanobservatories.org/api/m2m/12576/sensor/inv/CP05MOAS/GL336/02-FLORTM000/recovered_host/flort_m_sample?beginDT=2015-01-11T20:57:00.000Z&endDT=2018-04-03T11:50:00.000Z&include_annotations=true&include_provenance=true']]\n"
     ]
    }
   ],
   "source": [
    "now = dt.datetime.now().strftime('%Y%m%dT%H%M')\n",
    "url_list = []\n",
    "for i, j in df.iterrows():\n",
    "    array = data_request_tools.check_str(j['array'])\n",
    "    array = data_request_tools.format_inputs(array)\n",
    "    refdes = j['reference_designator']\n",
    "    if type(refdes) == str:\n",
    "        subsite = data_request_tools.format_inputs(refdes.split('-')[0])\n",
    "        node = data_request_tools.format_inputs(refdes.split('-')[1])\n",
    "        inst = data_request_tools.format_inputs('-'.join((refdes.split('-')[2], refdes.split('-')[3])))\n",
    "    else:\n",
    "        subsite = data_request_tools.check_str(j['subsite'])\n",
    "        subsite = data_request_tools.format_inputs(subsite)\n",
    "        node = data_request_tools.check_str(j['node'])\n",
    "        node = data_request_tools.format_inputs(node)\n",
    "        inst = data_request_tools.check_str(j['sensor'])\n",
    "        inst = data_request_tools.format_inputs(inst)\n",
    "    delivery_methods = data_request_tools.check_str(j['delivery_method'])\n",
    "    delivery_methods = data_request_tools.format_inputs(delivery_methods)\n",
    "    \n",
    "    print(refdes, delivery_methods)\n",
    "    urls = data_request_urls_ooi1_0.main(sDir, array, subsite, node, inst, delivery_methods, now)\n",
    "    url_list.append(urls)\n",
    "    print(url_list)"
   ]
  },
  {
   "cell_type": "markdown",
   "metadata": {},
   "source": [
    "### Send url requests:"
   ]
  },
  {
   "cell_type": "code",
   "execution_count": 45,
   "metadata": {},
   "outputs": [
    {
     "name": "stdout",
     "output_type": "stream",
     "text": [
      "\n",
      "There are 8 requests to send, are you sure you want to continue? y/<n>: y\n",
      "\n",
      "Request url 1 of 8: https://ooinet.oceanobservatories.org/api/m2m/12576/sensor/inv/CP05MOAS/GL336/03-CTDGVM000/telemetered/ctdgv_m_glider_instrument?beginDT=2015-01-11T20:57:00.000Z&endDT=2018-04-03T11:50:00.000Z&include_annotations=true&include_provenance=true\n",
      "Data request sent\n",
      "Data available for request\n",
      "\n",
      "Request url 2 of 8: https://ooinet.oceanobservatories.org/api/m2m/12576/sensor/inv/CP05MOAS/GL336/04-DOSTAM000/telemetered/dosta_abcdjm_glider_instrument?beginDT=2015-01-11T20:57:00.000Z&endDT=2018-04-03T11:50:00.000Z&include_annotations=true&include_provenance=true\n",
      "Data request sent\n",
      "Data available for request\n",
      "\n",
      "Request url 3 of 8: https://ooinet.oceanobservatories.org/api/m2m/12576/sensor/inv/CP05MOAS/GL336/05-PARADM000/telemetered/parad_m_glider_instrument?beginDT=2015-01-11T20:57:00.000Z&endDT=2018-04-03T11:50:00.000Z&include_annotations=true&include_provenance=true\n",
      "Data request sent\n",
      "Data available for request\n",
      "\n",
      "Request url 4 of 8: https://ooinet.oceanobservatories.org/api/m2m/12576/sensor/inv/CP05MOAS/GL336/02-FLORTM000/telemetered/flort_m_sample?beginDT=2015-01-11T20:57:00.000Z&endDT=2018-04-03T11:50:00.000Z&include_annotations=true&include_provenance=true\n",
      "Data request sent\n",
      "Data available for request\n",
      "\n",
      "Request url 5 of 8: https://ooinet.oceanobservatories.org/api/m2m/12576/sensor/inv/CP05MOAS/GL336/03-CTDGVM000/recovered_host/ctdgv_m_glider_instrument_recovered?beginDT=2015-01-11T20:57:00.000Z&endDT=2018-04-03T11:50:00.000Z&include_annotations=true&include_provenance=true\n",
      "Data request sent\n",
      "Data available for request\n",
      "\n",
      "Request url 6 of 8: https://ooinet.oceanobservatories.org/api/m2m/12576/sensor/inv/CP05MOAS/GL336/04-DOSTAM000/recovered_host/dosta_abcdjm_glider_recovered?beginDT=2015-01-11T20:57:00.000Z&endDT=2018-04-03T11:50:00.000Z&include_annotations=true&include_provenance=true\n",
      "Data request sent\n",
      "Data available for request\n",
      "\n",
      "Request url 7 of 8: https://ooinet.oceanobservatories.org/api/m2m/12576/sensor/inv/CP05MOAS/GL336/05-PARADM000/recovered_host/parad_m_glider_recovered?beginDT=2015-01-11T20:57:00.000Z&endDT=2018-04-03T11:50:00.000Z&include_annotations=true&include_provenance=true\n",
      "Data request failed\n",
      "Status from uFrame: : Exceeded user quota for subjob requests (1000 outstanding subjobs >= 1113) for leila.ocean@gmail.com.Please try your request again later.\n",
      "Trying request again in 1 minute\n",
      "Re-sending request: https://ooinet.oceanobservatories.org/api/m2m/12576/sensor/inv/CP05MOAS/GL336/05-PARADM000/recovered_host/parad_m_glider_recovered?beginDT=2015-01-11T20:57:00.000Z&endDT=2018-04-03T11:50:00.000Z&include_annotations=true&include_provenance=true\n",
      "Data request sent\n",
      "Data available for request\n",
      "\n",
      "Request url 8 of 8: https://ooinet.oceanobservatories.org/api/m2m/12576/sensor/inv/CP05MOAS/GL336/02-FLORTM000/recovered_host/flort_m_sample?beginDT=2015-01-11T20:57:00.000Z&endDT=2018-04-03T11:50:00.000Z&include_annotations=true&include_provenance=true\n",
      "Data request failed\n",
      "Status from uFrame: : Exceeded user quota for subjob requests (1000 outstanding subjobs >= 3130) for leila.ocean@gmail.com.Please try your request again later.\n",
      "Trying request again in 1 minute\n",
      "Re-sending request: https://ooinet.oceanobservatories.org/api/m2m/12576/sensor/inv/CP05MOAS/GL336/02-FLORTM000/recovered_host/flort_m_sample?beginDT=2015-01-11T20:57:00.000Z&endDT=2018-04-03T11:50:00.000Z&include_annotations=true&include_provenance=true\n",
      "Data request failed\n",
      "Status from uFrame: : Exceeded user quota for subjob requests (1000 outstanding subjobs >= 2430) for leila.ocean@gmail.com.Please try your request again later.\n",
      "Trying request again in 1 minute\n",
      "Re-sending request: https://ooinet.oceanobservatories.org/api/m2m/12576/sensor/inv/CP05MOAS/GL336/02-FLORTM000/recovered_host/flort_m_sample?beginDT=2015-01-11T20:57:00.000Z&endDT=2018-04-03T11:50:00.000Z&include_annotations=true&include_provenance=true\n",
      "Data request failed\n",
      "Status from uFrame: : Exceeded user quota for subjob requests (1000 outstanding subjobs >= 1585) for leila.ocean@gmail.com.Please try your request again later.\n",
      "Trying request again in 1 minute\n",
      "Re-sending request: https://ooinet.oceanobservatories.org/api/m2m/12576/sensor/inv/CP05MOAS/GL336/02-FLORTM000/recovered_host/flort_m_sample?beginDT=2015-01-11T20:57:00.000Z&endDT=2018-04-03T11:50:00.000Z&include_annotations=true&include_provenance=true\n",
      "Data request sent\n",
      "Data available for request\n",
      "\n",
      "Time elapsed sending data requests: 4.10 minutes\n"
     ]
    }
   ],
   "source": [
    "f_url_list = list(itertools.chain(*url_list))\n",
    "\n",
    "thredds_output_urls = send_data_requests_nc.main(sDir, f_url_list, username, token, now)"
   ]
  },
  {
   "cell_type": "markdown",
   "metadata": {},
   "source": [
    "### Seeing if the requests have fulfilled:"
   ]
  },
  {
   "cell_type": "code",
   "execution_count": 46,
   "metadata": {},
   "outputs": [
    {
     "name": "stdout",
     "output_type": "stream",
     "text": [
      "\n",
      "Dataset 1 of 8: https://opendap.oceanobservatories.org/thredds/catalog/ooi/leila.ocean@gmail.com/20190322T153940-CP05MOAS-GL336-03-CTDGVM000-telemetered-ctdgv_m_glider_instrument/catalog.html\n",
      "Data request is still fulfilling. Trying again in 1 minute.\n",
      "Data request is still fulfilling. Trying again in 1 minute.\n",
      "Data request is still fulfilling. Trying again in 1 minute.\n",
      "Data request has fulfilled.\n",
      "\n",
      "Dataset 2 of 8: https://opendap.oceanobservatories.org/thredds/catalog/ooi/leila.ocean@gmail.com/20190322T153941-CP05MOAS-GL336-04-DOSTAM000-telemetered-dosta_abcdjm_glider_instrument/catalog.html\n",
      "Data request has fulfilled.\n",
      "\n",
      "Dataset 3 of 8: https://opendap.oceanobservatories.org/thredds/catalog/ooi/leila.ocean@gmail.com/20190322T153941-CP05MOAS-GL336-05-PARADM000-telemetered-parad_m_glider_instrument/catalog.html\n",
      "Data request has fulfilled.\n",
      "\n",
      "Dataset 4 of 8: https://opendap.oceanobservatories.org/thredds/catalog/ooi/leila.ocean@gmail.com/20190322T153941-CP05MOAS-GL336-02-FLORTM000-telemetered-flort_m_sample/catalog.html\n",
      "Data request is still fulfilling. Trying again in 1 minute.\n",
      "Data request has fulfilled.\n",
      "\n",
      "Dataset 5 of 8: https://opendap.oceanobservatories.org/thredds/catalog/ooi/leila.ocean@gmail.com/20190322T153941-CP05MOAS-GL336-03-CTDGVM000-recovered_host-ctdgv_m_glider_instrument_recovered/catalog.html\n",
      "Data request has fulfilled.\n",
      "\n",
      "Dataset 6 of 8: https://opendap.oceanobservatories.org/thredds/catalog/ooi/leila.ocean@gmail.com/20190322T153942-CP05MOAS-GL336-04-DOSTAM000-recovered_host-dosta_abcdjm_glider_recovered/catalog.html\n",
      "Data request has fulfilled.\n",
      "\n",
      "Dataset 7 of 8: https://opendap.oceanobservatories.org/thredds/catalog/ooi/leila.ocean@gmail.com/20190322T154042-CP05MOAS-GL336-05-PARADM000-recovered_host-parad_m_glider_recovered/catalog.html\n",
      "Data request is still fulfilling. Trying again in 1 minute.\n",
      "Data request has fulfilled.\n",
      "\n",
      "Dataset 8 of 8: https://opendap.oceanobservatories.org/thredds/catalog/ooi/leila.ocean@gmail.com/20190322T154344-CP05MOAS-GL336-02-FLORTM000-recovered_host-flort_m_sample/catalog.html\n",
      "Data request has fulfilled.\n"
     ]
    }
   ],
   "source": [
    "for i in range(len(thredds_output_urls)):\n",
    "    url = thredds_output_urls[i]\n",
    "    print('\\nDataset {} of {}: {}'.format((i + 1), len(thredds_output_urls), url))\n",
    "    if 'no_output_url' not in url:\n",
    "        cf.check_request_status(url)"
   ]
  }
 ],
 "metadata": {
  "kernelspec": {
   "display_name": "Python 3",
   "language": "python",
   "name": "python3"
  },
  "language_info": {
   "codemirror_mode": {
    "name": "ipython",
    "version": 3
   },
   "file_extension": ".py",
   "mimetype": "text/x-python",
   "name": "python",
   "nbconvert_exporter": "python",
   "pygments_lexer": "ipython3",
   "version": "3.7.2"
  }
 },
 "nbformat": 4,
 "nbformat_minor": 2
}
