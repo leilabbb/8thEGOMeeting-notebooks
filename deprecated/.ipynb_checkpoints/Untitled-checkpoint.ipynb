{
 "cells": [
  {
   "cell_type": "code",
   "execution_count": 2,
   "metadata": {},
   "outputs": [],
   "source": [
    "import pandas as pd"
   ]
  },
  {
   "cell_type": "code",
   "execution_count": 3,
   "metadata": {},
   "outputs": [],
   "source": [
    "index = pd.MultiIndex.from_tuples([('Pressure', 'Pressure Comparison'),                                  \n",
    "                                   ('Coordinates', 'Missing Coordinates' )],\n",
    "                                   names=['Tests', 'Names'])\n",
    "\n",
    "index_def = ['Instrument deployment depth defined in OOI Asset Management system / maximum pressure calculated from data file after eliminating data outside of global ranges and outliers (3 standard deviations).',\n",
    "             'Check the coordinates in the data file against expected coordinates: obs, time, lat, lon, pressure (for instruments not located on a surface buoy).']"
   ]
  },
  {
   "cell_type": "code",
   "execution_count": 4,
   "metadata": {},
   "outputs": [
    {
     "data": {
      "text/html": [
       "<div>\n",
       "<style scoped>\n",
       "    .dataframe tbody tr th:only-of-type {\n",
       "        vertical-align: middle;\n",
       "    }\n",
       "\n",
       "    .dataframe tbody tr th {\n",
       "        vertical-align: top;\n",
       "    }\n",
       "\n",
       "    .dataframe thead th {\n",
       "        text-align: right;\n",
       "    }\n",
       "</style>\n",
       "<table border=\"1\" class=\"dataframe\">\n",
       "  <thead>\n",
       "    <tr style=\"text-align: right;\">\n",
       "      <th></th>\n",
       "      <th></th>\n",
       "      <th>Definition</th>\n",
       "    </tr>\n",
       "    <tr>\n",
       "      <th>Tests</th>\n",
       "      <th>Names</th>\n",
       "      <th></th>\n",
       "    </tr>\n",
       "  </thead>\n",
       "  <tbody>\n",
       "    <tr>\n",
       "      <th>Pressure</th>\n",
       "      <th>Pressure Comparison</th>\n",
       "      <td>Instrument deployment depth defined in OOI Asset Management system / maximum pressure calculated from data file after eliminating data outside of global ranges and outliers (3 standard deviations).</td>\n",
       "    </tr>\n",
       "    <tr>\n",
       "      <th>Coordinates</th>\n",
       "      <th>Missing Coordinates</th>\n",
       "      <td>Check the coordinates in the data file against expected coordinates: obs, time, lat, lon, pressure (for instruments not located on a surface buoy).</td>\n",
       "    </tr>\n",
       "  </tbody>\n",
       "</table>\n",
       "</div>"
      ],
      "text/plain": [
       "                                                                                                                                                                                                                            Definition\n",
       "Tests       Names                                                                                                                                                                                                                     \n",
       "Pressure    Pressure Comparison  Instrument deployment depth defined in OOI Asset Management system / maximum pressure calculated from data file after eliminating data outside of global ranges and outliers (3 standard deviations).\n",
       "Coordinates Missing Coordinates  Check the coordinates in the data file against expected coordinates: obs, time, lat, lon, pressure (for instruments not located on a surface buoy).                                                  "
      ]
     },
     "execution_count": 4,
     "metadata": {},
     "output_type": "execute_result"
    }
   ],
   "source": [
    "pd.set_option('display.max_colwidth', -1)\n",
    "pd.DataFrame({'Definition':index_def},index=index)"
   ]
  },
  {
   "cell_type": "markdown",
   "metadata": {},
   "source": [
    "<p style=\"color:green; font-size:1.1em;\">Pressure Comparison:</p>\n",
    "<p style=\"color:blue\">Deploy Depth   (vs)   Max Pressure</p>"
   ]
  },
  {
   "cell_type": "code",
   "execution_count": null,
   "metadata": {},
   "outputs": [],
   "source": [
    "index = pd.MultiIndex.from_tuples([('Data Coverage', 'Deployment Days'),\n",
    "                                   ('Data Coverage', 'File Days'),\n",
    "                                   ('Data Coverage', 'Start Gap'),\n",
    "                                   ('Data Coverage','End Gap'),\n",
    "                                   ('Data Coverage','Timestamps'),\n",
    "                                   ('Data Coverage','Sampling Rate'),\n",
    "                                   ('Time Order', 'Ascending Order' ),\n",
    "                                   ('Time Order', 'Unique Timestamps' ),\n",
    "                                   ('Gap Identification', 'End Gap'),\n",
    "                                   ('Gap Identification', 'Gaps Count'),\n",
    "                                   ('Gap Identification', 'Gap Days')],\n",
    "                                   names=['Tests', 'Names'])\n",
    "\n",
    "index_def = ['Number of days the instrument was deployed.',\n",
    "             'Number of days for which there is at least 1 timestamp available for the instrument.',\n",
    "             'Number of missing days at the start of a deployment: comparison of the deployment start date to the data start date.',\n",
    "             'Number of missing days at the end of a deployment: comparison of the deployment end date to the data end date.',\n",
    "             'Number of timestamps in a data file.',\n",
    "             'Sampling rates are calculated from the differences in timestamps. The most common sampling rate is that which occurs >50%.',\n",
    "             'Timestamps in the file are unique .',\n",
    "             'Timestamps in the file are in ascending order',\n",
    "             'Number of missing days at the end of a deployment: comparison of the deployment end date to the data end date.',\n",
    "             'Number of gaps within a data file (exclusive of missing data at the beginning and end of a deployment). Gap is defined as >1 day of missing data.',\n",
    "             'Number of days of missing data within a data file (exclusive of missing data at the beginning and end of a deployment).']"
   ]
  },
  {
   "cell_type": "code",
   "execution_count": null,
   "metadata": {},
   "outputs": [],
   "source": [
    "pd.DataFrame({'Definition':index_def},index=index)"
   ]
  }
 ],
 "metadata": {
  "kernelspec": {
   "display_name": "Python 3",
   "language": "python",
   "name": "python3"
  },
  "language_info": {
   "codemirror_mode": {
    "name": "ipython",
    "version": 3
   },
   "file_extension": ".py",
   "mimetype": "text/x-python",
   "name": "python",
   "nbconvert_exporter": "python",
   "pygments_lexer": "ipython3",
   "version": "3.7.2"
  }
 },
 "nbformat": 4,
 "nbformat_minor": 2
}
