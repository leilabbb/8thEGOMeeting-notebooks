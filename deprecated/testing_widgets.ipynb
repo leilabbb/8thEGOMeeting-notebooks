{
 "cells": [
  {
   "cell_type": "code",
   "execution_count": 6,
   "metadata": {},
   "outputs": [],
   "source": [
    "import xarray as xr\n",
    "import hvplot.xarray\n",
    "url = (\n",
    "    'https://opendap.oceanobservatories.org/thredds/dodsC/ooi/leila.ocean@gmail.com/20190306T174413-CP05MOAS-GL379-03-CTDGVM000-recovered_host-ctdgv_m_glider_instrument_recovered/deployment0001_CP05MOAS-GL379-00-ENG000000-recovered_host-glider_gps_position_20140415T132204.291720-20140706T213444.950870.nc'\n",
    ")\n",
    "ds = xr.open_dataset(url)\n",
    "ds = ds.swap_dims({'obs': 'time'})"
   ]
  },
  {
   "cell_type": "code",
   "execution_count": 7,
   "metadata": {},
   "outputs": [
    {
     "data": {
      "text/plain": [
       "<xarray.DataArray 'sci_water_pressure_dbar' (time: 31371)>\n",
       "array([ 0.13    ,  0.13    ,  0.13    , ..., 33.610001, 33.610001, 33.610001])\n",
       "Coordinates:\n",
       "    obs      (time) int32 0 1 2 3 4 5 6 ... 31365 31366 31367 31368 31369 31370\n",
       "  * time     (time) datetime64[ns] 2014-04-15T13:22:04.291719680 ... 2014-07-06T21:34:44.950870016\n",
       "Attributes:\n",
       "    comment:                  Seawater Pressure refers to the pressure exerte...\n",
       "    long_name:                Seawater Pressure\n",
       "    precision:                4\n",
       "    data_product_identifier:  PRESWAT_L1\n",
       "    standard_name:            sea_water_pressure\n",
       "    units:                    dbar\n",
       "    instrument:               CP05MOAS-GL379-03-CTDGVM000\n",
       "    stream:                   ctdgv_m_glider_instrument_recovered\n",
       "    ancillary_variables:      sci_water_pressure\n",
       "    axis:                     Z\n",
       "    _ChunkSizes:              10000"
      ]
     },
     "execution_count": 7,
     "metadata": {},
     "output_type": "execute_result"
    }
   ],
   "source": [
    "ds['sci_water_pressure_dbar']"
   ]
  },
  {
   "cell_type": "code",
   "execution_count": 9,
   "metadata": {},
   "outputs": [
    {
     "ename": "NameError",
     "evalue": "name 'rho_vars' is not defined",
     "output_type": "error",
     "traceback": [
      "\u001b[0;31m---------------------------------------------------------------------------\u001b[0m",
      "\u001b[0;31mNameError\u001b[0m                                 Traceback (most recent call last)",
      "\u001b[0;32m<ipython-input-9-0fdde1ffcbb4>\u001b[0m in \u001b[0;36m<module>\u001b[0;34m()\u001b[0m\n\u001b[1;32m      3\u001b[0m var_select = panel.widgets.Select(\n\u001b[1;32m      4\u001b[0m     \u001b[0mname\u001b[0m\u001b[0;34m=\u001b[0m\u001b[0;34m'Test Variables:'\u001b[0m\u001b[0;34m,\u001b[0m\u001b[0;34m\u001b[0m\u001b[0;34m\u001b[0m\u001b[0m\n\u001b[0;32m----> 5\u001b[0;31m     \u001b[0moptions\u001b[0m\u001b[0;34m=\u001b[0m\u001b[0mrho_vars\u001b[0m\u001b[0;34m,\u001b[0m\u001b[0;34m\u001b[0m\u001b[0;34m\u001b[0m\u001b[0m\n\u001b[0m\u001b[1;32m      6\u001b[0m     \u001b[0mvalue\u001b[0m\u001b[0;34m=\u001b[0m\u001b[0;34m'sci_water_pressure_dbar'\u001b[0m\u001b[0;34m\u001b[0m\u001b[0;34m\u001b[0m\u001b[0m\n\u001b[1;32m      7\u001b[0m )\n",
      "\u001b[0;31mNameError\u001b[0m: name 'rho_vars' is not defined"
     ]
    }
   ],
   "source": [
    "import panel\n",
    "\n",
    "var_select = panel.widgets.Select(\n",
    "    name='Test Variables:',\n",
    "    options=rho_vars,\n",
    "    value='sci_water_pressure_dbar'\n",
    ")"
   ]
  }
 ],
 "metadata": {
  "celltoolbar": "Slideshow",
  "kernelspec": {
   "display_name": "Python 3",
   "language": "python",
   "name": "python3"
  },
  "language_info": {
   "codemirror_mode": {
    "name": "ipython",
    "version": 3
   },
   "file_extension": ".py",
   "mimetype": "text/x-python",
   "name": "python",
   "nbconvert_exporter": "python",
   "pygments_lexer": "ipython3",
   "version": "3.7.2"
  }
 },
 "nbformat": 4,
 "nbformat_minor": 2
}
