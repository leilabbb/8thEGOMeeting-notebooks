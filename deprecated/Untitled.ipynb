{
 "cells": [
  {
   "cell_type": "code",
   "execution_count": 2,
   "metadata": {},
   "outputs": [],
   "source": [
    "import pandas as pd"
   ]
  },
  {
   "cell_type": "code",
   "execution_count": 3,
   "metadata": {},
   "outputs": [],
   "source": [
    "index = pd.MultiIndex.from_tuples([('Pressure', 'Pressure Comparison'),                                  \n",
    "                                   ('Coordinates', 'Missing Coordinates' )],\n",
    "                                   names=['Tests', 'Names'])\n",
    "\n",
    "index_def = ['Instrument deployment depth defined in OOI Asset Management system / maximum pressure calculated from data file after eliminating data outside of global ranges and outliers (3 standard deviations).',\n",
    "             'Check the coordinates in the data file against expected coordinates: obs, time, lat, lon, pressure (for instruments not located on a surface buoy).']"
   ]
  },
  {
   "cell_type": "code",
   "execution_count": 4,
   "metadata": {},
   "outputs": [
    {
     "data": {
      "text/html": [
       "<div>\n",
       "<style scoped>\n",
       "    .dataframe tbody tr th:only-of-type {\n",
       "        vertical-align: middle;\n",
       "    }\n",
       "\n",
       "    .dataframe tbody tr th {\n",
       "        vertical-align: top;\n",
       "    }\n",
       "\n",
       "    .dataframe thead th {\n",
       "        text-align: right;\n",
       "    }\n",
       "</style>\n",
       "<table border=\"1\" class=\"dataframe\">\n",
       "  <thead>\n",
       "    <tr style=\"text-align: right;\">\n",
       "      <th></th>\n",
       "      <th></th>\n",
       "      <th>Definition</th>\n",
       "    </tr>\n",
       "    <tr>\n",
       "      <th>Tests</th>\n",
       "      <th>Names</th>\n",
       "      <th></th>\n",
       "    </tr>\n",
       "  </thead>\n",
       "  <tbody>\n",
       "    <tr>\n",
       "      <th>Pressure</th>\n",
       "      <th>Pressure Comparison</th>\n",
       "      <td>Instrument deployment depth defined in OOI Asset Management system / maximum pressure calculated from data file after eliminating data outside of global ranges and outliers (3 standard deviations).</td>\n",
       "    </tr>\n",
       "    <tr>\n",
       "      <th>Coordinates</th>\n",
       "      <th>Missing Coordinates</th>\n",
       "      <td>Check the coordinates in the data file against expected coordinates: obs, time, lat, lon, pressure (for instruments not located on a surface buoy).</td>\n",
       "    </tr>\n",
       "  </tbody>\n",
       "</table>\n",
       "</div>"
      ],
      "text/plain": [
       "                                                                                                                                                                                                                            Definition\n",
       "Tests       Names                                                                                                                                                                                                                     \n",
       "Pressure    Pressure Comparison  Instrument deployment depth defined in OOI Asset Management system / maximum pressure calculated from data file after eliminating data outside of global ranges and outliers (3 standard deviations).\n",
       "Coordinates Missing Coordinates  Check the coordinates in the data file against expected coordinates: obs, time, lat, lon, pressure (for instruments not located on a surface buoy).                                                  "
      ]
     },
     "execution_count": 4,
     "metadata": {},
     "output_type": "execute_result"
    }
   ],
   "source": [
    "pd.set_option('display.max_colwidth', -1)\n",
    "pd.DataFrame({'Definition':index_def},index=index)"
   ]
  },
  {
   "cell_type": "markdown",
   "metadata": {},
   "source": [
    "<p style=\"color:green; font-size:1.1em;\">Pressure Comparison:</p>\n",
    "<p style=\"color:blue\">Deploy Depth   (vs)   Max Pressure</p>"
   ]
  },
  {
   "cell_type": "code",
   "execution_count": 1,
   "metadata": {},
   "outputs": [
    {
     "ename": "NameError",
     "evalue": "name 'pd' is not defined",
     "output_type": "error",
     "traceback": [
      "\u001b[0;31m---------------------------------------------------------------------------\u001b[0m",
      "\u001b[0;31mNameError\u001b[0m                                 Traceback (most recent call last)",
      "\u001b[0;32m<ipython-input-1-cc23cb639bce>\u001b[0m in \u001b[0;36m<module>\u001b[0;34m\u001b[0m\n\u001b[0;32m----> 1\u001b[0;31m index = pd.MultiIndex.from_tuples([('Data Coverage', 'Deployment Days'),\n\u001b[0m\u001b[1;32m      2\u001b[0m                                    \u001b[0;34m(\u001b[0m\u001b[0;34m'Data Coverage'\u001b[0m\u001b[0;34m,\u001b[0m \u001b[0;34m'File Days'\u001b[0m\u001b[0;34m)\u001b[0m\u001b[0;34m,\u001b[0m\u001b[0;34m\u001b[0m\u001b[0;34m\u001b[0m\u001b[0m\n\u001b[1;32m      3\u001b[0m                                    \u001b[0;34m(\u001b[0m\u001b[0;34m'Data Coverage'\u001b[0m\u001b[0;34m,\u001b[0m \u001b[0;34m'Start Gap'\u001b[0m\u001b[0;34m)\u001b[0m\u001b[0;34m,\u001b[0m\u001b[0;34m\u001b[0m\u001b[0;34m\u001b[0m\u001b[0m\n\u001b[1;32m      4\u001b[0m                                    \u001b[0;34m(\u001b[0m\u001b[0;34m'Data Coverage'\u001b[0m\u001b[0;34m,\u001b[0m\u001b[0;34m'End Gap'\u001b[0m\u001b[0;34m)\u001b[0m\u001b[0;34m,\u001b[0m\u001b[0;34m\u001b[0m\u001b[0;34m\u001b[0m\u001b[0m\n\u001b[1;32m      5\u001b[0m                                    \u001b[0;34m(\u001b[0m\u001b[0;34m'Data Coverage'\u001b[0m\u001b[0;34m,\u001b[0m\u001b[0;34m'Timestamps'\u001b[0m\u001b[0;34m)\u001b[0m\u001b[0;34m,\u001b[0m\u001b[0;34m\u001b[0m\u001b[0;34m\u001b[0m\u001b[0m\n",
      "\u001b[0;31mNameError\u001b[0m: name 'pd' is not defined"
     ]
    }
   ],
   "source": [
    "index = pd.MultiIndex.from_tuples([('Data Coverage', 'Deployment Days'),\n",
    "                                   ('Data Coverage', 'File Days'),\n",
    "                                   ('Data Coverage', 'Start Gap'),\n",
    "                                   ('Data Coverage','End Gap'),\n",
    "                                   ('Data Coverage','Timestamps'),\n",
    "                                   ('Data Coverage','Sampling Rate'),\n",
    "                                   ('Time Order', 'Ascending Order' ),\n",
    "                                   ('Time Order', 'Unique Timestamps' ),\n",
    "                                   ('Gap Identification', 'End Gap'),\n",
    "                                   ('Gap Identification', 'Gaps Count'),\n",
    "                                   ('Gap Identification', 'Gap Days')],\n",
    "                                   names=['Tests', 'Names'])\n",
    "\n",
    "index_def = ['Number of days the instrument was deployed.',\n",
    "             'Number of days for which there is at least 1 timestamp available for the instrument.',\n",
    "             'Number of missing days at the start of a deployment: comparison of the deployment start date to the data start date.',\n",
    "             'Number of missing days at the end of a deployment: comparison of the deployment end date to the data end date.',\n",
    "             'Number of timestamps in a data file.',\n",
    "             'Sampling rates are calculated from the differences in timestamps. The most common sampling rate is that which occurs >50%.',\n",
    "             'Timestamps in the file are unique .',\n",
    "             'Timestamps in the file are in ascending order',\n",
    "             'Number of missing days at the end of a deployment: comparison of the deployment end date to the data end date.',\n",
    "             'Number of gaps within a data file (exclusive of missing data at the beginning and end of a deployment). Gap is defined as >1 day of missing data.',\n",
    "             'Number of days of missing data within a data file (exclusive of missing data at the beginning and end of a deployment).']"
   ]
  },
  {
   "cell_type": "code",
   "execution_count": null,
   "metadata": {},
   "outputs": [],
   "source": [
    "pd.DataFrame({'Definition':index_def},index=index)"
   ]
  },
  {
   "cell_type": "markdown",
   "metadata": {},
   "source": [
    "| Names           |      Are                                                                                    |\n",
    "|-----------------|:-------------------------------------------------------------------------------------------:|\n",
    "| Deployment Days | Number of days the instrument was deployed.                                                 |\n",
    "| File Days       | Number of days for which there is at least 1 timestamp available for the instrument.        |\n",
    "| Start Gap       | Number of missing days at the start of a deployment.                                        |\n",
    "| End Gap         | Number of missing days at the end of a deployment.                                          |\n",
    "| Timestamps      | Number of timestamps in a data file.                                                        |\n",
    "| Sampling Rate   | Calculated from the differences in timestamps. The most common is that which occurs >50%.   |"
   ]
  },
  {
   "cell_type": "code",
   "execution_count": null,
   "metadata": {},
   "outputs": [],
   "source": [
    "#     # check stream names\n",
    "#     omit_word = ['_dcl', '_imodem', '_conc']   \n",
    "#     ss_new = []\n",
    "    \n",
    "#     for s in ustreams:\n",
    "#         wordi = []\n",
    "#         for word in omit_word:\n",
    "#             if word in s:\n",
    "#                 wordi.append(word)\n",
    "#                 break\n",
    "\n",
    "#         if wordi:\n",
    "#             fix = s.split(wordi[0])\n",
    "#             if len(fix) == 2:\n",
    "#                 ss_new.append(fix[0] + fix[1].split('_recovered')[0])\n",
    "#         elif '_recovered' in s:\n",
    "#             ss_new.append(s.split('_recovered')[0])\n",
    "\n",
    "#         else:\n",
    "#             ss_new.append(s)"
   ]
  },
  {
   "cell_type": "code",
   "execution_count": null,
   "metadata": {},
   "outputs": [],
   "source": [
    "df =  pd.DataFrame()\n",
    "df_sum =  pd.DataFrame()\n",
    "for ii in range(len(d_info)): \n",
    "    index_i = d_info.index.values[ii]\n",
    "    print(index_i)\n",
    "    if len(d_info['methods'].values[ii]) == 2:\n",
    "        print(\"comparing data values with matching timestamps\")\n",
    "        ds0 = xr.open_dataset(d_info['datasets'].values[ii][0])\n",
    "        ds0 = ds0.swap_dims({'obs': 'time'})        \n",
    "        ds0_sci_vars = cf.return_science_vars(d_info['streams'].values[ii][0])\n",
    "        ds0_method = d_info['methods'].values[ii][0]\n",
    "        \n",
    "        ds1 = xr.open_dataset(d_info['datasets'].values[ii][1])\n",
    "        ds1 = ds1.swap_dims({'obs': 'time'})        \n",
    "        ds1_sci_vars = cf.return_science_vars(d_info['streams'].values[ii][1])\n",
    "        ds1_method = d_info['methods'].values[ii][1]\n",
    "        \n",
    "        # define preferred method\n",
    "        if reviewfiles['method'].values[ii] == ds0_method:\n",
    "            preferred_method = 'ds0'\n",
    "            preferred_stream_name = d_info['streams'].values[ii][0]\n",
    "            \n",
    "        elif reviewfiles['method'].values[ii] == ds1_method: \n",
    "            preferred_method = 'ds1'\n",
    "            preferred_stream_name = d_info['streams'].values[ii][1]\n",
    "         \n",
    "        print('preferred_method: ', preferred_method, '(', preferred_stream_name, ')')\n",
    "        # find where the variable long names are the same\n",
    "        ds0names = cf.long_names(ds0, ds0_sci_vars)\n",
    "        ds0names.rename(columns={'name': 'name_ds0'}, inplace=True)\n",
    "        \n",
    "        ds1names = cf.long_names(ds1, ds1_sci_vars)\n",
    "        ds1names.rename(columns={'name': 'name_ds1'}, inplace=True)\n",
    "        \n",
    "        mapping = pd.merge(ds0names, ds1names, on='long_name', how='inner')\n",
    "        print(mapping)\n",
    "        df, missing_data_list, diff_gzero_list, var_list = cf.compare_datasets(df,\n",
    "                                                        mapping, preferred_method,\n",
    "                                              index_i, ds0, ds0_method, ds1, ds1_method)\n",
    "    else:\n",
    "        print(d_info['note'].values[ii])\n",
    "    \n",
    "    fd_test = cf.found_data_in_another_stream(missing_data_list)\n",
    " \n",
    "    comparison_details = cf.found_data_in_another_stream_diff(fd_test, \n",
    "                                                              diff_gzero_list, var_list)\n",
    "    \n",
    "    df_sum0 = pd.DataFrame({'data_comparison': [fd_test],\n",
    "                            'comparison_details': [comparison_details]}\n",
    "                           , index= [d_info.index.values[ii]])\n",
    "    df_sum = df_sum.append(df_sum0)"
   ]
  }
 ],
 "metadata": {
  "kernelspec": {
   "display_name": "Python 3",
   "language": "python",
   "name": "python3"
  },
  "language_info": {
   "codemirror_mode": {
    "name": "ipython",
    "version": 3
   },
   "file_extension": ".py",
   "mimetype": "text/x-python",
   "name": "python",
   "nbconvert_exporter": "python",
   "pygments_lexer": "ipython3",
   "version": "3.7.2"
  }
 },
 "nbformat": 4,
 "nbformat_minor": 2
}
