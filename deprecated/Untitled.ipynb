{
 "cells": [
  {
   "cell_type": "code",
   "execution_count": 2,
   "metadata": {},
   "outputs": [],
   "source": [
    "import pandas as pd"
   ]
  },
  {
   "cell_type": "code",
   "execution_count": 3,
   "metadata": {},
   "outputs": [],
   "source": [
    "index = pd.MultiIndex.from_tuples([('Pressure', 'Pressure Comparison'),                                  \n",
    "                                   ('Coordinates', 'Missing Coordinates' )],\n",
    "                                   names=['Tests', 'Names'])\n",
    "\n",
    "index_def = ['Instrument deployment depth defined in OOI Asset Management system / maximum pressure calculated from data file after eliminating data outside of global ranges and outliers (3 standard deviations).',\n",
    "             'Check the coordinates in the data file against expected coordinates: obs, time, lat, lon, pressure (for instruments not located on a surface buoy).']"
   ]
  },
  {
   "cell_type": "code",
   "execution_count": 4,
   "metadata": {},
   "outputs": [
    {
     "data": {
      "text/html": [
       "<div>\n",
       "<style scoped>\n",
       "    .dataframe tbody tr th:only-of-type {\n",
       "        vertical-align: middle;\n",
       "    }\n",
       "\n",
       "    .dataframe tbody tr th {\n",
       "        vertical-align: top;\n",
       "    }\n",
       "\n",
       "    .dataframe thead th {\n",
       "        text-align: right;\n",
       "    }\n",
       "</style>\n",
       "<table border=\"1\" class=\"dataframe\">\n",
       "  <thead>\n",
       "    <tr style=\"text-align: right;\">\n",
       "      <th></th>\n",
       "      <th></th>\n",
       "      <th>Definition</th>\n",
       "    </tr>\n",
       "    <tr>\n",
       "      <th>Tests</th>\n",
       "      <th>Names</th>\n",
       "      <th></th>\n",
       "    </tr>\n",
       "  </thead>\n",
       "  <tbody>\n",
       "    <tr>\n",
       "      <th>Pressure</th>\n",
       "      <th>Pressure Comparison</th>\n",
       "      <td>Instrument deployment depth defined in OOI Asset Management system / maximum pressure calculated from data file after eliminating data outside of global ranges and outliers (3 standard deviations).</td>\n",
       "    </tr>\n",
       "    <tr>\n",
       "      <th>Coordinates</th>\n",
       "      <th>Missing Coordinates</th>\n",
       "      <td>Check the coordinates in the data file against expected coordinates: obs, time, lat, lon, pressure (for instruments not located on a surface buoy).</td>\n",
       "    </tr>\n",
       "  </tbody>\n",
       "</table>\n",
       "</div>"
      ],
      "text/plain": [
       "                                                                                                                                                                                                                            Definition\n",
       "Tests       Names                                                                                                                                                                                                                     \n",
       "Pressure    Pressure Comparison  Instrument deployment depth defined in OOI Asset Management system / maximum pressure calculated from data file after eliminating data outside of global ranges and outliers (3 standard deviations).\n",
       "Coordinates Missing Coordinates  Check the coordinates in the data file against expected coordinates: obs, time, lat, lon, pressure (for instruments not located on a surface buoy).                                                  "
      ]
     },
     "execution_count": 4,
     "metadata": {},
     "output_type": "execute_result"
    }
   ],
   "source": [
    "pd.set_option('display.max_colwidth', -1)\n",
    "pd.DataFrame({'Definition':index_def},index=index)"
   ]
  },
  {
   "cell_type": "markdown",
   "metadata": {},
   "source": [
    "<p style=\"color:green; font-size:1.1em;\">Pressure Comparison:</p>\n",
    "<p style=\"color:blue\">Deploy Depth   (vs)   Max Pressure</p>"
   ]
  },
  {
   "cell_type": "code",
   "execution_count": null,
   "metadata": {},
   "outputs": [],
   "source": []
  }
 ],
 "metadata": {
  "kernelspec": {
   "display_name": "Python 3",
   "language": "python",
   "name": "python3"
  },
  "language_info": {
   "codemirror_mode": {
    "name": "ipython",
    "version": 3
   },
   "file_extension": ".py",
   "mimetype": "text/x-python",
   "name": "python",
   "nbconvert_exporter": "python",
   "pygments_lexer": "ipython3",
   "version": "3.7.2"
  }
 },
 "nbformat": 4,
 "nbformat_minor": 2
}
