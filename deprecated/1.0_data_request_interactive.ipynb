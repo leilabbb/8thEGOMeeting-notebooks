{
 "cells": [
  {
   "cell_type": "markdown",
   "metadata": {},
   "source": [
    "# Request and Download Data Files:\n",
    "This is a step by step python code to build netCDF data request urls and send requests if prompted"
   ]
  },
  {
   "cell_type": "markdown",
   "metadata": {},
   "source": [
    "### Input variables:"
   ]
  },
  {
   "cell_type": "code",
   "execution_count": 1,
   "metadata": {},
   "outputs": [],
   "source": [
    "sDir = '/Users/leila/Documents/Desktop/8thEGOMeeting-notebooks' #directory where outputs are saved\n",
    "username = '' #OOI API username\n",
    "token = '' # OOI API password"
   ]
  },
  {
   "cell_type": "markdown",
   "metadata": {},
   "source": [
    "### Import functions:"
   ]
  },
  {
   "cell_type": "code",
   "execution_count": 2,
   "metadata": {},
   "outputs": [],
   "source": [
    "import datetime as dt\n",
    "import pandas as pd\n",
    "import os\n",
    "import itertools\n",
    "import functions.common as cf\n",
    "from scripts import interactive_inputs # run help(interactive_inputs) to find out more about a function\n",
    "from scripts import data_request_urls_ooi1_0\n",
    "from scripts import send_data_requests_nc"
   ]
  },
  {
   "cell_type": "markdown",
   "metadata": {},
   "source": [
    "### Create an output directory"
   ]
  },
  {
   "cell_type": "code",
   "execution_count": 3,
   "metadata": {},
   "outputs": [],
   "source": [
    "cf.create_dir(sDir)\n",
    "now = dt.datetime.now().strftime('%Y%m%dT%H%M')"
   ]
  },
  {
   "cell_type": "markdown",
   "metadata": {},
   "source": [
    "### Run line of code to select array, subsite, node, inst, delivery_methods from the prompt"
   ]
  },
  {
   "cell_type": "code",
   "execution_count": null,
   "metadata": {},
   "outputs": [
    {
     "name": "stdout",
     "output_type": "stream",
     "text": [
      "These arrays are listed in the QC Database:\n",
      "['CE', 'CP', 'GA', 'GI', 'GP', 'GS', 'RS']\n"
     ]
    }
   ],
   "source": [
    "array, subsite, node, inst, delivery_methods = interactive_inputs.return_interactive_inputs()\n",
    "f_url_list = scripts.data_request_urls_ooi1_0.main(sDir, array, subsite, node, inst, delivery_methods, now)"
   ]
  },
  {
   "cell_type": "markdown",
   "metadata": {},
   "source": [
    "### Send data request"
   ]
  },
  {
   "cell_type": "code",
   "execution_count": 20,
   "metadata": {},
   "outputs": [
    {
     "name": "stdout",
     "output_type": "stream",
     "text": [
      "\n",
      "There are 8 requests to send, are you sure you want to continue? y/<n>: y\n",
      "\n",
      "Request url 1 of 8: https://ooinet.oceanobservatories.org/api/m2m/12576/sensor/inv/CP05MOAS/GL335/03-CTDGVM000/recovered_host/ctdgv_m_glider_instrument_recovered?beginDT=2014-10-06T20:16:00.000Z&endDT=2017-03-06T22:45:00.000Z&include_annotations=true&include_provenance=true\n",
      "Data request sent\n",
      "Data available for request\n",
      "\n",
      "Request url 2 of 8: https://ooinet.oceanobservatories.org/api/m2m/12576/sensor/inv/CP05MOAS/GL335/03-CTDGVM000/telemetered/ctdgv_m_glider_instrument?beginDT=2014-10-06T20:16:00.000Z&endDT=2017-03-06T22:45:00.000Z&include_annotations=true&include_provenance=true\n",
      "Data request sent\n",
      "Data available for request\n",
      "\n",
      "Request url 3 of 8: https://ooinet.oceanobservatories.org/api/m2m/12576/sensor/inv/CP05MOAS/GL335/04-DOSTAM000/recovered_host/dosta_abcdjm_glider_recovered?beginDT=2014-10-06T20:16:00.000Z&endDT=2017-03-06T22:45:00.000Z&include_annotations=true&include_provenance=true\n",
      "Data request sent\n",
      "Data available for request\n",
      "\n",
      "Request url 4 of 8: https://ooinet.oceanobservatories.org/api/m2m/12576/sensor/inv/CP05MOAS/GL335/04-DOSTAM000/telemetered/dosta_abcdjm_glider_instrument?beginDT=2014-10-06T20:16:00.000Z&endDT=2017-03-06T22:45:00.000Z&include_annotations=true&include_provenance=true\n",
      "Data request sent\n",
      "Data available for request\n",
      "\n",
      "Request url 5 of 8: https://ooinet.oceanobservatories.org/api/m2m/12576/sensor/inv/CP05MOAS/GL335/02-FLORTM000/recovered_host/flort_m_sample?beginDT=2014-10-06T20:16:00.000Z&endDT=2017-03-06T22:45:00.000Z&include_annotations=true&include_provenance=true\n",
      "Data request sent\n",
      "Data available for request\n",
      "\n",
      "Request url 6 of 8: https://ooinet.oceanobservatories.org/api/m2m/12576/sensor/inv/CP05MOAS/GL335/02-FLORTM000/telemetered/flort_m_sample?beginDT=2014-10-06T20:16:00.000Z&endDT=2017-03-06T22:45:00.000Z&include_annotations=true&include_provenance=true\n",
      "Data request sent\n",
      "Data available for request\n",
      "\n",
      "Request url 7 of 8: https://ooinet.oceanobservatories.org/api/m2m/12576/sensor/inv/CP05MOAS/GL335/05-PARADM000/recovered_host/parad_m_glider_recovered?beginDT=2014-10-06T20:16:00.000Z&endDT=2017-03-06T22:45:00.000Z&include_annotations=true&include_provenance=true\n",
      "Data request sent\n",
      "Data available for request\n",
      "\n",
      "Request url 8 of 8: https://ooinet.oceanobservatories.org/api/m2m/12576/sensor/inv/CP05MOAS/GL335/05-PARADM000/telemetered/parad_m_glider_instrument?beginDT=2014-10-06T20:16:00.000Z&endDT=2017-03-06T22:45:00.000Z&include_annotations=true&include_provenance=true\n",
      "Data request failed\n",
      "Status from uFrame: : Exceeded user quota for subjob requests (1000 outstanding subjobs >= 2546) for leila.ocean@gmail.com.Please try your request again later.\n",
      "Trying request again in 1 minute\n",
      "Re-sending request: https://ooinet.oceanobservatories.org/api/m2m/12576/sensor/inv/CP05MOAS/GL335/05-PARADM000/telemetered/parad_m_glider_instrument?beginDT=2014-10-06T20:16:00.000Z&endDT=2017-03-06T22:45:00.000Z&include_annotations=true&include_provenance=true\n",
      "Data request failed\n",
      "Status from uFrame: : Exceeded user quota for subjob requests (1000 outstanding subjobs >= 1787) for leila.ocean@gmail.com.Please try your request again later.\n",
      "Trying request again in 1 minute\n",
      "Re-sending request: https://ooinet.oceanobservatories.org/api/m2m/12576/sensor/inv/CP05MOAS/GL335/05-PARADM000/telemetered/parad_m_glider_instrument?beginDT=2014-10-06T20:16:00.000Z&endDT=2017-03-06T22:45:00.000Z&include_annotations=true&include_provenance=true\n",
      "Data request failed\n",
      "Status from uFrame: : Exceeded user quota for subjob requests (1000 outstanding subjobs >= 1068) for leila.ocean@gmail.com.Please try your request again later.\n",
      "Trying request again in 1 minute\n",
      "Re-sending request: https://ooinet.oceanobservatories.org/api/m2m/12576/sensor/inv/CP05MOAS/GL335/05-PARADM000/telemetered/parad_m_glider_instrument?beginDT=2014-10-06T20:16:00.000Z&endDT=2017-03-06T22:45:00.000Z&include_annotations=true&include_provenance=true\n",
      "Data request sent\n",
      "Data available for request\n",
      "\n",
      "Time elapsed sending data requests: 6.33 minutes\n"
     ]
    }
   ],
   "source": [
    "thredds_output_urls = send_data_requests_nc.main(sDir, f_url_list, username, token, now)"
   ]
  },
  {
   "cell_type": "markdown",
   "metadata": {},
   "source": [
    "### Check if the requests have fulfilled"
   ]
  },
  {
   "cell_type": "code",
   "execution_count": 21,
   "metadata": {
    "scrolled": true
   },
   "outputs": [
    {
     "name": "stdout",
     "output_type": "stream",
     "text": [
      "\n",
      "Seeing if the requests have fulfilled...\n",
      "\n",
      "Dataset 1 of 8: https://opendap.oceanobservatories.org/thredds/catalog/ooi/leila.ocean@gmail.com/20190319T195519-CP05MOAS-GL335-03-CTDGVM000-recovered_host-ctdgv_m_glider_instrument_recovered/catalog.html\n",
      "Data request has fulfilled.\n",
      "\n",
      "Dataset 2 of 8: https://opendap.oceanobservatories.org/thredds/catalog/ooi/leila.ocean@gmail.com/20190319T195533-CP05MOAS-GL335-03-CTDGVM000-telemetered-ctdgv_m_glider_instrument/catalog.html\n",
      "Data request has fulfilled.\n",
      "\n",
      "Dataset 3 of 8: https://opendap.oceanobservatories.org/thredds/catalog/ooi/leila.ocean@gmail.com/20190319T195546-CP05MOAS-GL335-04-DOSTAM000-recovered_host-dosta_abcdjm_glider_recovered/catalog.html\n",
      "Data request has fulfilled.\n",
      "\n",
      "Dataset 4 of 8: https://opendap.oceanobservatories.org/thredds/catalog/ooi/leila.ocean@gmail.com/20190319T195608-CP05MOAS-GL335-04-DOSTAM000-telemetered-dosta_abcdjm_glider_instrument/catalog.html\n",
      "Data request has fulfilled.\n",
      "\n",
      "Dataset 5 of 8: https://opendap.oceanobservatories.org/thredds/catalog/ooi/leila.ocean@gmail.com/20190319T195630-CP05MOAS-GL335-02-FLORTM000-recovered_host-flort_m_sample/catalog.html\n",
      "Data request has fulfilled.\n",
      "\n",
      "Dataset 6 of 8: https://opendap.oceanobservatories.org/thredds/catalog/ooi/leila.ocean@gmail.com/20190319T195643-CP05MOAS-GL335-02-FLORTM000-telemetered-flort_m_sample/catalog.html\n",
      "Data request has fulfilled.\n",
      "\n",
      "Dataset 7 of 8: https://opendap.oceanobservatories.org/thredds/catalog/ooi/leila.ocean@gmail.com/20190319T195658-CP05MOAS-GL335-05-PARADM000-recovered_host-parad_m_glider_recovered/catalog.html\n",
      "Data request has fulfilled.\n",
      "\n",
      "Dataset 8 of 8: https://opendap.oceanobservatories.org/thredds/catalog/ooi/leila.ocean@gmail.com/20190319T200118-CP05MOAS-GL335-05-PARADM000-telemetered-parad_m_glider_instrument/catalog.html\n",
      "Data request has fulfilled.\n"
     ]
    }
   ],
   "source": [
    "for i in range(len(thredds_output_urls)):\n",
    "    url = thredds_output_urls[i]\n",
    "    print('\\nDataset {} of {}: {}'.format((i + 1), len(thredds_output_urls), url))\n",
    "    if 'no_output_url' not in url:\n",
    "        cf.check_request_status(url)"
   ]
  },
  {
   "cell_type": "markdown",
   "metadata": {},
   "source": [
    "# END"
   ]
  }
 ],
 "metadata": {
  "kernelspec": {
   "display_name": "Python 3",
   "language": "python",
   "name": "python3"
  },
  "language_info": {
   "codemirror_mode": {
    "name": "ipython",
    "version": 3
   },
   "file_extension": ".py",
   "mimetype": "text/x-python",
   "name": "python",
   "nbconvert_exporter": "python",
   "pygments_lexer": "ipython3",
   "version": "3.7.2"
  }
 },
 "nbformat": 4,
 "nbformat_minor": 2
}
