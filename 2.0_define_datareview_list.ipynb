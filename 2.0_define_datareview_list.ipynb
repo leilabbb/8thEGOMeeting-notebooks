{
 "cells": [
  {
   "cell_type": "markdown",
   "metadata": {},
   "source": [
    "explain the goal of the script"
   ]
  },
  {
   "cell_type": "code",
   "execution_count": 1,
   "metadata": {},
   "outputs": [],
   "source": [
    "# THERDD server contains the netCDF data files\n",
    "url_list = ['https://opendap.oceanobservatories.org/thredds/catalog/ooi/lgarzio@marine.rutgers.edu/20190509T131304-CP05MOAS-GL335-05-PARADM000-telemetered-parad_m_glider_instrument/catalog.html',\n",
    "'https://opendap.oceanobservatories.org/thredds/catalog/ooi/lgarzio@marine.rutgers.edu/20190509T131304-CP05MOAS-GL335-05-PARADM000-recovered_host-parad_m_glider_recovered/catalog.html']\n",
    "\n",
    "# url_list = ['https://opendap.oceanobservatories.org/thredds/catalog/ooi/leila.ocean@gmail.com/20190306T174413-CP05MOAS-GL379-03-CTDGVM000-recovered_host-ctdgv_m_glider_instrument_recovered/catalog.html',\n",
    "#             'https://opendap.oceanobservatories.org/thredds/catalog/ooi/leila.ocean@gmail.com/20190306T174435-CP05MOAS-GL379-03-CTDGVM000-telemetered-ctdgv_m_glider_instrument/catalog.html']\n",
    "\n",
    "# review file was created upfront to do this analysis\n",
    "review_file = 'https://raw.githubusercontent.com/ooi-data-lab/data-review-prep/master/review_list/data_review_list.csv'"
   ]
  },
  {
   "cell_type": "code",
   "execution_count": 2,
   "metadata": {},
   "outputs": [],
   "source": [
    "import pandas as pd"
   ]
  },
  {
   "cell_type": "code",
   "execution_count": 3,
   "metadata": {},
   "outputs": [
    {
     "name": "stdout",
     "output_type": "stream",
     "text": [
      "      deploymentNumber        startDateTime         stopDateTime in_am\n",
      "3704               1.0  2014-10-06T20:16:00  2014-12-15T00:00:00   yes\n",
      "3705               2.0  2015-10-13T01:12:14  2015-11-16T00:00:00   yes\n",
      "3706               3.0  2016-04-04T18:57:02  2016-04-18T00:00:00   yes\n",
      "3707               4.0  2016-05-27T20:33:00  2016-06-27T00:00:00   yes\n",
      "3708               5.0  2017-01-16T14:59:00  2017-03-06T22:45:00   yes\n"
     ]
    }
   ],
   "source": [
    "# get instrument  = reference designator \n",
    "elements = url_list[0].split('/')[-2].split('-')\n",
    "rd = '-'.join((elements[1], elements[2], elements[3], elements[4]))\n",
    "\n",
    "# check for the OOI 1.0 datasets for review \n",
    "reviewlist = pd.read_csv(review_file)\n",
    "rl_filtered = reviewlist.loc[(reviewlist['Reference Designator'] == rd) & (reviewlist['status'] == 'for review')]\n",
    "\n",
    "# get deployments from file names\n",
    "review_deployments = rl_filtered['deploymentNumber'].tolist()\n",
    "\n",
    "# print to the screen\n",
    "print(pd.DataFrame({'deploymentNumber': review_deployments,\n",
    "                   'startDateTime': rl_filtered['startDateTime'],\n",
    "                   'stopDateTime': rl_filtered['stopDateTime'],\n",
    "                   'in_am': rl_filtered['in_am']}))"
   ]
  },
  {
   "cell_type": "code",
   "execution_count": 4,
   "metadata": {},
   "outputs": [],
   "source": [
    "import functions.common as cf"
   ]
  },
  {
   "cell_type": "code",
   "execution_count": 6,
   "metadata": {},
   "outputs": [
    {
     "name": "stdout",
     "output_type": "stream",
     "text": [
      "Data request has fulfilled.\n",
      "Data request has fulfilled.\n"
     ]
    }
   ],
   "source": [
    "df = pd.DataFrame()\n",
    "review_deployments_int = ['deployment%04d' % int(x) for x in review_deployments]\n",
    "\n",
    "for uu in url_list:\n",
    "    udatasets = cf.get_nc_urls([uu])\n",
    "    # filter out on deployment for review \n",
    "    for rev_dep in review_deployments_int:\n",
    "        rdatasets = [s for s in udatasets if rev_dep in s]\n",
    "        if len(rdatasets) > 0: \n",
    "            # filter out on the sensor of interset\n",
    "            for dss in rdatasets:  # filter out collocated data files\n",
    "                elements = uu.split('/')[-2].split('-')\n",
    "                catalog_rms = '-'.join((rd, elements[-2], elements[-1]))\n",
    "                method = uu.split('-')[5]\n",
    "                if catalog_rms == dss.split('/')[-1].split('_20')[0][15:]:                     \n",
    "                    df0 = pd.DataFrame({'datasets': dss, 'method': method}, index=[rev_dep])\n",
    "                    df = df.append(df0)"
   ]
  },
  {
   "cell_type": "code",
   "execution_count": 7,
   "metadata": {},
   "outputs": [
    {
     "data": {
      "text/html": [
       "<div>\n",
       "<style scoped>\n",
       "    .dataframe tbody tr th:only-of-type {\n",
       "        vertical-align: middle;\n",
       "    }\n",
       "\n",
       "    .dataframe tbody tr th {\n",
       "        vertical-align: top;\n",
       "    }\n",
       "\n",
       "    .dataframe thead th {\n",
       "        text-align: right;\n",
       "    }\n",
       "</style>\n",
       "<table border=\"1\" class=\"dataframe\">\n",
       "  <thead>\n",
       "    <tr style=\"text-align: right;\">\n",
       "      <th></th>\n",
       "      <th>datasets</th>\n",
       "      <th>method</th>\n",
       "    </tr>\n",
       "  </thead>\n",
       "  <tbody>\n",
       "    <tr>\n",
       "      <th>deployment0001</th>\n",
       "      <td>https://opendap.oceanobservatories.org/thredds/dodsC/ooi/lgarzio@marine.rutgers.edu/20190509T131304-CP05MOAS-GL335-05-PARADM000-telemetered-parad_m_glider_instrument/deployment0001_CP05MOAS-GL335-05-PARADM000-telemetered-parad_m_glider_instrument_20141006T202152.905850-20141213T035750.235320.nc</td>\n",
       "      <td>telemetered</td>\n",
       "    </tr>\n",
       "    <tr>\n",
       "      <th>deployment0002</th>\n",
       "      <td>https://opendap.oceanobservatories.org/thredds/dodsC/ooi/lgarzio@marine.rutgers.edu/20190509T131304-CP05MOAS-GL335-05-PARADM000-telemetered-parad_m_glider_instrument/deployment0002_CP05MOAS-GL335-05-PARADM000-telemetered-parad_m_glider_instrument_20151014T001900.237980-20151110T091836.233310.nc</td>\n",
       "      <td>telemetered</td>\n",
       "    </tr>\n",
       "    <tr>\n",
       "      <th>deployment0003</th>\n",
       "      <td>https://opendap.oceanobservatories.org/thredds/dodsC/ooi/lgarzio@marine.rutgers.edu/20190509T131304-CP05MOAS-GL335-05-PARADM000-telemetered-parad_m_glider_instrument/deployment0003_CP05MOAS-GL335-05-PARADM000-telemetered-parad_m_glider_instrument_20160404T185705.311220-20160417T235956.145260.nc</td>\n",
       "      <td>telemetered</td>\n",
       "    </tr>\n",
       "    <tr>\n",
       "      <th>deployment0004</th>\n",
       "      <td>https://opendap.oceanobservatories.org/thredds/dodsC/ooi/lgarzio@marine.rutgers.edu/20190509T131304-CP05MOAS-GL335-05-PARADM000-telemetered-parad_m_glider_instrument/deployment0004_CP05MOAS-GL335-05-PARADM000-telemetered-parad_m_glider_instrument_20160527T212312.351560-20160626T091401.747920.nc</td>\n",
       "      <td>telemetered</td>\n",
       "    </tr>\n",
       "    <tr>\n",
       "      <th>deployment0005</th>\n",
       "      <td>https://opendap.oceanobservatories.org/thredds/dodsC/ooi/lgarzio@marine.rutgers.edu/20190509T131304-CP05MOAS-GL335-05-PARADM000-telemetered-parad_m_glider_instrument/deployment0005_CP05MOAS-GL335-05-PARADM000-telemetered-parad_m_glider_instrument_20170116T150223.595370-20170304T045334.799840.nc</td>\n",
       "      <td>telemetered</td>\n",
       "    </tr>\n",
       "    <tr>\n",
       "      <th>deployment0001</th>\n",
       "      <td>https://opendap.oceanobservatories.org/thredds/dodsC/ooi/lgarzio@marine.rutgers.edu/20190509T131304-CP05MOAS-GL335-05-PARADM000-recovered_host-parad_m_glider_recovered/deployment0001_CP05MOAS-GL335-05-PARADM000-recovered_host-parad_m_glider_recovered_20141006T202152.905850-20141213T073238.247380.nc</td>\n",
       "      <td>recovered_host</td>\n",
       "    </tr>\n",
       "    <tr>\n",
       "      <th>deployment0002</th>\n",
       "      <td>https://opendap.oceanobservatories.org/thredds/dodsC/ooi/lgarzio@marine.rutgers.edu/20190509T131304-CP05MOAS-GL335-05-PARADM000-recovered_host-parad_m_glider_recovered/deployment0002_CP05MOAS-GL335-05-PARADM000-recovered_host-parad_m_glider_recovered_20151014T001900.237980-20151110T091855.472810.nc</td>\n",
       "      <td>recovered_host</td>\n",
       "    </tr>\n",
       "    <tr>\n",
       "      <th>deployment0003</th>\n",
       "      <td>https://opendap.oceanobservatories.org/thredds/dodsC/ooi/lgarzio@marine.rutgers.edu/20190509T131304-CP05MOAS-GL335-05-PARADM000-recovered_host-parad_m_glider_recovered/deployment0003_CP05MOAS-GL335-05-PARADM000-recovered_host-parad_m_glider_recovered_20160404T185705.311220-20160417T235956.145260.nc</td>\n",
       "      <td>recovered_host</td>\n",
       "    </tr>\n",
       "    <tr>\n",
       "      <th>deployment0004</th>\n",
       "      <td>https://opendap.oceanobservatories.org/thredds/dodsC/ooi/lgarzio@marine.rutgers.edu/20190509T131304-CP05MOAS-GL335-05-PARADM000-recovered_host-parad_m_glider_recovered/deployment0004_CP05MOAS-GL335-05-PARADM000-recovered_host-parad_m_glider_recovered_20160529T204727.075500-20160626T091401.747920.nc</td>\n",
       "      <td>recovered_host</td>\n",
       "    </tr>\n",
       "    <tr>\n",
       "      <th>deployment0005</th>\n",
       "      <td>https://opendap.oceanobservatories.org/thredds/dodsC/ooi/lgarzio@marine.rutgers.edu/20190509T131304-CP05MOAS-GL335-05-PARADM000-recovered_host-parad_m_glider_recovered/deployment0005_CP05MOAS-GL335-05-PARADM000-recovered_host-parad_m_glider_recovered_20170116T150223.595370-20170304T093047.153350.nc</td>\n",
       "      <td>recovered_host</td>\n",
       "    </tr>\n",
       "  </tbody>\n",
       "</table>\n",
       "</div>"
      ],
      "text/plain": [
       "                                                                                                                                                                                                                                                                                                                   datasets  \\\n",
       "deployment0001  https://opendap.oceanobservatories.org/thredds/dodsC/ooi/lgarzio@marine.rutgers.edu/20190509T131304-CP05MOAS-GL335-05-PARADM000-telemetered-parad_m_glider_instrument/deployment0001_CP05MOAS-GL335-05-PARADM000-telemetered-parad_m_glider_instrument_20141006T202152.905850-20141213T035750.235320.nc       \n",
       "deployment0002  https://opendap.oceanobservatories.org/thredds/dodsC/ooi/lgarzio@marine.rutgers.edu/20190509T131304-CP05MOAS-GL335-05-PARADM000-telemetered-parad_m_glider_instrument/deployment0002_CP05MOAS-GL335-05-PARADM000-telemetered-parad_m_glider_instrument_20151014T001900.237980-20151110T091836.233310.nc       \n",
       "deployment0003  https://opendap.oceanobservatories.org/thredds/dodsC/ooi/lgarzio@marine.rutgers.edu/20190509T131304-CP05MOAS-GL335-05-PARADM000-telemetered-parad_m_glider_instrument/deployment0003_CP05MOAS-GL335-05-PARADM000-telemetered-parad_m_glider_instrument_20160404T185705.311220-20160417T235956.145260.nc       \n",
       "deployment0004  https://opendap.oceanobservatories.org/thredds/dodsC/ooi/lgarzio@marine.rutgers.edu/20190509T131304-CP05MOAS-GL335-05-PARADM000-telemetered-parad_m_glider_instrument/deployment0004_CP05MOAS-GL335-05-PARADM000-telemetered-parad_m_glider_instrument_20160527T212312.351560-20160626T091401.747920.nc       \n",
       "deployment0005  https://opendap.oceanobservatories.org/thredds/dodsC/ooi/lgarzio@marine.rutgers.edu/20190509T131304-CP05MOAS-GL335-05-PARADM000-telemetered-parad_m_glider_instrument/deployment0005_CP05MOAS-GL335-05-PARADM000-telemetered-parad_m_glider_instrument_20170116T150223.595370-20170304T045334.799840.nc       \n",
       "deployment0001  https://opendap.oceanobservatories.org/thredds/dodsC/ooi/lgarzio@marine.rutgers.edu/20190509T131304-CP05MOAS-GL335-05-PARADM000-recovered_host-parad_m_glider_recovered/deployment0001_CP05MOAS-GL335-05-PARADM000-recovered_host-parad_m_glider_recovered_20141006T202152.905850-20141213T073238.247380.nc   \n",
       "deployment0002  https://opendap.oceanobservatories.org/thredds/dodsC/ooi/lgarzio@marine.rutgers.edu/20190509T131304-CP05MOAS-GL335-05-PARADM000-recovered_host-parad_m_glider_recovered/deployment0002_CP05MOAS-GL335-05-PARADM000-recovered_host-parad_m_glider_recovered_20151014T001900.237980-20151110T091855.472810.nc   \n",
       "deployment0003  https://opendap.oceanobservatories.org/thredds/dodsC/ooi/lgarzio@marine.rutgers.edu/20190509T131304-CP05MOAS-GL335-05-PARADM000-recovered_host-parad_m_glider_recovered/deployment0003_CP05MOAS-GL335-05-PARADM000-recovered_host-parad_m_glider_recovered_20160404T185705.311220-20160417T235956.145260.nc   \n",
       "deployment0004  https://opendap.oceanobservatories.org/thredds/dodsC/ooi/lgarzio@marine.rutgers.edu/20190509T131304-CP05MOAS-GL335-05-PARADM000-recovered_host-parad_m_glider_recovered/deployment0004_CP05MOAS-GL335-05-PARADM000-recovered_host-parad_m_glider_recovered_20160529T204727.075500-20160626T091401.747920.nc   \n",
       "deployment0005  https://opendap.oceanobservatories.org/thredds/dodsC/ooi/lgarzio@marine.rutgers.edu/20190509T131304-CP05MOAS-GL335-05-PARADM000-recovered_host-parad_m_glider_recovered/deployment0005_CP05MOAS-GL335-05-PARADM000-recovered_host-parad_m_glider_recovered_20170116T150223.595370-20170304T093047.153350.nc   \n",
       "\n",
       "                        method  \n",
       "deployment0001  telemetered     \n",
       "deployment0002  telemetered     \n",
       "deployment0003  telemetered     \n",
       "deployment0004  telemetered     \n",
       "deployment0005  telemetered     \n",
       "deployment0001  recovered_host  \n",
       "deployment0002  recovered_host  \n",
       "deployment0003  recovered_host  \n",
       "deployment0004  recovered_host  \n",
       "deployment0005  recovered_host  "
      ]
     },
     "execution_count": 7,
     "metadata": {},
     "output_type": "execute_result"
    }
   ],
   "source": [
    "pd.set_option('display.max_colwidth', -1)\n",
    "(df)"
   ]
  },
  {
   "cell_type": "code",
   "execution_count": 8,
   "metadata": {},
   "outputs": [],
   "source": [
    "df.to_csv('data_files_list.csv', index=True)"
   ]
  },
  {
   "cell_type": "code",
   "execution_count": 9,
   "metadata": {},
   "outputs": [],
   "source": [
    "import numpy as np"
   ]
  },
  {
   "cell_type": "code",
   "execution_count": 10,
   "metadata": {},
   "outputs": [],
   "source": [
    "method_list = ['streamed', 'recovered_inst', 'recovered_wfp', 'recovered_cspp', 'recovered_host', 'telemetered']\n",
    "deployments = np.unique(np.sort(list(df.index.values)))\n",
    "df_info = pd.DataFrame()\n",
    "for d in deployments:\n",
    "    df_d = df[df.index.values == d]\n",
    "    if len(df_d['method']) != 1: # sort methods in order of preference\n",
    "        z = sorted(df_d['method'], key=lambda zz: method_list.index(zz)) # sorted method list        \n",
    "        df_d = df_d[df_d['method'] == z[0]]\n",
    "\n",
    "    df_info = df_info.append(df_d)"
   ]
  },
  {
   "cell_type": "code",
   "execution_count": 11,
   "metadata": {},
   "outputs": [
    {
     "data": {
      "text/html": [
       "<div>\n",
       "<style scoped>\n",
       "    .dataframe tbody tr th:only-of-type {\n",
       "        vertical-align: middle;\n",
       "    }\n",
       "\n",
       "    .dataframe tbody tr th {\n",
       "        vertical-align: top;\n",
       "    }\n",
       "\n",
       "    .dataframe thead th {\n",
       "        text-align: right;\n",
       "    }\n",
       "</style>\n",
       "<table border=\"1\" class=\"dataframe\">\n",
       "  <thead>\n",
       "    <tr style=\"text-align: right;\">\n",
       "      <th></th>\n",
       "      <th>datasets</th>\n",
       "      <th>method</th>\n",
       "    </tr>\n",
       "  </thead>\n",
       "  <tbody>\n",
       "    <tr>\n",
       "      <th>deployment0001</th>\n",
       "      <td>https://opendap.oceanobservatories.org/thredds/dodsC/ooi/lgarzio@marine.rutgers.edu/20190509T131304-CP05MOAS-GL335-05-PARADM000-recovered_host-parad_m_glider_recovered/deployment0001_CP05MOAS-GL335-05-PARADM000-recovered_host-parad_m_glider_recovered_20141006T202152.905850-20141213T073238.247380.nc</td>\n",
       "      <td>recovered_host</td>\n",
       "    </tr>\n",
       "    <tr>\n",
       "      <th>deployment0002</th>\n",
       "      <td>https://opendap.oceanobservatories.org/thredds/dodsC/ooi/lgarzio@marine.rutgers.edu/20190509T131304-CP05MOAS-GL335-05-PARADM000-recovered_host-parad_m_glider_recovered/deployment0002_CP05MOAS-GL335-05-PARADM000-recovered_host-parad_m_glider_recovered_20151014T001900.237980-20151110T091855.472810.nc</td>\n",
       "      <td>recovered_host</td>\n",
       "    </tr>\n",
       "    <tr>\n",
       "      <th>deployment0003</th>\n",
       "      <td>https://opendap.oceanobservatories.org/thredds/dodsC/ooi/lgarzio@marine.rutgers.edu/20190509T131304-CP05MOAS-GL335-05-PARADM000-recovered_host-parad_m_glider_recovered/deployment0003_CP05MOAS-GL335-05-PARADM000-recovered_host-parad_m_glider_recovered_20160404T185705.311220-20160417T235956.145260.nc</td>\n",
       "      <td>recovered_host</td>\n",
       "    </tr>\n",
       "    <tr>\n",
       "      <th>deployment0004</th>\n",
       "      <td>https://opendap.oceanobservatories.org/thredds/dodsC/ooi/lgarzio@marine.rutgers.edu/20190509T131304-CP05MOAS-GL335-05-PARADM000-recovered_host-parad_m_glider_recovered/deployment0004_CP05MOAS-GL335-05-PARADM000-recovered_host-parad_m_glider_recovered_20160529T204727.075500-20160626T091401.747920.nc</td>\n",
       "      <td>recovered_host</td>\n",
       "    </tr>\n",
       "    <tr>\n",
       "      <th>deployment0005</th>\n",
       "      <td>https://opendap.oceanobservatories.org/thredds/dodsC/ooi/lgarzio@marine.rutgers.edu/20190509T131304-CP05MOAS-GL335-05-PARADM000-recovered_host-parad_m_glider_recovered/deployment0005_CP05MOAS-GL335-05-PARADM000-recovered_host-parad_m_glider_recovered_20170116T150223.595370-20170304T093047.153350.nc</td>\n",
       "      <td>recovered_host</td>\n",
       "    </tr>\n",
       "  </tbody>\n",
       "</table>\n",
       "</div>"
      ],
      "text/plain": [
       "                                                                                                                                                                                                                                                                                                                   datasets  \\\n",
       "deployment0001  https://opendap.oceanobservatories.org/thredds/dodsC/ooi/lgarzio@marine.rutgers.edu/20190509T131304-CP05MOAS-GL335-05-PARADM000-recovered_host-parad_m_glider_recovered/deployment0001_CP05MOAS-GL335-05-PARADM000-recovered_host-parad_m_glider_recovered_20141006T202152.905850-20141213T073238.247380.nc   \n",
       "deployment0002  https://opendap.oceanobservatories.org/thredds/dodsC/ooi/lgarzio@marine.rutgers.edu/20190509T131304-CP05MOAS-GL335-05-PARADM000-recovered_host-parad_m_glider_recovered/deployment0002_CP05MOAS-GL335-05-PARADM000-recovered_host-parad_m_glider_recovered_20151014T001900.237980-20151110T091855.472810.nc   \n",
       "deployment0003  https://opendap.oceanobservatories.org/thredds/dodsC/ooi/lgarzio@marine.rutgers.edu/20190509T131304-CP05MOAS-GL335-05-PARADM000-recovered_host-parad_m_glider_recovered/deployment0003_CP05MOAS-GL335-05-PARADM000-recovered_host-parad_m_glider_recovered_20160404T185705.311220-20160417T235956.145260.nc   \n",
       "deployment0004  https://opendap.oceanobservatories.org/thredds/dodsC/ooi/lgarzio@marine.rutgers.edu/20190509T131304-CP05MOAS-GL335-05-PARADM000-recovered_host-parad_m_glider_recovered/deployment0004_CP05MOAS-GL335-05-PARADM000-recovered_host-parad_m_glider_recovered_20160529T204727.075500-20160626T091401.747920.nc   \n",
       "deployment0005  https://opendap.oceanobservatories.org/thredds/dodsC/ooi/lgarzio@marine.rutgers.edu/20190509T131304-CP05MOAS-GL335-05-PARADM000-recovered_host-parad_m_glider_recovered/deployment0005_CP05MOAS-GL335-05-PARADM000-recovered_host-parad_m_glider_recovered_20170116T150223.595370-20170304T093047.153350.nc   \n",
       "\n",
       "                        method  \n",
       "deployment0001  recovered_host  \n",
       "deployment0002  recovered_host  \n",
       "deployment0003  recovered_host  \n",
       "deployment0004  recovered_host  \n",
       "deployment0005  recovered_host  "
      ]
     },
     "execution_count": 11,
     "metadata": {},
     "output_type": "execute_result"
    }
   ],
   "source": [
    "pd.set_option('display.max_colwidth', -1)\n",
    "(df_info)"
   ]
  },
  {
   "cell_type": "code",
   "execution_count": 12,
   "metadata": {},
   "outputs": [],
   "source": [
    "df_info.to_csv('define_datareview_list_GL335.csv', index=True)"
   ]
  },
  {
   "cell_type": "code",
   "execution_count": null,
   "metadata": {},
   "outputs": [],
   "source": []
  }
 ],
 "metadata": {
  "kernelspec": {
   "display_name": "Python 3",
   "language": "python",
   "name": "python3"
  },
  "language_info": {
   "codemirror_mode": {
    "name": "ipython",
    "version": 3
   },
   "file_extension": ".py",
   "mimetype": "text/x-python",
   "name": "python",
   "nbconvert_exporter": "python",
   "pygments_lexer": "ipython3",
   "version": "3.7.2"
  }
 },
 "nbformat": 4,
 "nbformat_minor": 2
}
