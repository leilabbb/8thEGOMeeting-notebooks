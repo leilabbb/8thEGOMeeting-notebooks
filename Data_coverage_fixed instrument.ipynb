{
 "cells": [
  {
   "cell_type": "code",
   "execution_count": 1,
   "metadata": {},
   "outputs": [],
   "source": [
    "import pandas as pd\n",
    "import functions.common as cf\n",
    "import functions.plotting as pf\n",
    "import xarray as xr"
   ]
  },
  {
   "cell_type": "markdown",
   "metadata": {},
   "source": [
    "**Define Datasets Review List**"
   ]
  },
  {
   "cell_type": "code",
   "execution_count": 2,
   "metadata": {},
   "outputs": [],
   "source": [
    "reviewlist = pd.read_csv('define_datareview_list.csv')"
   ]
  },
  {
   "cell_type": "code",
   "execution_count": 3,
   "metadata": {},
   "outputs": [],
   "source": [
    "col = list(reviewlist.columns)\n",
    "refdes = reviewlist[col[1]][0].split('/')[-1].split('_')[1][0:27]\n",
    "dr_data = cf.refdes_datareview_json(refdes)"
   ]
  },
  {
   "cell_type": "code",
   "execution_count": 4,
   "metadata": {},
   "outputs": [],
   "source": [
    "df = pd.DataFrame()\n",
    "for ii in range(len(reviewlist)):         \n",
    "    deploy_num = int(reviewlist[col[0]][ii].split('t')[-1])\n",
    "    deploy_info = cf.get_deployment_information(dr_data, deploy_num)\n",
    "    deploy_depth = deploy_info['deployment_depth']\n",
    "    \n",
    "    # Check deployment pressure from asset management against pressure variable in file\n",
    "    ds = xr.open_dataset(reviewlist[col[1]][ii], mask_and_scale=False)\n",
    "    ds = ds.swap_dims({'obs': 'time'})\n",
    "    press = pf.pressure_var(ds, list(ds.coords.keys()))\n",
    "    if press is None:\n",
    "        press = pf.pressure_var(ds, list(ds.data_vars.keys()))     \n",
    "    pressure_compare, pressure_max, pressure_mean = cf.calculate_mean_pressure(press, ds, refdes, deploy_depth)\n",
    "        \n",
    "    df0 = pd.DataFrame({'method': reviewlist[col[2]][ii],\n",
    "                        'deploy_depth': [deploy_depth],\n",
    "                        'data_pressure_max': [pressure_max],\n",
    "                        'pressure_compare': [pressure_compare]\n",
    "                        }, index=[deploy_num])\n",
    "    df = df.append(df0)"
   ]
  },
  {
   "cell_type": "code",
   "execution_count": 5,
   "metadata": {},
   "outputs": [
    {
     "data": {
      "text/html": [
       "<div>\n",
       "<style scoped>\n",
       "    .dataframe tbody tr th:only-of-type {\n",
       "        vertical-align: middle;\n",
       "    }\n",
       "\n",
       "    .dataframe tbody tr th {\n",
       "        vertical-align: top;\n",
       "    }\n",
       "\n",
       "    .dataframe thead th {\n",
       "        text-align: right;\n",
       "    }\n",
       "</style>\n",
       "<table border=\"1\" class=\"dataframe\">\n",
       "  <thead>\n",
       "    <tr style=\"text-align: right;\">\n",
       "      <th></th>\n",
       "      <th>1</th>\n",
       "      <th>2</th>\n",
       "      <th>3</th>\n",
       "      <th>4</th>\n",
       "    </tr>\n",
       "  </thead>\n",
       "  <tbody>\n",
       "    <tr>\n",
       "      <th>1</th>\n",
       "      <td>NaN</td>\n",
       "      <td>NaN</td>\n",
       "      <td>NaN</td>\n",
       "      <td>NaN</td>\n",
       "    </tr>\n",
       "    <tr>\n",
       "      <th>2</th>\n",
       "      <td>NaN</td>\n",
       "      <td>NaN</td>\n",
       "      <td>NaN</td>\n",
       "      <td>NaN</td>\n",
       "    </tr>\n",
       "    <tr>\n",
       "      <th>3</th>\n",
       "      <td>NaN</td>\n",
       "      <td>NaN</td>\n",
       "      <td>NaN</td>\n",
       "      <td>NaN</td>\n",
       "    </tr>\n",
       "    <tr>\n",
       "      <th>4</th>\n",
       "      <td>NaN</td>\n",
       "      <td>NaN</td>\n",
       "      <td>NaN</td>\n",
       "      <td>NaN</td>\n",
       "    </tr>\n",
       "  </tbody>\n",
       "</table>\n",
       "</div>"
      ],
      "text/plain": [
       "     1    2    3    4\n",
       "1  NaN  NaN  NaN  NaN\n",
       "2  NaN  NaN  NaN  NaN\n",
       "3  NaN  NaN  NaN  NaN\n",
       "4  NaN  NaN  NaN  NaN"
      ]
     },
     "execution_count": 5,
     "metadata": {},
     "output_type": "execute_result"
    }
   ],
   "source": [
    "list(df.index)\n",
    "depl_loc_diff = pd.DataFrame(columns=list(df.index), index=list(df.index))\n",
    "depl_loc_diff"
   ]
  },
  {
   "cell_type": "code",
   "execution_count": 6,
   "metadata": {},
   "outputs": [],
   "source": [
    "y = cf.deploy_location_check(refdes)\n",
    "delpoy_y_loc = pd.DataFrame()\n",
    "for ii in y:\n",
    "    delpoy_y_loc = delpoy_y_loc.append(pd.DataFrame({'loc-t0':ii.split('_')[4].split('D')[1],\n",
    "                                                     'loc-tn':ii.split('_')[2].split('D')[1],\n",
    "                                                     'diff (km)': round(y[ii])}, index=[ii]))\n",
    "delpoy_y_loc = delpoy_y_loc.sort_values(by=['loc-t0'])\n",
    "delpoy_y_loc.index = delpoy_y_loc['loc-t0']\n",
    "delpoy_y_loc = delpoy_y_loc[['loc-tn','diff (km)']]\n",
    "\n",
    "\n",
    "xy = delpoy_y_loc.groupby(delpoy_y_loc.index)"
   ]
  },
  {
   "cell_type": "code",
   "execution_count": 7,
   "metadata": {},
   "outputs": [
    {
     "name": "stdout",
     "output_type": "stream",
     "text": [
      "2 1 1 0 0\n",
      "3 1 1 18 18\n",
      "4 1 1 28 28\n",
      "3 2 1 18 18\n",
      "4 2 1 28 28\n",
      "4 3 1 28 28\n"
     ]
    },
    {
     "ename": "NameError",
     "evalue": "name 'test' is not defined",
     "output_type": "error",
     "traceback": [
      "\u001b[0;31m---------------------------------------------------------------------------\u001b[0m",
      "\u001b[0;31mNameError\u001b[0m                                 Traceback (most recent call last)",
      "\u001b[0;32m<ipython-input-7-7b0494e45a39>\u001b[0m in \u001b[0;36m<module>\u001b[0;34m\u001b[0m\n\u001b[1;32m      9\u001b[0m         \u001b[0;32melse\u001b[0m\u001b[0;34m:\u001b[0m\u001b[0;34m\u001b[0m\u001b[0;34m\u001b[0m\u001b[0m\n\u001b[1;32m     10\u001b[0m             \u001b[0mdepl_loc_diff\u001b[0m\u001b[0;34m[\u001b[0m\u001b[0mii\u001b[0m\u001b[0;34m]\u001b[0m\u001b[0;34m[\u001b[0m\u001b[0mjj\u001b[0m\u001b[0;34m]\u001b[0m \u001b[0;34m=\u001b[0m \u001b[0;34m'-'\u001b[0m\u001b[0;34m\u001b[0m\u001b[0;34m\u001b[0m\u001b[0m\n\u001b[0;32m---> 11\u001b[0;31m \u001b[0mtest\u001b[0m\u001b[0;34m\u001b[0m\u001b[0;34m\u001b[0m\u001b[0m\n\u001b[0m",
      "\u001b[0;31mNameError\u001b[0m: name 'test' is not defined"
     ]
    }
   ],
   "source": [
    "for jj in list(df.index): \n",
    "    tn = xy.get_group(str(jj))\n",
    "    for ii in list(df.index):\n",
    "        x = tn[tn['loc-tn'] == str(ii)]\n",
    "        if len(x) != 0: \n",
    "            depl_loc_diff[ii][jj] = tn['diff (km)'][tn['loc-tn'] == str(ii)].values[0]\n",
    "            depl_loc_diff[jj][ii] = tn['diff (km)'][tn['loc-tn'] == str(ii)].values[0]\n",
    "            print(ii, jj, len(x),depl_loc_diff[ii][jj], depl_loc_diff[jj][ii])\n",
    "        else:\n",
    "            depl_loc_diff[ii][jj] = '-' \n",
    "test"
   ]
  },
  {
   "cell_type": "code",
   "execution_count": null,
   "metadata": {},
   "outputs": [],
   "source": []
  }
 ],
 "metadata": {
  "kernelspec": {
   "display_name": "Python 3",
   "language": "python",
   "name": "python3"
  },
  "language_info": {
   "codemirror_mode": {
    "name": "ipython",
    "version": 3
   },
   "file_extension": ".py",
   "mimetype": "text/x-python",
   "name": "python",
   "nbconvert_exporter": "python",
   "pygments_lexer": "ipython3",
   "version": "3.7.2"
  }
 },
 "nbformat": 4,
 "nbformat_minor": 2
}
