{
 "cells": [
  {
   "cell_type": "code",
   "execution_count": 5,
   "metadata": {},
   "outputs": [],
   "source": [
    "import datetime as dt\n",
    "import pandas as pd\n",
    "import os\n",
    "import itertools\n",
    "import functions.common as cf\n",
    "from scripts import interactive_inputs\n",
    "from scripts import data_request_urls_ooi1_0\n",
    "from scripts import send_data_requests_nc\n",
    "from scripts import data_request_tools"
   ]
  },
  {
   "cell_type": "code",
   "execution_count": 15,
   "metadata": {},
   "outputs": [],
   "source": [
    "sDir = '/Users/leila/Documents/Desktop/8thEGOMeeting-notebooks'\n",
    "f = '/Users/leila/Documents/NSFEduSupport/github/8thEGOMeeting-notebooks/instrument_list.csv'\n",
    "username = 'OOIAPI-4J3Y5ISGDUPDB7'\n",
    "token = '4OT8YQUME0XOQF'\n",
    "\n",
    "cf.create_dir(sDir)\n",
    "now = dt.datetime.now().strftime('%Y%m%dT%H%M')"
   ]
  },
  {
   "cell_type": "code",
   "execution_count": 16,
   "metadata": {},
   "outputs": [],
   "source": [
    "df = pd.read_csv(os.path.join(sDir, f))"
   ]
  },
  {
   "cell_type": "code",
   "execution_count": 17,
   "metadata": {},
   "outputs": [
    {
     "name": "stdout",
     "output_type": "stream",
     "text": [
      "CP05MOAS-GL336-03-CTDGVM000 ['CP'] ['CP05MOAS'] ['GL336'] ['03-CTDGVM000'] ['telemetered']\n",
      "CP05MOAS-GL336-04-DOSTAM000 ['CP'] ['CP05MOAS'] ['GL336'] ['04-DOSTAM000'] ['telemetered']\n",
      "CP05MOAS-GL336-05-PARADM000 ['CP'] ['CP05MOAS'] ['GL336'] ['05-PARADM000'] ['telemetered']\n",
      "CP05MOAS-GL336-02-FLORTM000 ['CP'] ['CP05MOAS'] ['GL336'] ['02-FLORTM000'] ['telemetered']\n",
      "CP05MOAS-GL336-03-CTDGVM000 ['CP'] ['CP05MOAS'] ['GL336'] ['03-CTDGVM000'] ['recovered_host']\n"
     ]
    },
    {
     "ename": "Exception",
     "evalue": "Invalid delivery_method: recovered_host",
     "output_type": "error",
     "traceback": [
      "\u001b[0;31m---------------------------------------------------------------------------\u001b[0m",
      "\u001b[0;31mException\u001b[0m                                 Traceback (most recent call last)",
      "\u001b[0;32m<ipython-input-17-99a130054042>\u001b[0m in \u001b[0;36m<module>\u001b[0;34m()\u001b[0m\n\u001b[1;32m     20\u001b[0m     \u001b[0mprint\u001b[0m\u001b[0;34m(\u001b[0m\u001b[0mrefdes\u001b[0m\u001b[0;34m,\u001b[0m \u001b[0marray\u001b[0m\u001b[0;34m,\u001b[0m \u001b[0msubsite\u001b[0m\u001b[0;34m,\u001b[0m \u001b[0mnode\u001b[0m\u001b[0;34m,\u001b[0m \u001b[0minst\u001b[0m\u001b[0;34m,\u001b[0m \u001b[0mdelivery_methods\u001b[0m\u001b[0;34m)\u001b[0m\u001b[0;34m\u001b[0m\u001b[0;34m\u001b[0m\u001b[0m\n\u001b[1;32m     21\u001b[0m \u001b[0;34m\u001b[0m\u001b[0m\n\u001b[0;32m---> 22\u001b[0;31m     \u001b[0murls\u001b[0m \u001b[0;34m=\u001b[0m \u001b[0mdata_request_urls_ooi1_0\u001b[0m\u001b[0;34m.\u001b[0m\u001b[0mmain\u001b[0m\u001b[0;34m(\u001b[0m\u001b[0msDir\u001b[0m\u001b[0;34m,\u001b[0m \u001b[0marray\u001b[0m\u001b[0;34m,\u001b[0m \u001b[0msubsite\u001b[0m\u001b[0;34m,\u001b[0m \u001b[0mnode\u001b[0m\u001b[0;34m,\u001b[0m \u001b[0minst\u001b[0m\u001b[0;34m,\u001b[0m \u001b[0mdelivery_methods\u001b[0m\u001b[0;34m,\u001b[0m \u001b[0mnow\u001b[0m\u001b[0;34m)\u001b[0m\u001b[0;34m\u001b[0m\u001b[0;34m\u001b[0m\u001b[0m\n\u001b[0m\u001b[1;32m     23\u001b[0m     \u001b[0murl_list\u001b[0m\u001b[0;34m.\u001b[0m\u001b[0mappend\u001b[0m\u001b[0;34m(\u001b[0m\u001b[0murls\u001b[0m\u001b[0;34m)\u001b[0m\u001b[0;34m\u001b[0m\u001b[0;34m\u001b[0m\u001b[0m\n",
      "\u001b[0;32m~/Documents/NSFEduSupport/github/8thEGOMeeting-notebooks/scripts/data_request_urls_ooi1_0.py\u001b[0m in \u001b[0;36mmain\u001b[0;34m(sDir, array, subsite, node, inst, delivery_methods, now)\u001b[0m\n\u001b[1;32m     51\u001b[0m     \u001b[0mrl\u001b[0m \u001b[0;34m=\u001b[0m \u001b[0mpd\u001b[0m\u001b[0;34m.\u001b[0m\u001b[0mread_csv\u001b[0m\u001b[0;34m(\u001b[0m\u001b[0;34m'https://raw.githubusercontent.com/ooi-data-lab/data-review-prep/master/review_list/data_review_list.csv'\u001b[0m\u001b[0;34m)\u001b[0m\u001b[0;34m\u001b[0m\u001b[0;34m\u001b[0m\u001b[0m\n\u001b[1;32m     52\u001b[0m \u001b[0;34m\u001b[0m\u001b[0m\n\u001b[0;32m---> 53\u001b[0;31m     \u001b[0mdmethods\u001b[0m \u001b[0;34m=\u001b[0m \u001b[0mdata_request_tools\u001b[0m\u001b[0;34m.\u001b[0m\u001b[0mdefine_methods\u001b[0m\u001b[0;34m(\u001b[0m\u001b[0mdelivery_methods\u001b[0m\u001b[0;34m)\u001b[0m\u001b[0;34m\u001b[0m\u001b[0;34m\u001b[0m\u001b[0m\n\u001b[0m\u001b[1;32m     54\u001b[0m     \u001b[0mrlf\u001b[0m \u001b[0;34m=\u001b[0m \u001b[0mdata_request_tools\u001b[0m\u001b[0;34m.\u001b[0m\u001b[0mfilter_dataframe\u001b[0m\u001b[0;34m(\u001b[0m\u001b[0mrl\u001b[0m\u001b[0;34m,\u001b[0m \u001b[0marray\u001b[0m\u001b[0;34m,\u001b[0m \u001b[0msubsite\u001b[0m\u001b[0;34m,\u001b[0m \u001b[0mnode\u001b[0m\u001b[0;34m,\u001b[0m \u001b[0minst\u001b[0m\u001b[0;34m)\u001b[0m\u001b[0;34m\u001b[0m\u001b[0;34m\u001b[0m\u001b[0m\n\u001b[1;32m     55\u001b[0m     \u001b[0mrefdes_list\u001b[0m \u001b[0;34m=\u001b[0m \u001b[0mrlf\u001b[0m\u001b[0;34m[\u001b[0m\u001b[0;34m'Reference Designator'\u001b[0m\u001b[0;34m]\u001b[0m\u001b[0;34m.\u001b[0m\u001b[0munique\u001b[0m\u001b[0;34m(\u001b[0m\u001b[0;34m)\u001b[0m\u001b[0;34m.\u001b[0m\u001b[0mtolist\u001b[0m\u001b[0;34m(\u001b[0m\u001b[0;34m)\u001b[0m\u001b[0;34m\u001b[0m\u001b[0;34m\u001b[0m\u001b[0m\n",
      "\u001b[0;32m~/Documents/NSFEduSupport/github/8thEGOMeeting-notebooks/scripts/data_request_tools.py\u001b[0m in \u001b[0;36mdefine_methods\u001b[0;34m(delivery_method)\u001b[0m\n\u001b[1;32m     29\u001b[0m     \u001b[0;32mfor\u001b[0m \u001b[0md\u001b[0m \u001b[0;32min\u001b[0m \u001b[0mdelivery_method\u001b[0m\u001b[0;34m:\u001b[0m\u001b[0;34m\u001b[0m\u001b[0;34m\u001b[0m\u001b[0m\n\u001b[1;32m     30\u001b[0m         \u001b[0;32mif\u001b[0m \u001b[0md\u001b[0m \u001b[0;32mnot\u001b[0m \u001b[0;32min\u001b[0m \u001b[0mvalid_inputs\u001b[0m\u001b[0;34m:\u001b[0m\u001b[0;34m\u001b[0m\u001b[0;34m\u001b[0m\u001b[0m\n\u001b[0;32m---> 31\u001b[0;31m             \u001b[0;32mraise\u001b[0m \u001b[0mException\u001b[0m\u001b[0;34m(\u001b[0m\u001b[0;34m'Invalid delivery_method: %s'\u001b[0m \u001b[0;34m%\u001b[0m\u001b[0md\u001b[0m\u001b[0;34m)\u001b[0m\u001b[0;34m\u001b[0m\u001b[0;34m\u001b[0m\u001b[0m\n\u001b[0m\u001b[1;32m     32\u001b[0m         \u001b[0;32melse\u001b[0m\u001b[0;34m:\u001b[0m\u001b[0;34m\u001b[0m\u001b[0;34m\u001b[0m\u001b[0m\n\u001b[1;32m     33\u001b[0m             \u001b[0;32mif\u001b[0m \u001b[0md\u001b[0m \u001b[0;34m==\u001b[0m \u001b[0;34m'recovered'\u001b[0m\u001b[0;34m:\u001b[0m\u001b[0;34m\u001b[0m\u001b[0;34m\u001b[0m\u001b[0m\n",
      "\u001b[0;31mException\u001b[0m: Invalid delivery_method: recovered_host"
     ]
    }
   ],
   "source": [
    "url_list = []\n",
    "for i, j in df.iterrows():\n",
    "    array = data_request_tools.check_str(j['array'])\n",
    "    array = data_request_tools.format_inputs(array)\n",
    "    refdes = j['reference_designator']\n",
    "    if type(refdes) == str:\n",
    "        subsite = data_request_tools.format_inputs(refdes.split('-')[0])\n",
    "        node = data_request_tools.format_inputs(refdes.split('-')[1])\n",
    "        inst = data_request_tools.format_inputs('-'.join((refdes.split('-')[2], refdes.split('-')[3])))\n",
    "    else:\n",
    "        subsite = data_request_tools.check_str(j['subsite'])\n",
    "        subsite = data_request_tools.format_inputs(subsite)\n",
    "        node = data_request_tools.check_str(j['node'])\n",
    "        node = data_request_tools.format_inputs(node)\n",
    "        inst = data_request_tools.check_str(j['sensor'])\n",
    "        inst = data_request_tools.format_inputs(inst)\n",
    "    delivery_methods = data_request_tools.check_str(j['delivery_method'])\n",
    "    delivery_methods = data_request_tools.format_inputs(delivery_methods)\n",
    "    \n",
    "    print(refdes, array, subsite, node, inst, delivery_methods)\n",
    "    \n",
    "    urls = data_request_urls_ooi1_0.main(sDir, array, subsite, node, inst, delivery_methods, now)\n",
    "    url_list.append(urls)"
   ]
  },
  {
   "cell_type": "code",
   "execution_count": null,
   "metadata": {},
   "outputs": [],
   "source": [
    "f_url_list = list(itertools.chain(*url_list))\n",
    "\n",
    "thredds_output_urls = send_data_requests_nc.main(sDir, f_url_list, username, token, now)\n",
    "\n",
    "print('\\nSeeing if the requests have fulfilled...')\n",
    "for i in range(len(thredds_output_urls)):\n",
    "    url = thredds_output_urls[i]\n",
    "    print('\\nDataset {} of {}: {}'.format((i + 1), len(thredds_output_urls), url))\n",
    "    if 'no_output_url' not in url:\n",
    "        cf.check_request_status(url)"
   ]
  }
 ],
 "metadata": {
  "kernelspec": {
   "display_name": "Python 3",
   "language": "python",
   "name": "python3"
  },
  "language_info": {
   "codemirror_mode": {
    "name": "ipython",
    "version": 3
   },
   "file_extension": ".py",
   "mimetype": "text/x-python",
   "name": "python",
   "nbconvert_exporter": "python",
   "pygments_lexer": "ipython3",
   "version": "3.7.2"
  }
 },
 "nbformat": 4,
 "nbformat_minor": 2
}
