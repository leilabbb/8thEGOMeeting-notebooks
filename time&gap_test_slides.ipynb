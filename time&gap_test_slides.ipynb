{
 "cells": [
  {
   "cell_type": "markdown",
   "metadata": {
    "slideshow": {
     "slide_type": "slide"
    }
   },
   "source": [
    "**Data Time & Gap Tests**"
   ]
  },
  {
   "cell_type": "code",
   "execution_count": 85,
   "metadata": {
    "slideshow": {
     "slide_type": "slide"
    }
   },
   "outputs": [],
   "source": [
    "import pandas as pd\n",
    "import functions.common as cf\n",
    "import functions.plotting as pf\n",
    "import xarray as xr\n",
    "from datetime import timedelta\n",
    "import numpy as np\n",
    "import datetime as dt\n",
    "import netCDF4 as nc\n",
    "from termcolor import colored"
   ]
  },
  {
   "cell_type": "markdown",
   "metadata": {
    "slideshow": {
     "slide_type": "slide"
    }
   },
   "source": [
    "**Datasets Review List**"
   ]
  },
  {
   "cell_type": "code",
   "execution_count": 86,
   "metadata": {
    "slideshow": {
     "slide_type": "slide"
    }
   },
   "outputs": [],
   "source": [
    "reviewlist = pd.read_csv('define_datareview_list.csv')\n",
    "#reviewlist = pd.DataFrame(reviewlist).rename(index=str, columns={'Unnamed: 0': 'deployment'})\n",
    "reviewlist.index = reviewlist['Unnamed: 0'].values"
   ]
  },
  {
   "cell_type": "code",
   "execution_count": 61,
   "metadata": {
    "slideshow": {
     "slide_type": "subslide"
    }
   },
   "outputs": [
    {
     "data": {
      "text/html": [
       "<div>\n",
       "<style scoped>\n",
       "    .dataframe tbody tr th:only-of-type {\n",
       "        vertical-align: middle;\n",
       "    }\n",
       "\n",
       "    .dataframe tbody tr th {\n",
       "        vertical-align: top;\n",
       "    }\n",
       "\n",
       "    .dataframe thead th {\n",
       "        text-align: right;\n",
       "    }\n",
       "</style>\n",
       "<table border=\"1\" class=\"dataframe\">\n",
       "  <thead>\n",
       "    <tr style=\"text-align: right;\">\n",
       "      <th></th>\n",
       "      <th>method</th>\n",
       "      <th>datasets</th>\n",
       "    </tr>\n",
       "  </thead>\n",
       "  <tbody>\n",
       "    <tr>\n",
       "      <th>deployment0001</th>\n",
       "      <td>recovered_host</td>\n",
       "      <td>https://opendap.oceanobservatories.org/thredds/dodsC/ooi/leila.ocean@gmail.com/20190306T174413-CP05MOAS-GL379-03-CTDGVM000-recovered_host-ctdgv_m_glider_instrument_recovered/deployment0001_CP05MOAS-GL379-03-CTDGVM000-recovered_host-ctdgv_m_glider_instrument_recovered_20140415T132159.798580-20140706T212524.736690.nc</td>\n",
       "    </tr>\n",
       "    <tr>\n",
       "      <th>deployment0002</th>\n",
       "      <td>recovered_host</td>\n",
       "      <td>https://opendap.oceanobservatories.org/thredds/dodsC/ooi/leila.ocean@gmail.com/20190306T174413-CP05MOAS-GL379-03-CTDGVM000-recovered_host-ctdgv_m_glider_instrument_recovered/deployment0002_CP05MOAS-GL379-03-CTDGVM000-recovered_host-ctdgv_m_glider_instrument_recovered_20150509T113514.756870-20150625T150702.264890.nc</td>\n",
       "    </tr>\n",
       "    <tr>\n",
       "      <th>deployment0003</th>\n",
       "      <td>recovered_host</td>\n",
       "      <td>https://opendap.oceanobservatories.org/thredds/dodsC/ooi/leila.ocean@gmail.com/20190306T174413-CP05MOAS-GL379-03-CTDGVM000-recovered_host-ctdgv_m_glider_instrument_recovered/deployment0003_CP05MOAS-GL379-03-CTDGVM000-recovered_host-ctdgv_m_glider_instrument_recovered_20160121T150043.663730-20160518T015328.144100.nc</td>\n",
       "    </tr>\n",
       "    <tr>\n",
       "      <th>deployment0004</th>\n",
       "      <td>telemetered</td>\n",
       "      <td>https://opendap.oceanobservatories.org/thredds/dodsC/ooi/leila.ocean@gmail.com/20190306T174435-CP05MOAS-GL379-03-CTDGVM000-telemetered-ctdgv_m_glider_instrument/deployment0004_CP05MOAS-GL379-03-CTDGVM000-telemetered-ctdgv_m_glider_instrument_20170116T125355.760380-20170116T221950.330870.nc</td>\n",
       "    </tr>\n",
       "  </tbody>\n",
       "</table>\n",
       "</div>"
      ],
      "text/plain": [
       "                        method  \\\n",
       "deployment0001  recovered_host   \n",
       "deployment0002  recovered_host   \n",
       "deployment0003  recovered_host   \n",
       "deployment0004  telemetered      \n",
       "\n",
       "                                                                                                                                                                                                                                                                                                                                    datasets  \n",
       "deployment0001  https://opendap.oceanobservatories.org/thredds/dodsC/ooi/leila.ocean@gmail.com/20190306T174413-CP05MOAS-GL379-03-CTDGVM000-recovered_host-ctdgv_m_glider_instrument_recovered/deployment0001_CP05MOAS-GL379-03-CTDGVM000-recovered_host-ctdgv_m_glider_instrument_recovered_20140415T132159.798580-20140706T212524.736690.nc  \n",
       "deployment0002  https://opendap.oceanobservatories.org/thredds/dodsC/ooi/leila.ocean@gmail.com/20190306T174413-CP05MOAS-GL379-03-CTDGVM000-recovered_host-ctdgv_m_glider_instrument_recovered/deployment0002_CP05MOAS-GL379-03-CTDGVM000-recovered_host-ctdgv_m_glider_instrument_recovered_20150509T113514.756870-20150625T150702.264890.nc  \n",
       "deployment0003  https://opendap.oceanobservatories.org/thredds/dodsC/ooi/leila.ocean@gmail.com/20190306T174413-CP05MOAS-GL379-03-CTDGVM000-recovered_host-ctdgv_m_glider_instrument_recovered/deployment0003_CP05MOAS-GL379-03-CTDGVM000-recovered_host-ctdgv_m_glider_instrument_recovered_20160121T150043.663730-20160518T015328.144100.nc  \n",
       "deployment0004  https://opendap.oceanobservatories.org/thredds/dodsC/ooi/leila.ocean@gmail.com/20190306T174435-CP05MOAS-GL379-03-CTDGVM000-telemetered-ctdgv_m_glider_instrument/deployment0004_CP05MOAS-GL379-03-CTDGVM000-telemetered-ctdgv_m_glider_instrument_20170116T125355.760380-20170116T221950.330870.nc                            "
      ]
     },
     "execution_count": 61,
     "metadata": {},
     "output_type": "execute_result"
    }
   ],
   "source": [
    "pd.set_option('display.max_colwidth', -1)\n",
    "pd.DataFrame(reviewlist)[['method','datasets']]"
   ]
  },
  {
   "cell_type": "markdown",
   "metadata": {
    "slideshow": {
     "slide_type": "slide"
    }
   },
   "source": [
    "**Get Deployment Information**"
   ]
  },
  {
   "cell_type": "code",
   "execution_count": 90,
   "metadata": {
    "slideshow": {
     "slide_type": "-"
    }
   },
   "outputs": [],
   "source": [
    "col = list(reviewlist.columns)\n",
    "refdes = reviewlist[col[1]][0].split('/')[-1].split('_')[1][0:27]\n",
    "dr_data = cf.refdes_datareview_json(refdes)\n",
    "tf = pd.DataFrame(dr_data['instrument']['deployments'])[['deployment_number','start_date','stop_date']]\n",
    "tf.index = tf['deployment_number'].values"
   ]
  },
  {
   "cell_type": "code",
   "execution_count": 91,
   "metadata": {
    "slideshow": {
     "slide_type": "-"
    }
   },
   "outputs": [
    {
     "data": {
      "text/html": [
       "<div>\n",
       "<style scoped>\n",
       "    .dataframe tbody tr th:only-of-type {\n",
       "        vertical-align: middle;\n",
       "    }\n",
       "\n",
       "    .dataframe tbody tr th {\n",
       "        vertical-align: top;\n",
       "    }\n",
       "\n",
       "    .dataframe thead th {\n",
       "        text-align: right;\n",
       "    }\n",
       "</style>\n",
       "<table border=\"1\" class=\"dataframe\">\n",
       "  <thead>\n",
       "    <tr style=\"text-align: right;\">\n",
       "      <th></th>\n",
       "      <th>start_date</th>\n",
       "      <th>stop_date</th>\n",
       "    </tr>\n",
       "  </thead>\n",
       "  <tbody>\n",
       "    <tr>\n",
       "      <th>1</th>\n",
       "      <td>2014-04-15T13:15:00+00:00</td>\n",
       "      <td>2014-07-11T00:00:00+00:00</td>\n",
       "    </tr>\n",
       "    <tr>\n",
       "      <th>2</th>\n",
       "      <td>2015-05-09T11:02:00+00:00</td>\n",
       "      <td>2015-07-02T00:00:00+00:00</td>\n",
       "    </tr>\n",
       "    <tr>\n",
       "      <th>3</th>\n",
       "      <td>2016-01-21T15:00:00+00:00</td>\n",
       "      <td>2016-05-18T03:56:00+00:00</td>\n",
       "    </tr>\n",
       "    <tr>\n",
       "      <th>4</th>\n",
       "      <td>2017-01-16T12:46:00+00:00</td>\n",
       "      <td>2017-01-16T23:59:59+00:00</td>\n",
       "    </tr>\n",
       "    <tr>\n",
       "      <th>6</th>\n",
       "      <td>2019-02-05T07:54:00+00:00</td>\n",
       "      <td>None</td>\n",
       "    </tr>\n",
       "  </tbody>\n",
       "</table>\n",
       "</div>"
      ],
      "text/plain": [
       "                  start_date                  stop_date\n",
       "1  2014-04-15T13:15:00+00:00  2014-07-11T00:00:00+00:00\n",
       "2  2015-05-09T11:02:00+00:00  2015-07-02T00:00:00+00:00\n",
       "3  2016-01-21T15:00:00+00:00  2016-05-18T03:56:00+00:00\n",
       "4  2017-01-16T12:46:00+00:00  2017-01-16T23:59:59+00:00\n",
       "6  2019-02-05T07:54:00+00:00  None                     "
      ]
     },
     "execution_count": 91,
     "metadata": {},
     "output_type": "execute_result"
    }
   ],
   "source": [
    "pd.set_option('display.max_colwidth', -1)\n",
    "tf[['start_date','stop_date']]"
   ]
  },
  {
   "cell_type": "markdown",
   "metadata": {
    "slideshow": {
     "slide_type": "slide"
    }
   },
   "source": [
    "**Get Annotations**"
   ]
  },
  {
   "cell_type": "code",
   "execution_count": 74,
   "metadata": {
    "slideshow": {
     "slide_type": "skip"
    }
   },
   "outputs": [],
   "source": [
    "tf = pd.DataFrame(dr_data['instrument']['annotations'])[['reference_designator','annotation','end_datetime','start_datetime']]\n",
    "tf.index = tf['reference_designator'].values"
   ]
  },
  {
   "cell_type": "code",
   "execution_count": 76,
   "metadata": {
    "slideshow": {
     "slide_type": "slide"
    }
   },
   "outputs": [
    {
     "data": {
      "text/html": [
       "<div>\n",
       "<style scoped>\n",
       "    .dataframe tbody tr th:only-of-type {\n",
       "        vertical-align: middle;\n",
       "    }\n",
       "\n",
       "    .dataframe tbody tr th {\n",
       "        vertical-align: top;\n",
       "    }\n",
       "\n",
       "    .dataframe thead th {\n",
       "        text-align: right;\n",
       "    }\n",
       "</style>\n",
       "<table border=\"1\" class=\"dataframe\">\n",
       "  <thead>\n",
       "    <tr style=\"text-align: right;\">\n",
       "      <th></th>\n",
       "      <th>annotation</th>\n",
       "      <th>end_datetime</th>\n",
       "      <th>start_datetime</th>\n",
       "    </tr>\n",
       "  </thead>\n",
       "  <tbody>\n",
       "    <tr>\n",
       "      <th>CP05MOAS-GL379-03-CTDGVM000</th>\n",
       "      <td>Science data were truncated on 2016-05-01 to extend the battery life and the CTD was finally shut down on 2016-05-06.</td>\n",
       "      <td>2016-05-17T20:00:00+00:00</td>\n",
       "      <td>2016-05-01T16:00:00+00:00</td>\n",
       "    </tr>\n",
       "    <tr>\n",
       "      <th>CP05MOAS-GL379</th>\n",
       "      <td>Glider leaked and was recovered within 12 hours. No recovered data are expected.</td>\n",
       "      <td>2017-01-16T18:59:59+00:00</td>\n",
       "      <td>2017-01-16T07:46:00+00:00</td>\n",
       "    </tr>\n",
       "    <tr>\n",
       "      <th>CP05MOAS-GL379</th>\n",
       "      <td>Glider recovered same day for leak.</td>\n",
       "      <td>2017-01-16T18:59:59+00:00</td>\n",
       "      <td>2017-01-16T07:46:00+00:00</td>\n",
       "    </tr>\n",
       "  </tbody>\n",
       "</table>\n",
       "</div>"
      ],
      "text/plain": [
       "                                                                                                                                        annotation  \\\n",
       "CP05MOAS-GL379-03-CTDGVM000  Science data were truncated on 2016-05-01 to extend the battery life and the CTD was finally shut down on 2016-05-06.   \n",
       "CP05MOAS-GL379               Glider leaked and was recovered within 12 hours. No recovered data are expected.                                        \n",
       "CP05MOAS-GL379               Glider recovered same day for leak.                                                                                     \n",
       "\n",
       "                                          end_datetime  \\\n",
       "CP05MOAS-GL379-03-CTDGVM000  2016-05-17T20:00:00+00:00   \n",
       "CP05MOAS-GL379               2017-01-16T18:59:59+00:00   \n",
       "CP05MOAS-GL379               2017-01-16T18:59:59+00:00   \n",
       "\n",
       "                                        start_datetime  \n",
       "CP05MOAS-GL379-03-CTDGVM000  2016-05-01T16:00:00+00:00  \n",
       "CP05MOAS-GL379               2017-01-16T07:46:00+00:00  \n",
       "CP05MOAS-GL379               2017-01-16T07:46:00+00:00  "
      ]
     },
     "execution_count": 76,
     "metadata": {},
     "output_type": "execute_result"
    }
   ],
   "source": [
    "pd.set_option('display.max_colwidth', -1)\n",
    "tf[['annotation','end_datetime','start_datetime']]"
   ]
  },
  {
   "cell_type": "markdown",
   "metadata": {
    "slideshow": {
     "slide_type": "slide"
    }
   },
   "source": [
    "<p style=\"color:green;\">Deployment Days</p>\n",
    "\n",
    "Number of days the instrument was deployed.\n",
    "\n",
    "<p style=\"color:green;\">File Days</p>\n",
    "Number of days for which there is at least 1 timestamp available for the instrument.\n",
    "\n",
    "<p style=\"color:green;\">Start Gap</p>\n",
    "Number of missing days at the start of a deployment: comparison of the deployment start date to the data start date.\n",
    "\n",
    "<p style=\"color:green;\">Timestamps</p>\n",
    "Number of timestamps in a data file."
   ]
  },
  {
   "cell_type": "code",
   "execution_count": 77,
   "metadata": {
    "slideshow": {
     "slide_type": "slide"
    }
   },
   "outputs": [],
   "source": [
    "df = pd.DataFrame()\n",
    "for ii in range(len(reviewlist)):         \n",
    "    deploy_num = int(reviewlist[col[0]][ii].split('t')[-1])\n",
    "    deploy_info = cf.get_deployment_information(dr_data, deploy_num)\n",
    "    deploy_depth = deploy_info['deployment_depth']\n",
    "    \n",
    "    # Calculate days deployed\n",
    "    deploy_start = str(deploy_info['start_date'])\n",
    "    deploy_stop = str(deploy_info['stop_date'])    \n",
    "    if deploy_stop != 'None':\n",
    "        r_deploy_start = pd.to_datetime(deploy_start).replace(hour=0, minute=0, second=0)\n",
    "        if deploy_stop.split('T')[1] == '00:00:00':\n",
    "            r_deploy_stop = pd.to_datetime(deploy_stop)\n",
    "        else:\n",
    "            r_deploy_stop = (pd.to_datetime(deploy_stop) + timedelta(days=1)).replace(hour=0, minute=0, second=0)\n",
    "        n_days_deployed = (r_deploy_stop - r_deploy_start).days\n",
    "    else:\n",
    "        n_days_deployed = None\n",
    "    \n",
    "    # Get time array\n",
    "    ds = xr.open_dataset(reviewlist[col[1]][ii], mask_and_scale=False)\n",
    "    ds = ds.swap_dims({'obs': 'time'})\n",
    "    time = ds['time']\n",
    "    \n",
    "    # Check that the timestamps in the file are unique\n",
    "    len_time = time.__len__()\n",
    "    len_time_unique = np.unique(time).__len__()\n",
    "    \n",
    "    # calculate gaps size at start of deployment    \n",
    "    start_gap = (pd.to_datetime(str(time.values[0])) - r_deploy_start).days\n",
    "   \n",
    "    # calculate gap size at end of deployment\n",
    "    end_gap = (r_deploy_stop - pd.to_datetime(str(time.values[-1]))).days    \n",
    "    \n",
    "    # Count the number of days for which there is at least 1 timestamp    \n",
    "    n_days = len(np.unique(time.values.astype('datetime64[D]')))\n",
    "    \n",
    "    df0 = pd.DataFrame({\n",
    "                        'method': [reviewlist[col[2]][ii]],                       \n",
    "                        'n_days_deployed': [n_days_deployed],\n",
    "                        'n_days_file': [n_days], \n",
    "                        'num_timestamps': [len_time],\n",
    "                        'start_gap': [start_gap],\n",
    "                        'end_gap': [end_gap]\n",
    "                        }, index=[deploy_num])\n",
    "\n",
    "    df = df.append(df0)"
   ]
  },
  {
   "cell_type": "code",
   "execution_count": 78,
   "metadata": {
    "slideshow": {
     "slide_type": "subslide"
    }
   },
   "outputs": [
    {
     "data": {
      "text/html": [
       "<div>\n",
       "<style scoped>\n",
       "    .dataframe tbody tr th:only-of-type {\n",
       "        vertical-align: middle;\n",
       "    }\n",
       "\n",
       "    .dataframe tbody tr th {\n",
       "        vertical-align: top;\n",
       "    }\n",
       "\n",
       "    .dataframe thead th {\n",
       "        text-align: right;\n",
       "    }\n",
       "</style>\n",
       "<table border=\"1\" class=\"dataframe\">\n",
       "  <thead>\n",
       "    <tr style=\"text-align: right;\">\n",
       "      <th></th>\n",
       "      <th>method</th>\n",
       "      <th>n_days_deployed</th>\n",
       "      <th>n_days_file</th>\n",
       "      <th>num_timestamps</th>\n",
       "      <th>start_gap</th>\n",
       "      <th>end_gap</th>\n",
       "    </tr>\n",
       "  </thead>\n",
       "  <tbody>\n",
       "    <tr>\n",
       "      <th>1</th>\n",
       "      <td>recovered_host</td>\n",
       "      <td>88</td>\n",
       "      <td>83</td>\n",
       "      <td>1697681</td>\n",
       "      <td>0</td>\n",
       "      <td>5</td>\n",
       "    </tr>\n",
       "    <tr>\n",
       "      <th>2</th>\n",
       "      <td>recovered_host</td>\n",
       "      <td>55</td>\n",
       "      <td>48</td>\n",
       "      <td>1876498</td>\n",
       "      <td>0</td>\n",
       "      <td>7</td>\n",
       "    </tr>\n",
       "    <tr>\n",
       "      <th>3</th>\n",
       "      <td>recovered_host</td>\n",
       "      <td>119</td>\n",
       "      <td>119</td>\n",
       "      <td>3822788</td>\n",
       "      <td>0</td>\n",
       "      <td>0</td>\n",
       "    </tr>\n",
       "    <tr>\n",
       "      <th>4</th>\n",
       "      <td>telemetered</td>\n",
       "      <td>1</td>\n",
       "      <td>1</td>\n",
       "      <td>212</td>\n",
       "      <td>0</td>\n",
       "      <td>0</td>\n",
       "    </tr>\n",
       "  </tbody>\n",
       "</table>\n",
       "</div>"
      ],
      "text/plain": [
       "           method  n_days_deployed  n_days_file  num_timestamps  start_gap  \\\n",
       "1  recovered_host  88               83           1697681         0           \n",
       "2  recovered_host  55               48           1876498         0           \n",
       "3  recovered_host  119              119          3822788         0           \n",
       "4  telemetered     1                1            212             0           \n",
       "\n",
       "   end_gap  \n",
       "1  5        \n",
       "2  7        \n",
       "3  0        \n",
       "4  0        "
      ]
     },
     "execution_count": 78,
     "metadata": {},
     "output_type": "execute_result"
    }
   ],
   "source": [
    "pd.set_option('display.max_colwidth', -1)\n",
    "(df)"
   ]
  },
  {
   "cell_type": "markdown",
   "metadata": {
    "slideshow": {
     "slide_type": "subslide"
    }
   },
   "source": [
    "**Note**\n",
    "<p style=\"color:red;\">No annotation in the system to explain the gaps at the end of deployments 1 and 2.</p>"
   ]
  },
  {
   "cell_type": "markdown",
   "metadata": {
    "slideshow": {
     "slide_type": "slide"
    }
   },
   "source": [
    "<p style=\"color:green;\">End Gap</p>\n",
    "Number of missing days at the end of a deployment: comparison of the deployment end date to the data end date.\n",
    "<p style=\"color:green;\">Gaps Count</p>\n",
    "Number of gaps within a data file (exclusive of missing data at the beginning and end of a deployment). Gap is defined as >1 day of missing data.\n",
    "<p style=\"color:green;\">Gap Days</p>\n",
    "Number of days of missing data within a data file (exclusive of missing data at the beginning and end of a deployment).\n"
   ]
  },
  {
   "cell_type": "code",
   "execution_count": 79,
   "metadata": {
    "slideshow": {
     "slide_type": "skip"
    }
   },
   "outputs": [],
   "source": [
    "df = pd.DataFrame()\n",
    "for ii in range(len(reviewlist)):\n",
    "    deploy_num = int(reviewlist[col[0]][ii].split('t')[-1])\n",
    "    # Get time array\n",
    "    ds = xr.open_dataset(reviewlist[col[1]][ii], mask_and_scale=False)\n",
    "    ds = ds.swap_dims({'obs': 'time'})\n",
    "    time = ds['time']\n",
    "    \n",
    "    # Get a list of data gaps >1 day    \n",
    "    time_df = pd.DataFrame(time.values, columns=['time'])\n",
    "    gap_list = cf.timestamp_gap_test(time_df)\n",
    "    df0 = pd.DataFrame({\n",
    "                        'method': [reviewlist[col[2]][ii]],                                           \n",
    "                        'gap_list': [gap_list],\n",
    "                        'num_gaps': [int(len(gap_list))]\n",
    "                        }, index=[deploy_num])\n",
    "\n",
    "    df = df.append(df0)  "
   ]
  },
  {
   "cell_type": "code",
   "execution_count": 80,
   "metadata": {
    "slideshow": {
     "slide_type": "subslide"
    }
   },
   "outputs": [
    {
     "data": {
      "text/html": [
       "<div>\n",
       "<style scoped>\n",
       "    .dataframe tbody tr th:only-of-type {\n",
       "        vertical-align: middle;\n",
       "    }\n",
       "\n",
       "    .dataframe tbody tr th {\n",
       "        vertical-align: top;\n",
       "    }\n",
       "\n",
       "    .dataframe thead th {\n",
       "        text-align: right;\n",
       "    }\n",
       "</style>\n",
       "<table border=\"1\" class=\"dataframe\">\n",
       "  <thead>\n",
       "    <tr style=\"text-align: right;\">\n",
       "      <th></th>\n",
       "      <th>method</th>\n",
       "      <th>gap_list</th>\n",
       "      <th>num_gaps</th>\n",
       "    </tr>\n",
       "  </thead>\n",
       "  <tbody>\n",
       "    <tr>\n",
       "      <th>1</th>\n",
       "      <td>recovered_host</td>\n",
       "      <td>[]</td>\n",
       "      <td>0</td>\n",
       "    </tr>\n",
       "    <tr>\n",
       "      <th>2</th>\n",
       "      <td>recovered_host</td>\n",
       "      <td>[]</td>\n",
       "      <td>0</td>\n",
       "    </tr>\n",
       "    <tr>\n",
       "      <th>3</th>\n",
       "      <td>recovered_host</td>\n",
       "      <td>[]</td>\n",
       "      <td>0</td>\n",
       "    </tr>\n",
       "    <tr>\n",
       "      <th>4</th>\n",
       "      <td>telemetered</td>\n",
       "      <td>[]</td>\n",
       "      <td>0</td>\n",
       "    </tr>\n",
       "  </tbody>\n",
       "</table>\n",
       "</div>"
      ],
      "text/plain": [
       "           method gap_list  num_gaps\n",
       "1  recovered_host  []       0       \n",
       "2  recovered_host  []       0       \n",
       "3  recovered_host  []       0       \n",
       "4  telemetered     []       0       "
      ]
     },
     "execution_count": 80,
     "metadata": {},
     "output_type": "execute_result"
    }
   ],
   "source": [
    "pd.set_option('display.max_colwidth', -1)\n",
    "(df)"
   ]
  },
  {
   "cell_type": "markdown",
   "metadata": {
    "slideshow": {
     "slide_type": "slide"
    }
   },
   "source": [
    "<p style=\"color:green;\">Sampling Rate</p>\n",
    "Sampling rates are calculated from the differences in timestamps. The most common sampling rate is that which occurs >50%.\n",
    "\n"
   ]
  },
  {
   "cell_type": "code",
   "execution_count": 81,
   "metadata": {
    "slideshow": {
     "slide_type": "skip"
    }
   },
   "outputs": [],
   "source": [
    "df = pd.DataFrame()\n",
    "for ii in range(len(reviewlist)):\n",
    "    deploy_num = int(reviewlist[col[0]][ii].split('t')[-1])\n",
    "    # Get time array\n",
    "    ds = xr.open_dataset(reviewlist[col[1]][ii], mask_and_scale=False)\n",
    "    ds = ds.swap_dims({'obs': 'time'})\n",
    "    time = ds['time']\n",
    "    \n",
    "    # Calculate the sampling rate to the nearest second\n",
    "    time_df['diff'] = time_df['time'].diff().astype('timedelta64[s]')\n",
    "    rates_df = time_df.groupby(['diff']).agg(['count'])\n",
    "    n_diff_calc = len(time_df) - 1\n",
    "    rates = dict(n_unique_rates=len(rates_df), common_sampling_rates=dict())\n",
    "    for i, row in rates_df.iterrows():\n",
    "        percent = (float(row['time']['count']) / float(n_diff_calc))\n",
    "        if percent > 0.1:\n",
    "            rates['common_sampling_rates'].update({int(i): '{:.2%}'.format(percent)})\n",
    "    sampling_rt_sec = None\n",
    "    for k, v in rates['common_sampling_rates'].items():\n",
    "        if float(v.strip('%')) > 50.00:\n",
    "            sampling_rt_sec = k\n",
    "\n",
    "    if not sampling_rt_sec:\n",
    "        sampling_rt_sec = 'no consistent sampling rate: {}'.format(rates['common_sampling_rates']) \n",
    "    \n",
    "    df0 = pd.DataFrame({\n",
    "                        'method': [reviewlist[col[2]][ii]],                                           \n",
    "                        'sampling_rt_sec': [sampling_rt_sec]\n",
    "                        }, index=[deploy_num])\n",
    "\n",
    "    df = df.append(df0)  "
   ]
  },
  {
   "cell_type": "code",
   "execution_count": 82,
   "metadata": {
    "slideshow": {
     "slide_type": "subslide"
    }
   },
   "outputs": [
    {
     "data": {
      "text/html": [
       "<div>\n",
       "<style scoped>\n",
       "    .dataframe tbody tr th:only-of-type {\n",
       "        vertical-align: middle;\n",
       "    }\n",
       "\n",
       "    .dataframe tbody tr th {\n",
       "        vertical-align: top;\n",
       "    }\n",
       "\n",
       "    .dataframe thead th {\n",
       "        text-align: right;\n",
       "    }\n",
       "</style>\n",
       "<table border=\"1\" class=\"dataframe\">\n",
       "  <thead>\n",
       "    <tr style=\"text-align: right;\">\n",
       "      <th></th>\n",
       "      <th>method</th>\n",
       "      <th>sampling_rt_sec</th>\n",
       "    </tr>\n",
       "  </thead>\n",
       "  <tbody>\n",
       "    <tr>\n",
       "      <th>1</th>\n",
       "      <td>recovered_host</td>\n",
       "      <td>60</td>\n",
       "    </tr>\n",
       "    <tr>\n",
       "      <th>2</th>\n",
       "      <td>recovered_host</td>\n",
       "      <td>60</td>\n",
       "    </tr>\n",
       "    <tr>\n",
       "      <th>3</th>\n",
       "      <td>recovered_host</td>\n",
       "      <td>60</td>\n",
       "    </tr>\n",
       "    <tr>\n",
       "      <th>4</th>\n",
       "      <td>telemetered</td>\n",
       "      <td>60</td>\n",
       "    </tr>\n",
       "  </tbody>\n",
       "</table>\n",
       "</div>"
      ],
      "text/plain": [
       "           method  sampling_rt_sec\n",
       "1  recovered_host  60             \n",
       "2  recovered_host  60             \n",
       "3  recovered_host  60             \n",
       "4  telemetered     60             "
      ]
     },
     "execution_count": 82,
     "metadata": {},
     "output_type": "execute_result"
    }
   ],
   "source": [
    "pd.set_option('display.max_colwidth', -1)\n",
    "(df)"
   ]
  },
  {
   "cell_type": "markdown",
   "metadata": {
    "slideshow": {
     "slide_type": "slide"
    }
   },
   "source": [
    "<p style=\"color:green;\">Time Order</p>\n",
    "Test that timestamps in the file are unique and in ascending order."
   ]
  },
  {
   "cell_type": "code",
   "execution_count": 83,
   "metadata": {
    "slideshow": {
     "slide_type": "skip"
    }
   },
   "outputs": [],
   "source": [
    "df = pd.DataFrame()\n",
    "for ii in range(len(reviewlist)):\n",
    "    deploy_num = int(reviewlist[col[0]][ii].split('t')[-1])\n",
    "    # Get time array\n",
    "    ds = xr.open_dataset(reviewlist[col[1]][ii], mask_and_scale=False)\n",
    "    ds = ds.swap_dims({'obs': 'time'})\n",
    "    time = ds['time']\n",
    "    \n",
    "    # Check that the timestamps in the file are unique\n",
    "    len_time = time.__len__()\n",
    "    len_time_unique = np.unique(time).__len__()\n",
    "    if len_time == len_time_unique:\n",
    "        time_unique = 'pass'\n",
    "    else:\n",
    "        time_unique = 'fail'\n",
    "        \n",
    "    # Check that the timestamps in the file are in ascending order\n",
    "    time_in = [dt.datetime.utcfromtimestamp(np.datetime64(x).astype('O')/1e9) for x in time.values]\n",
    "    time_data = nc.date2num(time_in, 'seconds since 1900-01-01')\n",
    "\n",
    "    # Create True/False list for every timestamps\n",
    "    result = [(time_data[k + 1] - time_data[k]) > 0 for k in range(len(time_data) - 1)]\n",
    "\n",
    "    # List indices when time is not increasing\n",
    "    if result.count(True) == len(time) - 1:\n",
    "        time_ascending = 'pass'\n",
    "    else:\n",
    "        ind_fail = {k: time_in[k] for k, v in enumerate(result) if v is False}\n",
    "        time_ascending = 'fail: {}'.format(ind_fail)\n",
    "        \n",
    "    df0 = pd.DataFrame({\n",
    "                        'method': [reviewlist[col[2]][ii]],                       \n",
    "                        'time_order': [['Unique: '+time_unique,'Ascending: '+time_ascending]]\n",
    "                        }, index=[deploy_num])\n",
    "\n",
    "    df = df.append(df0)"
   ]
  },
  {
   "cell_type": "code",
   "execution_count": 84,
   "metadata": {
    "slideshow": {
     "slide_type": "subslide"
    }
   },
   "outputs": [
    {
     "data": {
      "text/html": [
       "<div>\n",
       "<style scoped>\n",
       "    .dataframe tbody tr th:only-of-type {\n",
       "        vertical-align: middle;\n",
       "    }\n",
       "\n",
       "    .dataframe tbody tr th {\n",
       "        vertical-align: top;\n",
       "    }\n",
       "\n",
       "    .dataframe thead th {\n",
       "        text-align: right;\n",
       "    }\n",
       "</style>\n",
       "<table border=\"1\" class=\"dataframe\">\n",
       "  <thead>\n",
       "    <tr style=\"text-align: right;\">\n",
       "      <th></th>\n",
       "      <th>method</th>\n",
       "      <th>time_order</th>\n",
       "    </tr>\n",
       "  </thead>\n",
       "  <tbody>\n",
       "    <tr>\n",
       "      <th>1</th>\n",
       "      <td>recovered_host</td>\n",
       "      <td>[Unique: pass, Ascending: pass]</td>\n",
       "    </tr>\n",
       "    <tr>\n",
       "      <th>2</th>\n",
       "      <td>recovered_host</td>\n",
       "      <td>[Unique: pass, Ascending: pass]</td>\n",
       "    </tr>\n",
       "    <tr>\n",
       "      <th>3</th>\n",
       "      <td>recovered_host</td>\n",
       "      <td>[Unique: pass, Ascending: pass]</td>\n",
       "    </tr>\n",
       "    <tr>\n",
       "      <th>4</th>\n",
       "      <td>telemetered</td>\n",
       "      <td>[Unique: pass, Ascending: pass]</td>\n",
       "    </tr>\n",
       "  </tbody>\n",
       "</table>\n",
       "</div>"
      ],
      "text/plain": [
       "           method                       time_order\n",
       "1  recovered_host  [Unique: pass, Ascending: pass]\n",
       "2  recovered_host  [Unique: pass, Ascending: pass]\n",
       "3  recovered_host  [Unique: pass, Ascending: pass]\n",
       "4  telemetered     [Unique: pass, Ascending: pass]"
      ]
     },
     "execution_count": 84,
     "metadata": {},
     "output_type": "execute_result"
    }
   ],
   "source": [
    "pd.set_option('display.max_colwidth', -1)\n",
    "(df)"
   ]
  },
  {
   "cell_type": "markdown",
   "metadata": {
    "slideshow": {
     "slide_type": "slide"
    }
   },
   "source": [
    "**Summary of Results**"
   ]
  },
  {
   "cell_type": "code",
   "execution_count": 51,
   "metadata": {
    "slideshow": {
     "slide_type": "subslide"
    }
   },
   "outputs": [
    {
     "name": "stdout",
     "output_type": "stream",
     "text": [
      "\u001b[32mInstrument\u001b[0m \u001b[34mCP05MOAS-GL379-03-CTDGVM000\u001b[0m\n"
     ]
    }
   ],
   "source": [
    "print(colored('Instrument', 'green'), colored(refdes, 'blue'))"
   ]
  },
  {
   "cell_type": "code",
   "execution_count": 63,
   "metadata": {
    "slideshow": {
     "slide_type": "skip"
    }
   },
   "outputs": [],
   "source": [
    "df = pd.DataFrame()\n",
    "for ii in range(len(reviewlist)):         \n",
    "    deploy_num = int(reviewlist[col[0]][ii].split('t')[-1])\n",
    "    deploy_info = cf.get_deployment_information(dr_data, deploy_num)\n",
    "    deploy_depth = deploy_info['deployment_depth']\n",
    "    \n",
    "    # Calculate days deployed\n",
    "    deploy_start = str(deploy_info['start_date'])\n",
    "    deploy_stop = str(deploy_info['stop_date'])    \n",
    "    if deploy_stop != 'None':\n",
    "        r_deploy_start = pd.to_datetime(deploy_start).replace(hour=0, minute=0, second=0)\n",
    "        if deploy_stop.split('T')[1] == '00:00:00':\n",
    "            r_deploy_stop = pd.to_datetime(deploy_stop)\n",
    "        else:\n",
    "            r_deploy_stop = (pd.to_datetime(deploy_stop) + timedelta(days=1)).replace(hour=0, minute=0, second=0)\n",
    "        n_days_deployed = (r_deploy_stop - r_deploy_start).days\n",
    "    else:\n",
    "        n_days_deployed = None\n",
    "    \n",
    "    # Get time array\n",
    "    ds = xr.open_dataset(reviewlist[col[1]][ii], mask_and_scale=False)\n",
    "    ds = ds.swap_dims({'obs': 'time'})\n",
    "    time = ds['time']\n",
    "    \n",
    "    # Check that the timestamps in the file are unique\n",
    "    len_time = time.__len__()\n",
    "    len_time_unique = np.unique(time).__len__()\n",
    "    if len_time == len_time_unique:\n",
    "        time_unique = 'pass'\n",
    "    else:\n",
    "        time_unique = 'fail'\n",
    "        \n",
    "    # Check that the timestamps in the file are in ascending order\n",
    "    # convert time to number\n",
    "    time_in = [dt.datetime.utcfromtimestamp(np.datetime64(x).astype('O')/1e9) for x in time.values]\n",
    "    time_data = nc.date2num(time_in, 'seconds since 1900-01-01')\n",
    "\n",
    "    # Create a list of True or False by iterating through the array of time and checking\n",
    "    # if every time stamp is increasing\n",
    "    result = [(time_data[k + 1] - time_data[k]) > 0 for k in range(len(time_data) - 1)]\n",
    "\n",
    "    # Print outcome of the iteration with the list of indices when time is not increasing\n",
    "    if result.count(True) == len(time) - 1:\n",
    "        time_ascending = 'pass'\n",
    "    else:\n",
    "        ind_fail = {k: time_in[k] for k, v in enumerate(result) if v is False}\n",
    "        time_ascending = 'fail: {}'.format(ind_fail)\n",
    "        \n",
    "    # calculate gaps size at start of deployment    \n",
    "    start_gap = (pd.to_datetime(str(time.values[0])) - r_deploy_start).days\n",
    "   \n",
    "    # calculate gap size at end of deployment\n",
    "    end_gap = (r_deploy_stop - pd.to_datetime(str(time.values[-1]))).days    \n",
    "    \n",
    "    # Count the number of days for which there is at least 1 timestamp    \n",
    "    n_days = len(np.unique(time.values.astype('datetime64[D]')))\n",
    "    \n",
    "    # Get a list of data gaps >1 day    \n",
    "    time_df = pd.DataFrame(time.values, columns=['time'])\n",
    "    gap_list = cf.timestamp_gap_test(time_df)\n",
    "    \n",
    "    # Calculate the sampling rate to the nearest second\n",
    "    time_df['diff'] = time_df['time'].diff().astype('timedelta64[s]')\n",
    "    rates_df = time_df.groupby(['diff']).agg(['count'])\n",
    "    n_diff_calc = len(time_df) - 1\n",
    "    rates = dict(n_unique_rates=len(rates_df), common_sampling_rates=dict())\n",
    "    for i, row in rates_df.iterrows():\n",
    "        percent = (float(row['time']['count']) / float(n_diff_calc))\n",
    "        if percent > 0.1:\n",
    "            rates['common_sampling_rates'].update({int(i): '{:.2%}'.format(percent)})\n",
    "    sampling_rt_sec = None\n",
    "    for k, v in rates['common_sampling_rates'].items():\n",
    "        if float(v.strip('%')) > 50.00:\n",
    "            sampling_rt_sec = k\n",
    "\n",
    "    if not sampling_rt_sec:\n",
    "        sampling_rt_sec = 'no consistent sampling rate: {}'.format(rates['common_sampling_rates']) \n",
    "        \n",
    "    df0 = pd.DataFrame({\n",
    "                        'method': [reviewlist[col[2]][ii]],                       \n",
    "                        'n_days_deployed': [n_days_deployed],\n",
    "                        'n_days_file': [n_days],\n",
    "                        'start_gap': [start_gap],\n",
    "                        'end_gap': [end_gap],        \n",
    "                        'gap_list': [gap_list],\n",
    "                        'num_gaps': [int(len(gap_list))],\n",
    "                        'num_timestamps': [len_time],\n",
    "                        'sampling_rt_sec': [sampling_rt_sec],\n",
    "                        'time_order': [['Unique: '+time_unique,'Ascending: '+time_ascending]]\n",
    "                        }, index=[deploy_num])\n",
    "\n",
    "    df = df.append(df0)"
   ]
  },
  {
   "cell_type": "code",
   "execution_count": 64,
   "metadata": {
    "slideshow": {
     "slide_type": "subslide"
    }
   },
   "outputs": [
    {
     "data": {
      "text/html": [
       "<div>\n",
       "<style scoped>\n",
       "    .dataframe tbody tr th:only-of-type {\n",
       "        vertical-align: middle;\n",
       "    }\n",
       "\n",
       "    .dataframe tbody tr th {\n",
       "        vertical-align: top;\n",
       "    }\n",
       "\n",
       "    .dataframe thead th {\n",
       "        text-align: right;\n",
       "    }\n",
       "</style>\n",
       "<table border=\"1\" class=\"dataframe\">\n",
       "  <thead>\n",
       "    <tr style=\"text-align: right;\">\n",
       "      <th></th>\n",
       "      <th>method</th>\n",
       "      <th>n_days_deployed</th>\n",
       "      <th>n_days_file</th>\n",
       "      <th>start_gap</th>\n",
       "      <th>end_gap</th>\n",
       "      <th>gap_list</th>\n",
       "      <th>num_gaps</th>\n",
       "      <th>num_timestamps</th>\n",
       "      <th>sampling_rt_sec</th>\n",
       "      <th>time_order</th>\n",
       "    </tr>\n",
       "  </thead>\n",
       "  <tbody>\n",
       "    <tr>\n",
       "      <th>1</th>\n",
       "      <td>recovered_host</td>\n",
       "      <td>88</td>\n",
       "      <td>83</td>\n",
       "      <td>0</td>\n",
       "      <td>5</td>\n",
       "      <td>[]</td>\n",
       "      <td>0</td>\n",
       "      <td>1697681</td>\n",
       "      <td>2</td>\n",
       "      <td>[Unique: pass, Ascending: pass]</td>\n",
       "    </tr>\n",
       "    <tr>\n",
       "      <th>2</th>\n",
       "      <td>recovered_host</td>\n",
       "      <td>55</td>\n",
       "      <td>48</td>\n",
       "      <td>0</td>\n",
       "      <td>7</td>\n",
       "      <td>[]</td>\n",
       "      <td>0</td>\n",
       "      <td>1876498</td>\n",
       "      <td>2</td>\n",
       "      <td>[Unique: pass, Ascending: pass]</td>\n",
       "    </tr>\n",
       "    <tr>\n",
       "      <th>3</th>\n",
       "      <td>recovered_host</td>\n",
       "      <td>119</td>\n",
       "      <td>119</td>\n",
       "      <td>0</td>\n",
       "      <td>0</td>\n",
       "      <td>[]</td>\n",
       "      <td>0</td>\n",
       "      <td>3822788</td>\n",
       "      <td>2</td>\n",
       "      <td>[Unique: pass, Ascending: pass]</td>\n",
       "    </tr>\n",
       "    <tr>\n",
       "      <th>4</th>\n",
       "      <td>telemetered</td>\n",
       "      <td>1</td>\n",
       "      <td>1</td>\n",
       "      <td>0</td>\n",
       "      <td>0</td>\n",
       "      <td>[]</td>\n",
       "      <td>0</td>\n",
       "      <td>212</td>\n",
       "      <td>60</td>\n",
       "      <td>[Unique: pass, Ascending: pass]</td>\n",
       "    </tr>\n",
       "  </tbody>\n",
       "</table>\n",
       "</div>"
      ],
      "text/plain": [
       "           method  n_days_deployed  n_days_file  start_gap  end_gap gap_list  \\\n",
       "1  recovered_host  88               83           0          5        []        \n",
       "2  recovered_host  55               48           0          7        []        \n",
       "3  recovered_host  119              119          0          0        []        \n",
       "4  telemetered     1                1            0          0        []        \n",
       "\n",
       "   num_gaps  num_timestamps  sampling_rt_sec                       time_order  \n",
       "1  0         1697681         2                [Unique: pass, Ascending: pass]  \n",
       "2  0         1876498         2                [Unique: pass, Ascending: pass]  \n",
       "3  0         3822788         2                [Unique: pass, Ascending: pass]  \n",
       "4  0         212             60               [Unique: pass, Ascending: pass]  "
      ]
     },
     "execution_count": 64,
     "metadata": {},
     "output_type": "execute_result"
    }
   ],
   "source": [
    "pd.set_option('display.max_colwidth', -1)\n",
    "(df)"
   ]
  }
 ],
 "metadata": {
  "celltoolbar": "Slideshow",
  "kernelspec": {
   "display_name": "Python 3",
   "language": "python",
   "name": "python3"
  },
  "language_info": {
   "codemirror_mode": {
    "name": "ipython",
    "version": 3
   },
   "file_extension": ".py",
   "mimetype": "text/x-python",
   "name": "python",
   "nbconvert_exporter": "python",
   "pygments_lexer": "ipython3",
   "version": "3.7.2"
  }
 },
 "nbformat": 4,
 "nbformat_minor": 2
}
