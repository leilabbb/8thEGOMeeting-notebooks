{
 "cells": [
  {
   "cell_type": "code",
   "execution_count": 1,
   "metadata": {},
   "outputs": [],
   "source": [
    "# THERDD server contains the netCDF data files\n",
    "url_list = ['https://opendap.oceanobservatories.org/thredds/catalog/ooi/leila.ocean@gmail.com/20190306T174413-CP05MOAS-GL379-03-CTDGVM000-recovered_host-ctdgv_m_glider_instrument_recovered/catalog.html',\n",
    "            'https://opendap.oceanobservatories.org/thredds/catalog/ooi/leila.ocean@gmail.com/20190306T174435-CP05MOAS-GL379-03-CTDGVM000-telemetered-ctdgv_m_glider_instrument/catalog.html']\n",
    "\n",
    "# review file was created upfront to do this analysis\n",
    "review_file = 'https://raw.githubusercontent.com/ooi-data-lab/data-review-prep/master/review_list/data_review_list.csv'"
   ]
  },
  {
   "cell_type": "code",
   "execution_count": 2,
   "metadata": {},
   "outputs": [],
   "source": [
    "import pandas as pd"
   ]
  },
  {
   "cell_type": "code",
   "execution_count": 3,
   "metadata": {},
   "outputs": [
    {
     "name": "stdout",
     "output_type": "stream",
     "text": [
      "      deploymentNumber        startDateTime         stopDateTime in_am\n",
      "3918               1.0  2014-04-15T13:15:00  2014-07-11T00:00:00   yes\n",
      "3919               2.0  2015-05-09T11:02:00  2015-07-02T00:00:00   yes\n",
      "3920               3.0  2016-01-21T15:00:00  2016-05-18T03:56:00   yes\n",
      "3921               4.0  2017-01-16T12:46:00  2017-01-16T23:59:59   yes\n"
     ]
    }
   ],
   "source": [
    "# get instrument  = reference designator \n",
    "elements = url_list[0].split('/')[-2].split('-')\n",
    "rd = '-'.join((elements[1], elements[2], elements[3], elements[4]))\n",
    "\n",
    "# check for the OOI 1.0 datasets for review \n",
    "reviewlist = pd.read_csv(review_file)\n",
    "rl_filtered = reviewlist.loc[(reviewlist['Reference Designator'] == rd) & (reviewlist['status'] == 'for review')]\n",
    "\n",
    "# get deployments from file names\n",
    "review_deployments = rl_filtered['deploymentNumber'].tolist()\n",
    "\n",
    "# print to the screen\n",
    "print(pd.DataFrame({'deploymentNumber': review_deployments,\n",
    "                   'startDateTime': rl_filtered['startDateTime'],\n",
    "                   'stopDateTime': rl_filtered['stopDateTime'],\n",
    "                   'in_am': rl_filtered['in_am']}))"
   ]
  },
  {
   "cell_type": "code",
   "execution_count": 5,
   "metadata": {},
   "outputs": [],
   "source": [
    "import functions.common as cf"
   ]
  },
  {
   "cell_type": "code",
   "execution_count": 6,
   "metadata": {},
   "outputs": [
    {
     "name": "stdout",
     "output_type": "stream",
     "text": [
      "Data request has fulfilled.\n",
      "Data request has fulfilled.\n"
     ]
    }
   ],
   "source": [
    "df = pd.DataFrame()\n",
    "review_deployments_int = ['deployment%04d' % int(x) for x in review_deployments]\n",
    "\n",
    "for uu in url_list:\n",
    "    udatasets = cf.get_nc_urls([uu])\n",
    "    # filter out on deployment for review \n",
    "    for rev_dep in review_deployments_int:\n",
    "        rdatasets = [s for s in udatasets if rev_dep in s]\n",
    "        if len(rdatasets) > 0: \n",
    "            # filter out on the sensor of interset\n",
    "            for dss in rdatasets:  # filter out collocated data files\n",
    "                elements = uu.split('/')[-2].split('-')\n",
    "                catalog_rms = '-'.join((rd, elements[-2], elements[-1]))\n",
    "                method = uu.split('-')[5]\n",
    "                if catalog_rms == dss.split('/')[-1].split('_20')[0][15:]:                     \n",
    "                    df0 = pd.DataFrame({'datasets': dss, 'method': method}, index=[rev_dep])\n",
    "                    df = df.append(df0)"
   ]
  },
  {
   "cell_type": "code",
   "execution_count": 7,
   "metadata": {},
   "outputs": [
    {
     "data": {
      "text/html": [
       "<div>\n",
       "<style scoped>\n",
       "    .dataframe tbody tr th:only-of-type {\n",
       "        vertical-align: middle;\n",
       "    }\n",
       "\n",
       "    .dataframe tbody tr th {\n",
       "        vertical-align: top;\n",
       "    }\n",
       "\n",
       "    .dataframe thead th {\n",
       "        text-align: right;\n",
       "    }\n",
       "</style>\n",
       "<table border=\"1\" class=\"dataframe\">\n",
       "  <thead>\n",
       "    <tr style=\"text-align: right;\">\n",
       "      <th></th>\n",
       "      <th>datasets</th>\n",
       "      <th>method</th>\n",
       "    </tr>\n",
       "  </thead>\n",
       "  <tbody>\n",
       "    <tr>\n",
       "      <th>deployment0001</th>\n",
       "      <td>https://opendap.oceanobservatories.org/thredds/dodsC/ooi/leila.ocean@gmail.com/20190306T174413-CP05MOAS-GL379-03-CTDGVM000-recovered_host-ctdgv_m_glider_instrument_recovered/deployment0001_CP05MOAS-GL379-03-CTDGVM000-recovered_host-ctdgv_m_glider_instrument_recovered_20140415T132159.798580-20140706T212524.736690.nc</td>\n",
       "      <td>recovered_host</td>\n",
       "    </tr>\n",
       "    <tr>\n",
       "      <th>deployment0002</th>\n",
       "      <td>https://opendap.oceanobservatories.org/thredds/dodsC/ooi/leila.ocean@gmail.com/20190306T174413-CP05MOAS-GL379-03-CTDGVM000-recovered_host-ctdgv_m_glider_instrument_recovered/deployment0002_CP05MOAS-GL379-03-CTDGVM000-recovered_host-ctdgv_m_glider_instrument_recovered_20150509T113514.756870-20150625T150702.264890.nc</td>\n",
       "      <td>recovered_host</td>\n",
       "    </tr>\n",
       "    <tr>\n",
       "      <th>deployment0003</th>\n",
       "      <td>https://opendap.oceanobservatories.org/thredds/dodsC/ooi/leila.ocean@gmail.com/20190306T174413-CP05MOAS-GL379-03-CTDGVM000-recovered_host-ctdgv_m_glider_instrument_recovered/deployment0003_CP05MOAS-GL379-03-CTDGVM000-recovered_host-ctdgv_m_glider_instrument_recovered_20160121T150043.663730-20160518T015328.144100.nc</td>\n",
       "      <td>recovered_host</td>\n",
       "    </tr>\n",
       "    <tr>\n",
       "      <th>deployment0001</th>\n",
       "      <td>https://opendap.oceanobservatories.org/thredds/dodsC/ooi/leila.ocean@gmail.com/20190306T174435-CP05MOAS-GL379-03-CTDGVM000-telemetered-ctdgv_m_glider_instrument/deployment0001_CP05MOAS-GL379-03-CTDGVM000-telemetered-ctdgv_m_glider_instrument_20140415T134258.674740-20140706T212530.867710.nc</td>\n",
       "      <td>telemetered</td>\n",
       "    </tr>\n",
       "    <tr>\n",
       "      <th>deployment0002</th>\n",
       "      <td>https://opendap.oceanobservatories.org/thredds/dodsC/ooi/leila.ocean@gmail.com/20190306T174435-CP05MOAS-GL379-03-CTDGVM000-telemetered-ctdgv_m_glider_instrument/deployment0002_CP05MOAS-GL379-03-CTDGVM000-telemetered-ctdgv_m_glider_instrument_20150509T125849.226410-20150625T123743.327300.nc</td>\n",
       "      <td>telemetered</td>\n",
       "    </tr>\n",
       "    <tr>\n",
       "      <th>deployment0003</th>\n",
       "      <td>https://opendap.oceanobservatories.org/thredds/dodsC/ooi/leila.ocean@gmail.com/20190306T174435-CP05MOAS-GL379-03-CTDGVM000-telemetered-ctdgv_m_glider_instrument/deployment0003_CP05MOAS-GL379-03-CTDGVM000-telemetered-ctdgv_m_glider_instrument_20160121T150043.663730-20160518T015328.144100.nc</td>\n",
       "      <td>telemetered</td>\n",
       "    </tr>\n",
       "    <tr>\n",
       "      <th>deployment0004</th>\n",
       "      <td>https://opendap.oceanobservatories.org/thredds/dodsC/ooi/leila.ocean@gmail.com/20190306T174435-CP05MOAS-GL379-03-CTDGVM000-telemetered-ctdgv_m_glider_instrument/deployment0004_CP05MOAS-GL379-03-CTDGVM000-telemetered-ctdgv_m_glider_instrument_20170116T125355.760380-20170116T221950.330870.nc</td>\n",
       "      <td>telemetered</td>\n",
       "    </tr>\n",
       "  </tbody>\n",
       "</table>\n",
       "</div>"
      ],
      "text/plain": [
       "                                                                                                                                                                                                                                                                                                                                    datasets  \\\n",
       "deployment0001  https://opendap.oceanobservatories.org/thredds/dodsC/ooi/leila.ocean@gmail.com/20190306T174413-CP05MOAS-GL379-03-CTDGVM000-recovered_host-ctdgv_m_glider_instrument_recovered/deployment0001_CP05MOAS-GL379-03-CTDGVM000-recovered_host-ctdgv_m_glider_instrument_recovered_20140415T132159.798580-20140706T212524.736690.nc   \n",
       "deployment0002  https://opendap.oceanobservatories.org/thredds/dodsC/ooi/leila.ocean@gmail.com/20190306T174413-CP05MOAS-GL379-03-CTDGVM000-recovered_host-ctdgv_m_glider_instrument_recovered/deployment0002_CP05MOAS-GL379-03-CTDGVM000-recovered_host-ctdgv_m_glider_instrument_recovered_20150509T113514.756870-20150625T150702.264890.nc   \n",
       "deployment0003  https://opendap.oceanobservatories.org/thredds/dodsC/ooi/leila.ocean@gmail.com/20190306T174413-CP05MOAS-GL379-03-CTDGVM000-recovered_host-ctdgv_m_glider_instrument_recovered/deployment0003_CP05MOAS-GL379-03-CTDGVM000-recovered_host-ctdgv_m_glider_instrument_recovered_20160121T150043.663730-20160518T015328.144100.nc   \n",
       "deployment0001  https://opendap.oceanobservatories.org/thredds/dodsC/ooi/leila.ocean@gmail.com/20190306T174435-CP05MOAS-GL379-03-CTDGVM000-telemetered-ctdgv_m_glider_instrument/deployment0001_CP05MOAS-GL379-03-CTDGVM000-telemetered-ctdgv_m_glider_instrument_20140415T134258.674740-20140706T212530.867710.nc                             \n",
       "deployment0002  https://opendap.oceanobservatories.org/thredds/dodsC/ooi/leila.ocean@gmail.com/20190306T174435-CP05MOAS-GL379-03-CTDGVM000-telemetered-ctdgv_m_glider_instrument/deployment0002_CP05MOAS-GL379-03-CTDGVM000-telemetered-ctdgv_m_glider_instrument_20150509T125849.226410-20150625T123743.327300.nc                             \n",
       "deployment0003  https://opendap.oceanobservatories.org/thredds/dodsC/ooi/leila.ocean@gmail.com/20190306T174435-CP05MOAS-GL379-03-CTDGVM000-telemetered-ctdgv_m_glider_instrument/deployment0003_CP05MOAS-GL379-03-CTDGVM000-telemetered-ctdgv_m_glider_instrument_20160121T150043.663730-20160518T015328.144100.nc                             \n",
       "deployment0004  https://opendap.oceanobservatories.org/thredds/dodsC/ooi/leila.ocean@gmail.com/20190306T174435-CP05MOAS-GL379-03-CTDGVM000-telemetered-ctdgv_m_glider_instrument/deployment0004_CP05MOAS-GL379-03-CTDGVM000-telemetered-ctdgv_m_glider_instrument_20170116T125355.760380-20170116T221950.330870.nc                             \n",
       "\n",
       "                        method  \n",
       "deployment0001  recovered_host  \n",
       "deployment0002  recovered_host  \n",
       "deployment0003  recovered_host  \n",
       "deployment0001  telemetered     \n",
       "deployment0002  telemetered     \n",
       "deployment0003  telemetered     \n",
       "deployment0004  telemetered     "
      ]
     },
     "execution_count": 7,
     "metadata": {},
     "output_type": "execute_result"
    }
   ],
   "source": [
    "pd.set_option('display.max_colwidth', -1)\n",
    "(df)"
   ]
  },
  {
   "cell_type": "code",
   "execution_count": 8,
   "metadata": {},
   "outputs": [],
   "source": [
    "df.to_csv('data_files_list.csv', index=True)"
   ]
  },
  {
   "cell_type": "code",
   "execution_count": 9,
   "metadata": {},
   "outputs": [],
   "source": [
    "import numpy as np"
   ]
  },
  {
   "cell_type": "code",
   "execution_count": 10,
   "metadata": {},
   "outputs": [],
   "source": [
    "method_list = ['streamed', 'recovered_inst', 'recovered_wfp', 'recovered_cspp', 'recovered_host', 'telemetered']\n",
    "deployments = np.unique(np.sort(list(df.index.values)))\n",
    "df_info = pd.DataFrame()\n",
    "for d in deployments:\n",
    "    df_d = df[df.index.values == d]\n",
    "    if len(df_d['method']) != 1: # sort methods in order of preference\n",
    "        z = sorted(df_d['method'], key=lambda zz: method_list.index(zz)) # sorted method list        \n",
    "        df_d = df_d[df_d['method'] == z[0]]\n",
    "\n",
    "    df_info = df_info.append(df_d)"
   ]
  },
  {
   "cell_type": "code",
   "execution_count": 11,
   "metadata": {},
   "outputs": [
    {
     "data": {
      "text/html": [
       "<div>\n",
       "<style scoped>\n",
       "    .dataframe tbody tr th:only-of-type {\n",
       "        vertical-align: middle;\n",
       "    }\n",
       "\n",
       "    .dataframe tbody tr th {\n",
       "        vertical-align: top;\n",
       "    }\n",
       "\n",
       "    .dataframe thead th {\n",
       "        text-align: right;\n",
       "    }\n",
       "</style>\n",
       "<table border=\"1\" class=\"dataframe\">\n",
       "  <thead>\n",
       "    <tr style=\"text-align: right;\">\n",
       "      <th></th>\n",
       "      <th>datasets</th>\n",
       "      <th>method</th>\n",
       "    </tr>\n",
       "  </thead>\n",
       "  <tbody>\n",
       "    <tr>\n",
       "      <th>deployment0001</th>\n",
       "      <td>https://opendap.oceanobservatories.org/thredds/dodsC/ooi/leila.ocean@gmail.com/20190306T174413-CP05MOAS-GL379-03-CTDGVM000-recovered_host-ctdgv_m_glider_instrument_recovered/deployment0001_CP05MOAS-GL379-03-CTDGVM000-recovered_host-ctdgv_m_glider_instrument_recovered_20140415T132159.798580-20140706T212524.736690.nc</td>\n",
       "      <td>recovered_host</td>\n",
       "    </tr>\n",
       "    <tr>\n",
       "      <th>deployment0002</th>\n",
       "      <td>https://opendap.oceanobservatories.org/thredds/dodsC/ooi/leila.ocean@gmail.com/20190306T174413-CP05MOAS-GL379-03-CTDGVM000-recovered_host-ctdgv_m_glider_instrument_recovered/deployment0002_CP05MOAS-GL379-03-CTDGVM000-recovered_host-ctdgv_m_glider_instrument_recovered_20150509T113514.756870-20150625T150702.264890.nc</td>\n",
       "      <td>recovered_host</td>\n",
       "    </tr>\n",
       "    <tr>\n",
       "      <th>deployment0003</th>\n",
       "      <td>https://opendap.oceanobservatories.org/thredds/dodsC/ooi/leila.ocean@gmail.com/20190306T174413-CP05MOAS-GL379-03-CTDGVM000-recovered_host-ctdgv_m_glider_instrument_recovered/deployment0003_CP05MOAS-GL379-03-CTDGVM000-recovered_host-ctdgv_m_glider_instrument_recovered_20160121T150043.663730-20160518T015328.144100.nc</td>\n",
       "      <td>recovered_host</td>\n",
       "    </tr>\n",
       "    <tr>\n",
       "      <th>deployment0004</th>\n",
       "      <td>https://opendap.oceanobservatories.org/thredds/dodsC/ooi/leila.ocean@gmail.com/20190306T174435-CP05MOAS-GL379-03-CTDGVM000-telemetered-ctdgv_m_glider_instrument/deployment0004_CP05MOAS-GL379-03-CTDGVM000-telemetered-ctdgv_m_glider_instrument_20170116T125355.760380-20170116T221950.330870.nc</td>\n",
       "      <td>telemetered</td>\n",
       "    </tr>\n",
       "  </tbody>\n",
       "</table>\n",
       "</div>"
      ],
      "text/plain": [
       "                                                                                                                                                                                                                                                                                                                                    datasets  \\\n",
       "deployment0001  https://opendap.oceanobservatories.org/thredds/dodsC/ooi/leila.ocean@gmail.com/20190306T174413-CP05MOAS-GL379-03-CTDGVM000-recovered_host-ctdgv_m_glider_instrument_recovered/deployment0001_CP05MOAS-GL379-03-CTDGVM000-recovered_host-ctdgv_m_glider_instrument_recovered_20140415T132159.798580-20140706T212524.736690.nc   \n",
       "deployment0002  https://opendap.oceanobservatories.org/thredds/dodsC/ooi/leila.ocean@gmail.com/20190306T174413-CP05MOAS-GL379-03-CTDGVM000-recovered_host-ctdgv_m_glider_instrument_recovered/deployment0002_CP05MOAS-GL379-03-CTDGVM000-recovered_host-ctdgv_m_glider_instrument_recovered_20150509T113514.756870-20150625T150702.264890.nc   \n",
       "deployment0003  https://opendap.oceanobservatories.org/thredds/dodsC/ooi/leila.ocean@gmail.com/20190306T174413-CP05MOAS-GL379-03-CTDGVM000-recovered_host-ctdgv_m_glider_instrument_recovered/deployment0003_CP05MOAS-GL379-03-CTDGVM000-recovered_host-ctdgv_m_glider_instrument_recovered_20160121T150043.663730-20160518T015328.144100.nc   \n",
       "deployment0004  https://opendap.oceanobservatories.org/thredds/dodsC/ooi/leila.ocean@gmail.com/20190306T174435-CP05MOAS-GL379-03-CTDGVM000-telemetered-ctdgv_m_glider_instrument/deployment0004_CP05MOAS-GL379-03-CTDGVM000-telemetered-ctdgv_m_glider_instrument_20170116T125355.760380-20170116T221950.330870.nc                             \n",
       "\n",
       "                        method  \n",
       "deployment0001  recovered_host  \n",
       "deployment0002  recovered_host  \n",
       "deployment0003  recovered_host  \n",
       "deployment0004  telemetered     "
      ]
     },
     "execution_count": 11,
     "metadata": {},
     "output_type": "execute_result"
    }
   ],
   "source": [
    "pd.set_option('display.max_colwidth', -1)\n",
    "(df_info)"
   ]
  },
  {
   "cell_type": "code",
   "execution_count": 12,
   "metadata": {},
   "outputs": [],
   "source": [
    "df_info.to_csv('define_datareview_list.csv', index=True)"
   ]
  }
 ],
 "metadata": {
  "kernelspec": {
   "display_name": "Python 3",
   "language": "python",
   "name": "python3"
  },
  "language_info": {
   "codemirror_mode": {
    "name": "ipython",
    "version": 3
   },
   "file_extension": ".py",
   "mimetype": "text/x-python",
   "name": "python",
   "nbconvert_exporter": "python",
   "pygments_lexer": "ipython3",
   "version": "3.7.2"
  }
 },
 "nbformat": 4,
 "nbformat_minor": 2
}
