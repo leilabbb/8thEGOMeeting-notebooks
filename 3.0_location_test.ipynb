{
 "cells": [
  {
   "cell_type": "code",
   "execution_count": 26,
   "metadata": {
    "slideshow": {
     "slide_type": "skip"
    }
   },
   "outputs": [],
   "source": [
    "import pandas as pd\n",
    "import functions.common as cf\n",
    "import functions.plotting as pf\n",
    "import xarray as xr\n",
    "from IPython.display import Image\n",
    "from IPython.core.display import HTML "
   ]
  },
  {
   "cell_type": "markdown",
   "metadata": {
    "slideshow": {
     "slide_type": "slide"
    }
   },
   "source": [
    "<p style=\"color:orange; font-size:1.1em;\"> Pressure & Coordiantes & Location  Tests:</p>"
   ]
  },
  {
   "cell_type": "code",
   "execution_count": 22,
   "metadata": {
    "slideshow": {
     "slide_type": "skip"
    }
   },
   "outputs": [],
   "source": [
    "index = pd.MultiIndex.from_tuples([('Pressure', 'Pressure Comparison'),                                  \n",
    "                                   ('Coordinates', 'Missing Coordinates' )\n",
    "                                   ],\n",
    "                                   names=['Tests', 'Names'])\n",
    "\n",
    "index_def = ['Instrument deployment depth defined in OOI Asset Management system / maximum pressure calculated from data file after eliminating data outside of global ranges and outliers (3 standard deviations).',\n",
    "             'Check the coordinates in the data file against expected coordinates: obs, time, lat, lon, pressure (for instruments not located on a surface buoy).']"
   ]
  },
  {
   "cell_type": "code",
   "execution_count": 23,
   "metadata": {
    "slideshow": {
     "slide_type": "-"
    }
   },
   "outputs": [
    {
     "data": {
      "text/html": [
       "<div>\n",
       "<style scoped>\n",
       "    .dataframe tbody tr th:only-of-type {\n",
       "        vertical-align: middle;\n",
       "    }\n",
       "\n",
       "    .dataframe tbody tr th {\n",
       "        vertical-align: top;\n",
       "    }\n",
       "\n",
       "    .dataframe thead th {\n",
       "        text-align: right;\n",
       "    }\n",
       "</style>\n",
       "<table border=\"1\" class=\"dataframe\">\n",
       "  <thead>\n",
       "    <tr style=\"text-align: right;\">\n",
       "      <th></th>\n",
       "      <th></th>\n",
       "      <th>Definition</th>\n",
       "    </tr>\n",
       "    <tr>\n",
       "      <th>Tests</th>\n",
       "      <th>Names</th>\n",
       "      <th></th>\n",
       "    </tr>\n",
       "  </thead>\n",
       "  <tbody>\n",
       "    <tr>\n",
       "      <th>Pressure</th>\n",
       "      <th>Pressure Comparison</th>\n",
       "      <td>Instrument deployment depth defined in OOI Asset Management system / maximum pressure calculated from data file after eliminating data outside of global ranges and outliers (3 standard deviations).</td>\n",
       "    </tr>\n",
       "    <tr>\n",
       "      <th>Coordinates</th>\n",
       "      <th>Missing Coordinates</th>\n",
       "      <td>Check the coordinates in the data file against expected coordinates: obs, time, lat, lon, pressure (for instruments not located on a surface buoy).</td>\n",
       "    </tr>\n",
       "  </tbody>\n",
       "</table>\n",
       "</div>"
      ],
      "text/plain": [
       "                                                                                                                                                                                                                            Definition\n",
       "Tests       Names                                                                                                                                                                                                                     \n",
       "Pressure    Pressure Comparison  Instrument deployment depth defined in OOI Asset Management system / maximum pressure calculated from data file after eliminating data outside of global ranges and outliers (3 standard deviations).\n",
       "Coordinates Missing Coordinates  Check the coordinates in the data file against expected coordinates: obs, time, lat, lon, pressure (for instruments not located on a surface buoy).                                                  "
      ]
     },
     "execution_count": 23,
     "metadata": {},
     "output_type": "execute_result"
    }
   ],
   "source": [
    "pd.set_option('display.max_colwidth', -1)\n",
    "pd.DataFrame({'Definition':index_def},index=index)"
   ]
  },
  {
   "cell_type": "markdown",
   "metadata": {
    "slideshow": {
     "slide_type": "slide"
    }
   },
   "source": [
    "**Define Datasets Review List**"
   ]
  },
  {
   "cell_type": "code",
   "execution_count": 36,
   "metadata": {
    "slideshow": {
     "slide_type": "skip"
    }
   },
   "outputs": [],
   "source": [
    "reviewlist = pd.read_csv('define_datareview_list_GL335.csv')\n",
    "reviewlist.index = reviewlist['Unnamed: 0'].values"
   ]
  },
  {
   "cell_type": "code",
   "execution_count": 37,
   "metadata": {
    "slideshow": {
     "slide_type": "-"
    }
   },
   "outputs": [
    {
     "data": {
      "text/html": [
       "<div>\n",
       "<style scoped>\n",
       "    .dataframe tbody tr th:only-of-type {\n",
       "        vertical-align: middle;\n",
       "    }\n",
       "\n",
       "    .dataframe tbody tr th {\n",
       "        vertical-align: top;\n",
       "    }\n",
       "\n",
       "    .dataframe thead th {\n",
       "        text-align: right;\n",
       "    }\n",
       "</style>\n",
       "<table border=\"1\" class=\"dataframe\">\n",
       "  <thead>\n",
       "    <tr style=\"text-align: right;\">\n",
       "      <th></th>\n",
       "      <th>datasets</th>\n",
       "    </tr>\n",
       "  </thead>\n",
       "  <tbody>\n",
       "    <tr>\n",
       "      <th>deployment0001</th>\n",
       "      <td>https://opendap.oceanobservatories.org/thredds/dodsC/ooi/lgarzio@marine.rutgers.edu/20190509T131304-CP05MOAS-GL335-05-PARADM000-recovered_host-parad_m_glider_recovered/deployment0001_CP05MOAS-GL335-05-PARADM000-recovered_host-parad_m_glider_recovered_20141006T202152.905850-20141213T073238.247380.nc</td>\n",
       "    </tr>\n",
       "    <tr>\n",
       "      <th>deployment0002</th>\n",
       "      <td>https://opendap.oceanobservatories.org/thredds/dodsC/ooi/lgarzio@marine.rutgers.edu/20190509T131304-CP05MOAS-GL335-05-PARADM000-recovered_host-parad_m_glider_recovered/deployment0002_CP05MOAS-GL335-05-PARADM000-recovered_host-parad_m_glider_recovered_20151014T001900.237980-20151110T091855.472810.nc</td>\n",
       "    </tr>\n",
       "    <tr>\n",
       "      <th>deployment0003</th>\n",
       "      <td>https://opendap.oceanobservatories.org/thredds/dodsC/ooi/lgarzio@marine.rutgers.edu/20190509T131304-CP05MOAS-GL335-05-PARADM000-recovered_host-parad_m_glider_recovered/deployment0003_CP05MOAS-GL335-05-PARADM000-recovered_host-parad_m_glider_recovered_20160404T185705.311220-20160417T235956.145260.nc</td>\n",
       "    </tr>\n",
       "    <tr>\n",
       "      <th>deployment0004</th>\n",
       "      <td>https://opendap.oceanobservatories.org/thredds/dodsC/ooi/lgarzio@marine.rutgers.edu/20190509T131304-CP05MOAS-GL335-05-PARADM000-recovered_host-parad_m_glider_recovered/deployment0004_CP05MOAS-GL335-05-PARADM000-recovered_host-parad_m_glider_recovered_20160529T204727.075500-20160626T091401.747920.nc</td>\n",
       "    </tr>\n",
       "    <tr>\n",
       "      <th>deployment0005</th>\n",
       "      <td>https://opendap.oceanobservatories.org/thredds/dodsC/ooi/lgarzio@marine.rutgers.edu/20190509T131304-CP05MOAS-GL335-05-PARADM000-recovered_host-parad_m_glider_recovered/deployment0005_CP05MOAS-GL335-05-PARADM000-recovered_host-parad_m_glider_recovered_20170116T150223.595370-20170304T093047.153350.nc</td>\n",
       "    </tr>\n",
       "  </tbody>\n",
       "</table>\n",
       "</div>"
      ],
      "text/plain": [
       "                                                                                                                                                                                                                                                                                                                   datasets\n",
       "deployment0001  https://opendap.oceanobservatories.org/thredds/dodsC/ooi/lgarzio@marine.rutgers.edu/20190509T131304-CP05MOAS-GL335-05-PARADM000-recovered_host-parad_m_glider_recovered/deployment0001_CP05MOAS-GL335-05-PARADM000-recovered_host-parad_m_glider_recovered_20141006T202152.905850-20141213T073238.247380.nc\n",
       "deployment0002  https://opendap.oceanobservatories.org/thredds/dodsC/ooi/lgarzio@marine.rutgers.edu/20190509T131304-CP05MOAS-GL335-05-PARADM000-recovered_host-parad_m_glider_recovered/deployment0002_CP05MOAS-GL335-05-PARADM000-recovered_host-parad_m_glider_recovered_20151014T001900.237980-20151110T091855.472810.nc\n",
       "deployment0003  https://opendap.oceanobservatories.org/thredds/dodsC/ooi/lgarzio@marine.rutgers.edu/20190509T131304-CP05MOAS-GL335-05-PARADM000-recovered_host-parad_m_glider_recovered/deployment0003_CP05MOAS-GL335-05-PARADM000-recovered_host-parad_m_glider_recovered_20160404T185705.311220-20160417T235956.145260.nc\n",
       "deployment0004  https://opendap.oceanobservatories.org/thredds/dodsC/ooi/lgarzio@marine.rutgers.edu/20190509T131304-CP05MOAS-GL335-05-PARADM000-recovered_host-parad_m_glider_recovered/deployment0004_CP05MOAS-GL335-05-PARADM000-recovered_host-parad_m_glider_recovered_20160529T204727.075500-20160626T091401.747920.nc\n",
       "deployment0005  https://opendap.oceanobservatories.org/thredds/dodsC/ooi/lgarzio@marine.rutgers.edu/20190509T131304-CP05MOAS-GL335-05-PARADM000-recovered_host-parad_m_glider_recovered/deployment0005_CP05MOAS-GL335-05-PARADM000-recovered_host-parad_m_glider_recovered_20170116T150223.595370-20170304T093047.153350.nc"
      ]
     },
     "execution_count": 37,
     "metadata": {},
     "output_type": "execute_result"
    }
   ],
   "source": [
    "pd.set_option('display.max_colwidth', -1)\n",
    "pd.DataFrame(reviewlist)[['datasets']]"
   ]
  },
  {
   "cell_type": "code",
   "execution_count": 38,
   "metadata": {
    "slideshow": {
     "slide_type": "skip"
    }
   },
   "outputs": [],
   "source": [
    "col = list(reviewlist.columns)\n",
    "refdes = reviewlist[col[1]][0].split('/')[-1].split('_')[1][0:27]\n",
    "dr_data = cf.refdes_datareview_json(refdes)"
   ]
  },
  {
   "cell_type": "markdown",
   "metadata": {
    "slideshow": {
     "slide_type": "slide"
    }
   },
   "source": [
    "<p style=\"color:green; font-size:1.1em;\">Pressure Comparison:</p>\n",
    "<p style=\"color:blue\">Deploy Depth   (vs)   Max Pressure</p>"
   ]
  },
  {
   "cell_type": "code",
   "execution_count": 42,
   "metadata": {},
   "outputs": [],
   "source": [
    "df = pd.DataFrame()\n",
    "for ii in range(len(reviewlist)):         \n",
    "    deploy_num = int(reviewlist[col[0]][ii].split('t')[-1])\n",
    "    deploy_info = cf.get_deployment_information(dr_data, deploy_num)\n",
    "    deploy_depth = deploy_info['deployment_depth']\n",
    "    \n",
    "    # Check deployment pressure from asset management against pressure variable in file\n",
    "    ds = xr.open_dataset(reviewlist[col[1]][ii], mask_and_scale=False)\n",
    "    ds = ds.swap_dims({'obs': 'time'})\n",
    "    press = pf.pressure_var(ds, list(ds.coords.keys()))\n",
    "    if press is None:\n",
    "        press = pf.pressure_var(ds, list(ds.data_vars.keys()))     \n",
    "    pressure_compare, pressure_max, pressure_mean = cf.calculate_mean_pressure(press, ds, refdes, deploy_depth)\n",
    "        \n",
    "    df0 = pd.DataFrame({'method': reviewlist[col[2]][ii],\n",
    "                        'deploy_depth': [deploy_depth],\n",
    "                        'data_pressure_max': [pressure_max]\n",
    "                        }, index=[deploy_num])\n",
    "    df = df.append(df0)"
   ]
  },
  {
   "cell_type": "code",
   "execution_count": 43,
   "metadata": {},
   "outputs": [
    {
     "data": {
      "text/html": [
       "<div>\n",
       "<style scoped>\n",
       "    .dataframe tbody tr th:only-of-type {\n",
       "        vertical-align: middle;\n",
       "    }\n",
       "\n",
       "    .dataframe tbody tr th {\n",
       "        vertical-align: top;\n",
       "    }\n",
       "\n",
       "    .dataframe thead th {\n",
       "        text-align: right;\n",
       "    }\n",
       "</style>\n",
       "<table border=\"1\" class=\"dataframe\">\n",
       "  <thead>\n",
       "    <tr style=\"text-align: right;\">\n",
       "      <th></th>\n",
       "      <th>method</th>\n",
       "      <th>deploy_depth</th>\n",
       "      <th>data_pressure_max</th>\n",
       "    </tr>\n",
       "  </thead>\n",
       "  <tbody>\n",
       "    <tr>\n",
       "      <th>1</th>\n",
       "      <td>recovered_host</td>\n",
       "      <td>200</td>\n",
       "      <td>195.92</td>\n",
       "    </tr>\n",
       "    <tr>\n",
       "      <th>2</th>\n",
       "      <td>recovered_host</td>\n",
       "      <td>200</td>\n",
       "      <td>176.89</td>\n",
       "    </tr>\n",
       "    <tr>\n",
       "      <th>3</th>\n",
       "      <td>recovered_host</td>\n",
       "      <td>200</td>\n",
       "      <td>205.04</td>\n",
       "    </tr>\n",
       "    <tr>\n",
       "      <th>4</th>\n",
       "      <td>recovered_host</td>\n",
       "      <td>200</td>\n",
       "      <td>193.72</td>\n",
       "    </tr>\n",
       "    <tr>\n",
       "      <th>5</th>\n",
       "      <td>recovered_host</td>\n",
       "      <td>200</td>\n",
       "      <td>194.41</td>\n",
       "    </tr>\n",
       "  </tbody>\n",
       "</table>\n",
       "</div>"
      ],
      "text/plain": [
       "           method  deploy_depth  data_pressure_max\n",
       "1  recovered_host  200           195.92           \n",
       "2  recovered_host  200           176.89           \n",
       "3  recovered_host  200           205.04           \n",
       "4  recovered_host  200           193.72           \n",
       "5  recovered_host  200           194.41           "
      ]
     },
     "execution_count": 43,
     "metadata": {},
     "output_type": "execute_result"
    }
   ],
   "source": [
    "df"
   ]
  },
  {
   "cell_type": "markdown",
   "metadata": {
    "slideshow": {
     "slide_type": "slide"
    }
   },
   "source": [
    "<p style=\"color:green; font-size:1.1em;\"> Missing Coordinates:</p>\n",
    "\n",
    "<p style=\"color:blue\">'obs', 'time', 'pressure', 'lat', 'lon'</p>"
   ]
  },
  {
   "cell_type": "code",
   "execution_count": 44,
   "metadata": {
    "slideshow": {
     "slide_type": "-"
    }
   },
   "outputs": [],
   "source": [
    "df = pd.DataFrame()\n",
    "for ii in range(len(reviewlist)):         \n",
    "    deploy_num = int(reviewlist[col[0]][ii].split('t')[-1])\n",
    "#     deploy_info = cf.get_deployment_information(dr_data, deploy_num)\n",
    "#     deploy_depth = deploy_info['deployment_depth']\n",
    "  \n",
    "    ds = xr.open_dataset(reviewlist[col[1]][ii], mask_and_scale=False)\n",
    "    ds = ds.swap_dims({'obs': 'time'})\n",
    "# check coordinate\n",
    "    file_coordinates = list(ds.coords.keys())\n",
    "    if 'SBD' not in refdes.split('-')[1]:\n",
    "        check_coords = list(set(['obs', 'time', 'pressure', 'lat', 'lon']) - set(file_coordinates))\n",
    "    else:\n",
    "        check_coords = list(set(['obs', 'time', 'lat', 'lon']) - set(file_coordinates))\n",
    "    \n",
    "    if len(check_coords) > 0:\n",
    "        if 'pressure' in check_coords:\n",
    "            if len([j for j in file_coordinates if 'pressure' in j]) == 1:\n",
    "                check_coords.remove('pressure')\n",
    "                if len(check_coords) > 0:\n",
    "                    coord_test = 'missing: {}'.format(check_coords)\n",
    "                else:\n",
    "                    coord_test = 'pass'\n",
    "            else:\n",
    "                coord_test = 'missing: {}'.format(check_coords)\n",
    "        else:\n",
    "            coord_test = 'missing: {}'.format(check_coords)\n",
    "    else:\n",
    "        coord_test = 'pass'\n",
    "        \n",
    "    df0 = pd.DataFrame({\n",
    "                        'method': reviewlist[col[2]][ii],\n",
    "                        'file_cord_list': [file_coordinates],\n",
    "                        'cord_test':[coord_test]}, index=[deploy_num])\n",
    "    df = df.append(df0)"
   ]
  },
  {
   "cell_type": "code",
   "execution_count": 45,
   "metadata": {},
   "outputs": [
    {
     "data": {
      "text/html": [
       "<div>\n",
       "<style scoped>\n",
       "    .dataframe tbody tr th:only-of-type {\n",
       "        vertical-align: middle;\n",
       "    }\n",
       "\n",
       "    .dataframe tbody tr th {\n",
       "        vertical-align: top;\n",
       "    }\n",
       "\n",
       "    .dataframe thead th {\n",
       "        text-align: right;\n",
       "    }\n",
       "</style>\n",
       "<table border=\"1\" class=\"dataframe\">\n",
       "  <thead>\n",
       "    <tr style=\"text-align: right;\">\n",
       "      <th></th>\n",
       "      <th>method</th>\n",
       "      <th>file_cord_list</th>\n",
       "      <th>cord_test</th>\n",
       "    </tr>\n",
       "  </thead>\n",
       "  <tbody>\n",
       "    <tr>\n",
       "      <th>1</th>\n",
       "      <td>recovered_host</td>\n",
       "      <td>[obs, time, lon, lat, int_ctd_pressure]</td>\n",
       "      <td>pass</td>\n",
       "    </tr>\n",
       "    <tr>\n",
       "      <th>2</th>\n",
       "      <td>recovered_host</td>\n",
       "      <td>[obs, time, lat, lon, int_ctd_pressure]</td>\n",
       "      <td>pass</td>\n",
       "    </tr>\n",
       "    <tr>\n",
       "      <th>3</th>\n",
       "      <td>recovered_host</td>\n",
       "      <td>[obs, time, lat, lon, int_ctd_pressure]</td>\n",
       "      <td>pass</td>\n",
       "    </tr>\n",
       "    <tr>\n",
       "      <th>4</th>\n",
       "      <td>recovered_host</td>\n",
       "      <td>[obs, time, lat, lon, int_ctd_pressure]</td>\n",
       "      <td>pass</td>\n",
       "    </tr>\n",
       "    <tr>\n",
       "      <th>5</th>\n",
       "      <td>recovered_host</td>\n",
       "      <td>[obs, time, lat, lon, int_ctd_pressure]</td>\n",
       "      <td>pass</td>\n",
       "    </tr>\n",
       "  </tbody>\n",
       "</table>\n",
       "</div>"
      ],
      "text/plain": [
       "           method                           file_cord_list cord_test\n",
       "1  recovered_host  [obs, time, lon, lat, int_ctd_pressure]  pass    \n",
       "2  recovered_host  [obs, time, lat, lon, int_ctd_pressure]  pass    \n",
       "3  recovered_host  [obs, time, lat, lon, int_ctd_pressure]  pass    \n",
       "4  recovered_host  [obs, time, lat, lon, int_ctd_pressure]  pass    \n",
       "5  recovered_host  [obs, time, lat, lon, int_ctd_pressure]  pass    "
      ]
     },
     "execution_count": 45,
     "metadata": {},
     "output_type": "execute_result"
    }
   ],
   "source": [
    "df"
   ]
  },
  {
   "cell_type": "markdown",
   "metadata": {},
   "source": [
    "<p style=\"color:green; font-size:1.1em;\"> Glider Track</p>"
   ]
  },
  {
   "cell_type": "code",
   "execution_count": 46,
   "metadata": {},
   "outputs": [
    {
     "data": {
      "text/html": [
       "<img src=\"https://marine.rutgers.edu/cool/ooi/data-eval/data_review/CP/CP05MOAS/CP05MOAS-GL335/CP05MOAS-GL335-05-PARADM000/CP05MOAS-GL335-05-PARADM000_glider_track.png\"/>"
      ],
      "text/plain": [
       "<IPython.core.display.Image object>"
      ]
     },
     "execution_count": 46,
     "metadata": {},
     "output_type": "execute_result"
    }
   ],
   "source": [
    "Image(url= \"https://marine.rutgers.edu/cool/ooi/data-eval/data_review/CP/CP05MOAS/CP05MOAS-GL335/CP05MOAS-GL335-05-PARADM000/CP05MOAS-GL335-05-PARADM000_glider_track.png\")"
   ]
  },
  {
   "cell_type": "code",
   "execution_count": null,
   "metadata": {},
   "outputs": [],
   "source": []
  }
 ],
 "metadata": {
  "celltoolbar": "Slideshow",
  "kernelspec": {
   "display_name": "Python 3",
   "language": "python",
   "name": "python3"
  },
  "language_info": {
   "codemirror_mode": {
    "name": "ipython",
    "version": 3
   },
   "file_extension": ".py",
   "mimetype": "text/x-python",
   "name": "python",
   "nbconvert_exporter": "python",
   "pygments_lexer": "ipython3",
   "version": "3.7.2"
  }
 },
 "nbformat": 4,
 "nbformat_minor": 2
}
