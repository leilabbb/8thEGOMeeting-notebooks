{
 "cells": [
  {
   "cell_type": "markdown",
   "metadata": {
    "colab_type": "text",
    "id": "u7WGLvWCtFxH"
   },
   "source": [
    "# Requesting OOI Data in NetCDF Format\n",
    "*Written by Sage Lichtenwalner, Rutgers University*\n",
    "\n",
    "*Modified by Lori Garzio*\n",
    "\n",
    "Purpose: demonstrate how to use the OOI M2M interface (also known as the OOI API) to request downloadable files for an instrument.\n",
    "\n",
    "For this example, we will download data for the PAR sensor on Pioneer Glider 335 (CP05MOAS-GL335-05-PARADM000). More information about this instrument, along with a review of the OOI 1.0 datasets, are here: https://datareview.marine.rutgers.edu/instruments/report/CP05MOAS-GL335-05-PARADM000."
   ]
  },
  {
   "cell_type": "markdown",
   "metadata": {
    "colab_type": "text",
    "id": "z26K0nG3a0FJ",
    "slideshow": {
     "slide_type": "slide"
    }
   },
   "source": [
    "# Getting Started with the API\n",
    "\n",
    "Individual instrument data stream files can be downloaded directly from the [OOI Data Portal](https://ooinet.oceanobservatories.org). However, if you want to download multiple instruments and streams, it is useful to know how to build data requests using the OOI API. In order to use the OOI API, you will first need to create an account on the OOI Data Portal. Once you have done that, you will need to grab your API username and token, which can be found on your profile page. Enter your username and token below.\n",
    "\n",
    "For more information on the OOI M2M services, see the OOI website: https://oceanobservatories.org/ooi-m2m-interface/\n"
   ]
  },
  {
   "cell_type": "code",
   "execution_count": 1,
   "metadata": {
    "colab": {
     "autoexec": {
      "startup": false,
      "wait_interval": 0
     }
    },
    "colab_type": "code",
    "id": "LzHmTswaa3wI",
    "slideshow": {
     "slide_type": "slide"
    }
   },
   "outputs": [],
   "source": [
    "USERNAME = 'YOUR API USERNAME'\n",
    "TOKEN =  'YOUR API TOKEN'"
   ]
  },
  {
   "cell_type": "code",
   "execution_count": 2,
   "metadata": {
    "colab": {
     "autoexec": {
      "startup": false,
      "wait_interval": 0
     }
    },
    "colab_type": "code",
    "id": "xnc8KZTuvCfZ"
   },
   "outputs": [],
   "source": [
    "# packages and functions needed to run the notebook\n",
    "import requests\n",
    "import datetime\n",
    "import time\n",
    "import functions.common as cf"
   ]
  },
  {
   "cell_type": "markdown",
   "metadata": {
    "colab_type": "text",
    "id": "oRHcknZLIoh7",
    "slideshow": {
     "slide_type": "slide"
    }
   },
   "source": [
    "To access the OOI API, we will use the [python requests library](http://docs.python-requests.org/en/master/), which is very easy to use.  Here is the basic command format.\n",
    "\n",
    "> `r = requests.get(url, params=parameters, auth=('user', 'pass'))`\n",
    "\n",
    "All we have to do is specify the URL we want to access, along with our login information."
   ]
  },
  {
   "cell_type": "markdown",
   "metadata": {
    "colab_type": "text",
    "id": "cNY3xBY4zt4D"
   },
   "source": [
    "## How to find Instrument Information needed to use the API?\n",
    "Note, in order to use the OOI API, you will need to know the various OOI codes or IDs to make a request.  Many of these are available in the [OOI Data Portal](https://ooinet.oceanobservatories.org), but you may find the [Rutgers OOI SE 1.0 Data Review Portal](https://datareview.marine.rutgers.edu/) helpful. On each instrument report page there is an Info tab in the top right corner that gives you information about the instrument, data streams, and parameters.\n",
    "\n",
    "For the instrument in this example, you will need the following to make the request to the M2M API.\n",
    "* the 3 parts of the Reference Designator\n",
    "* the stream name, and\n",
    "* the data delivery method\n",
    "\n",
    "To make a data request, we construct a URL using the elements above using the following format:\n",
    "\n",
    "> /sensor/inv/{subsite}/{node}/{sensor}/{method}/{stream}\n",
    "\n",
    "We can also specify a number of additional optionals using the **params** array. We can specify a start (**beginDT**) and ending date/time (**endDT**) for our request."
   ]
  },
  {
   "cell_type": "code",
   "execution_count": 3,
   "metadata": {
    "colab": {
     "autoexec": {
      "startup": false,
      "wait_interval": 0
     }
    },
    "colab_type": "code",
    "id": "oyzMSXg6bDAt",
    "slideshow": {
     "slide_type": "slide"
    }
   },
   "outputs": [],
   "source": [
    "# Instrument Information\n",
    "site = 'CP05MOAS'\n",
    "node = 'GL335'\n",
    "instrument = '05-PARADM000'\n",
    "method = 'recovered_host'\n",
    "stream = 'parad_m_glider_recovered'\n",
    "\n",
    "SENSOR_BASE_URL = 'https://ooinet.oceanobservatories.org/api/m2m/12576/sensor/inv/'\n",
    "\n",
    "# Create the request URL\n",
    "data_request_url ='/'.join((SENSOR_BASE_URL, site, node, instrument, method, stream))\n",
    "\n",
    "# All of the following are optional\n",
    "params = {\n",
    "  'beginDT':'2014-10-06T00:00:00.000Z',\n",
    "  'endDT':'2018-09-30T00:00:00.000Z',\n",
    "  'format':'application/netcdf',\n",
    "  'include_provenance':'true',\n",
    "  'include_annotations':'true'\n",
    "}"
   ]
  },
  {
   "cell_type": "markdown",
   "metadata": {
    "colab_type": "text",
    "id": "XRe-uYUokBV3",
    "slideshow": {
     "slide_type": "slide"
    }
   },
   "source": [
    "Send the request.  (Note, these lines are commented out, to prevent accidental resubmission when running through the entire notebook quickly.)"
   ]
  },
  {
   "cell_type": "code",
   "execution_count": 4,
   "metadata": {
    "colab": {
     "autoexec": {
      "startup": false,
      "wait_interval": 0
     }
    },
    "colab_type": "code",
    "id": "01iDPEtei1rG"
   },
   "outputs": [],
   "source": [
    "#r = requests.get(data_request_url, params=params, auth=(USERNAME, TOKEN))\n",
    "#data = r.json()"
   ]
  },
  {
   "cell_type": "markdown",
   "metadata": {
    "colab_type": "text",
    "id": "rUTunB3mkk56",
    "slideshow": {
     "slide_type": "slide"
    }
   },
   "source": [
    "The response will contain URLs and some other metadata about the request"
   ]
  },
  {
   "cell_type": "code",
   "execution_count": 5,
   "metadata": {
    "colab": {
     "autoexec": {
      "startup": false,
      "wait_interval": 0
     },
     "base_uri": "https://localhost:8080/",
     "height": 168
    },
    "colab_type": "code",
    "executionInfo": {
     "elapsed": 296,
     "status": "ok",
     "timestamp": 1529033614038,
     "user": {
      "displayName": "Sage Lichtenwalner",
      "photoUrl": "https://lh3.googleusercontent.com/a/default-user=s128",
      "userId": "107661401208389246829"
     },
     "user_tz": 240
    },
    "id": "zWcFn629j3W9",
    "outputId": "d1745383-a656-47e7-d442-6b0e867cf5f3"
   },
   "outputs": [
    {
     "data": {
      "text/plain": [
       "{'requestUUID': '7167d11f-a8fa-48c9-a20a-7a7a42d50dc5',\n",
       " 'outputURL': 'https://opendap.oceanobservatories.org/thredds/catalog/ooi/lgarzio@marine.rutgers.edu/20190517T180206-CP05MOAS-GL335-05-PARADM000-recovered_host-parad_m_glider_recovered/catalog.html',\n",
       " 'allURLs': ['https://opendap.oceanobservatories.org/thredds/catalog/ooi/lgarzio@marine.rutgers.edu/20190517T180206-CP05MOAS-GL335-05-PARADM000-recovered_host-parad_m_glider_recovered/catalog.html',\n",
       "  'https://opendap.oceanobservatories.org/async_results/lgarzio@marine.rutgers.edu/20190517T180206-CP05MOAS-GL335-05-PARADM000-recovered_host-parad_m_glider_recovered'],\n",
       " 'sizeCalculation': 2297073836,\n",
       " 'timeCalculation': 482,\n",
       " 'numberOfSubJobs': 1760}"
      ]
     },
     "execution_count": 5,
     "metadata": {},
     "output_type": "execute_result"
    }
   ],
   "source": [
    "data"
   ]
  },
  {
   "cell_type": "markdown",
   "metadata": {
    "colab_type": "text",
    "id": "mehVLJmd8s7F"
   },
   "source": [
    "## Which data URL should I use?"
   ]
  },
  {
   "cell_type": "markdown",
   "metadata": {
    "colab_type": "text",
    "id": "V0IQHzLJkL14",
    "slideshow": {
     "slide_type": "slide"
    }
   },
   "source": [
    "The **first** URL in the **allURLs** key points to the THREDDS server, which allows for programmatic data access without downloading the entire file."
   ]
  },
  {
   "cell_type": "code",
   "execution_count": 6,
   "metadata": {
    "colab": {
     "autoexec": {
      "startup": false,
      "wait_interval": 0
     },
     "base_uri": "https://localhost:8080/",
     "height": 60
    },
    "colab_type": "code",
    "executionInfo": {
     "elapsed": 378,
     "status": "ok",
     "timestamp": 1529033616895,
     "user": {
      "displayName": "Sage Lichtenwalner",
      "photoUrl": "https://lh3.googleusercontent.com/a/default-user=s128",
      "userId": "107661401208389246829"
     },
     "user_tz": 240
    },
    "id": "feUc368ekL_o",
    "outputId": "4c9a90dd-31c9-42ff-fd03-1bbd640af7e3"
   },
   "outputs": [
    {
     "name": "stdout",
     "output_type": "stream",
     "text": [
      "https://opendap.oceanobservatories.org/thredds/catalog/ooi/lgarzio@marine.rutgers.edu/20190517T180206-CP05MOAS-GL335-05-PARADM000-recovered_host-parad_m_glider_recovered/catalog.html\n"
     ]
    }
   ],
   "source": [
    "print(data['allURLs'][0])"
   ]
  },
  {
   "cell_type": "markdown",
   "metadata": {
    "colab_type": "text",
    "id": "GftevvEbkSu8",
    "slideshow": {
     "slide_type": "slide"
    }
   },
   "source": [
    "The **second** URL in the **allURLs** key provides a direct link to a web server which you can use to quickly download files if you don't want to go through THREDDS."
   ]
  },
  {
   "cell_type": "code",
   "execution_count": 7,
   "metadata": {
    "colab": {
     "autoexec": {
      "startup": false,
      "wait_interval": 0
     },
     "base_uri": "https://localhost:8080/",
     "height": 60
    },
    "colab_type": "code",
    "executionInfo": {
     "elapsed": 281,
     "status": "ok",
     "timestamp": 1529033619394,
     "user": {
      "displayName": "Sage Lichtenwalner",
      "photoUrl": "https://lh3.googleusercontent.com/a/default-user=s128",
      "userId": "107661401208389246829"
     },
     "user_tz": 240
    },
    "id": "5EnjDDeZkTI6",
    "outputId": "1fc11813-bc98-4132-bb72-8b38e4b539ab"
   },
   "outputs": [
    {
     "name": "stdout",
     "output_type": "stream",
     "text": [
      "https://opendap.oceanobservatories.org/async_results/lgarzio@marine.rutgers.edu/20190517T180206-CP05MOAS-GL335-05-PARADM000-recovered_host-parad_m_glider_recovered\n"
     ]
    }
   ],
   "source": [
    "print(data['allURLs'][1])"
   ]
  },
  {
   "cell_type": "markdown",
   "metadata": {
    "colab_type": "text",
    "id": "wwn6ymX3lVtx",
    "slideshow": {
     "slide_type": "slide"
    }
   },
   "source": [
    "## How can you check when a request is complete?"
   ]
  },
  {
   "cell_type": "markdown",
   "metadata": {
    "colab_type": "text",
    "id": "picCpGK0lCTg"
   },
   "source": [
    "We can use the second URL to check if a status.txt file has been written to the location. If true, then the request has completed and all data have been delivered to the THREDDS server."
   ]
  },
  {
   "cell_type": "code",
   "execution_count": 3,
   "metadata": {
    "colab": {
     "autoexec": {
      "startup": false,
      "wait_interval": 0
     },
     "base_uri": "https://localhost:8080/",
     "height": 71
    },
    "colab_type": "code",
    "executionInfo": {
     "elapsed": 60803,
     "status": "ok",
     "timestamp": 1529033681950,
     "user": {
      "displayName": "Sage Lichtenwalner",
      "photoUrl": "https://lh3.googleusercontent.com/a/default-user=s128",
      "userId": "107661401208389246829"
     },
     "user_tz": 240
    },
    "id": "7ngZeFgLmPDl",
    "outputId": "fb36963d-43b9-489d-f51d-569f60b39197",
    "slideshow": {
     "slide_type": "slide"
    }
   },
   "outputs": [
    {
     "name": "stdout",
     "output_type": "stream",
     "text": [
      "Data request has fulfilled.\n",
      "CPU times: user 24.4 ms, sys: 5.79 ms, total: 30.2 ms\n",
      "Wall time: 42 ms\n"
     ]
    }
   ],
   "source": [
    "%%time\n",
    "check_complete = data['allURLs'][1] + '/status.txt'\n",
    "r = requests.get(check_complete)\n",
    "while r.status_code != requests.codes.ok:\n",
    "        print('Data request is still fulfilling. Trying again in 1 minute.')\n",
    "        time.sleep(60)\n",
    "        r = requests.get(check_complete)\n",
    "print('Data request has fulfilled.')"
   ]
  },
  {
   "cell_type": "markdown",
   "metadata": {
    "colab_type": "text",
    "id": "3mz8-PYO9qmz"
   },
   "source": [
    "Once the request has completed, you can use the get_nc_urls function in the common functions folder included here to list all of the NetCDF data files that you downloaded (this function uses the same code above to make sure the request has completed before listing all of the files). Those links can be used to access, analyze, and plot the data."
   ]
  },
  {
   "cell_type": "code",
   "execution_count": 4,
   "metadata": {},
   "outputs": [
    {
     "name": "stdout",
     "output_type": "stream",
     "text": [
      "Data request has fulfilled.\n"
     ]
    },
    {
     "data": {
      "text/plain": [
       "['https://opendap.oceanobservatories.org/thredds/dodsC/ooi/lgarzio@marine.rutgers.edu/20190517T180206-CP05MOAS-GL335-05-PARADM000-recovered_host-parad_m_glider_recovered/deployment0005_CP05MOAS-GL335-05-PARADM000-recovered_host-parad_m_glider_recovered_20170116T150223.595370-20170304T093047.153350.nc',\n",
       " 'https://opendap.oceanobservatories.org/thredds/dodsC/ooi/lgarzio@marine.rutgers.edu/20190517T180206-CP05MOAS-GL335-05-PARADM000-recovered_host-parad_m_glider_recovered/deployment0005_CP05MOAS-GL335-03-CTDGVM000-recovered_host-ctdgv_m_glider_instrument_recovered_18990907T061321-20170304T093047.153350.nc',\n",
       " 'https://opendap.oceanobservatories.org/thredds/dodsC/ooi/lgarzio@marine.rutgers.edu/20190517T180206-CP05MOAS-GL335-05-PARADM000-recovered_host-parad_m_glider_recovered/deployment0005_CP05MOAS-GL335-00-ENG000000-recovered_host-glider_gps_position_20170116T150227.215330-20170304T073207.688540.nc',\n",
       " 'https://opendap.oceanobservatories.org/thredds/dodsC/ooi/lgarzio@marine.rutgers.edu/20190517T180206-CP05MOAS-GL335-05-PARADM000-recovered_host-parad_m_glider_recovered/deployment0004_CP05MOAS-GL335-05-PARADM000-recovered_host-parad_m_glider_recovered_20160529T204727.075500-20160626T091401.747920.nc',\n",
       " 'https://opendap.oceanobservatories.org/thredds/dodsC/ooi/lgarzio@marine.rutgers.edu/20190517T180206-CP05MOAS-GL335-05-PARADM000-recovered_host-parad_m_glider_recovered/deployment0004_CP05MOAS-GL335-03-CTDGVM000-recovered_host-ctdgv_m_glider_instrument_recovered_18990907T061321-20160626T091401.747920.nc',\n",
       " 'https://opendap.oceanobservatories.org/thredds/dodsC/ooi/lgarzio@marine.rutgers.edu/20190517T180206-CP05MOAS-GL335-05-PARADM000-recovered_host-parad_m_glider_recovered/deployment0004_CP05MOAS-GL335-00-ENG000000-recovered_host-glider_gps_position_20160529T204734.121150-20160626T091457.840360.nc',\n",
       " 'https://opendap.oceanobservatories.org/thredds/dodsC/ooi/lgarzio@marine.rutgers.edu/20190517T180206-CP05MOAS-GL335-05-PARADM000-recovered_host-parad_m_glider_recovered/deployment0003_CP05MOAS-GL335-05-PARADM000-recovered_host-parad_m_glider_recovered_20160404T185705.311220-20160417T235956.145260.nc',\n",
       " 'https://opendap.oceanobservatories.org/thredds/dodsC/ooi/lgarzio@marine.rutgers.edu/20190517T180206-CP05MOAS-GL335-05-PARADM000-recovered_host-parad_m_glider_recovered/deployment0003_CP05MOAS-GL335-03-CTDGVM000-recovered_host-ctdgv_m_glider_instrument_recovered_18990907T061321-20160417T235956.145260.nc',\n",
       " 'https://opendap.oceanobservatories.org/thredds/dodsC/ooi/lgarzio@marine.rutgers.edu/20190517T180206-CP05MOAS-GL335-05-PARADM000-recovered_host-parad_m_glider_recovered/deployment0003_CP05MOAS-GL335-00-ENG000000-recovered_host-glider_gps_position_20160404T185713.510310-20160417T235828.888030.nc',\n",
       " 'https://opendap.oceanobservatories.org/thredds/dodsC/ooi/lgarzio@marine.rutgers.edu/20190517T180206-CP05MOAS-GL335-05-PARADM000-recovered_host-parad_m_glider_recovered/deployment0002_CP05MOAS-GL335-05-PARADM000-recovered_host-parad_m_glider_recovered_20151014T001900.237980-20151110T091855.472810.nc',\n",
       " 'https://opendap.oceanobservatories.org/thredds/dodsC/ooi/lgarzio@marine.rutgers.edu/20190517T180206-CP05MOAS-GL335-05-PARADM000-recovered_host-parad_m_glider_recovered/deployment0002_CP05MOAS-GL335-03-CTDGVM000-recovered_host-ctdgv_m_glider_instrument_recovered_18990907T061321-20151110T091855.472810.nc',\n",
       " 'https://opendap.oceanobservatories.org/thredds/dodsC/ooi/lgarzio@marine.rutgers.edu/20190517T180206-CP05MOAS-GL335-05-PARADM000-recovered_host-parad_m_glider_recovered/deployment0002_CP05MOAS-GL335-00-ENG000000-recovered_host-glider_gps_position_20151014T001904.566160-20151110T084743.388180.nc',\n",
       " 'https://opendap.oceanobservatories.org/thredds/dodsC/ooi/lgarzio@marine.rutgers.edu/20190517T180206-CP05MOAS-GL335-05-PARADM000-recovered_host-parad_m_glider_recovered/deployment0001_CP05MOAS-GL335-05-PARADM000-recovered_host-parad_m_glider_recovered_20141006T202152.905850-20141213T073238.247380.nc',\n",
       " 'https://opendap.oceanobservatories.org/thredds/dodsC/ooi/lgarzio@marine.rutgers.edu/20190517T180206-CP05MOAS-GL335-05-PARADM000-recovered_host-parad_m_glider_recovered/deployment0001_CP05MOAS-GL335-03-CTDGVM000-recovered_host-ctdgv_m_glider_instrument_recovered_18990907T061321-20141213T073237.230680.nc',\n",
       " 'https://opendap.oceanobservatories.org/thredds/dodsC/ooi/lgarzio@marine.rutgers.edu/20190517T180206-CP05MOAS-GL335-05-PARADM000-recovered_host-parad_m_glider_recovered/deployment0001_CP05MOAS-GL335-00-ENG000000-recovered_host-glider_gps_position_20141006T202156.895420-20141213T073953.150850.nc']"
      ]
     },
     "execution_count": 4,
     "metadata": {},
     "output_type": "execute_result"
    }
   ],
   "source": [
    "datasets = cf.get_nc_urls([data['allURLs'][0]])\n",
    "datasets"
   ]
  },
  {
   "cell_type": "markdown",
   "metadata": {},
   "source": [
    "You can use this information to write your own tools for downloading multiple instruments at once, or use the interactive code for downloading data here: https://github.com/ooi-data-lab/data-download"
   ]
  }
 ],
 "metadata": {
  "colab": {
   "default_view": {},
   "name": "Example 1 - Requesting OOI Data.ipynb",
   "provenance": [],
   "toc_visible": true,
   "version": "0.3.2",
   "views": {}
  },
  "kernelspec": {
   "display_name": "Python 3",
   "language": "python",
   "name": "python3"
  },
  "language_info": {
   "codemirror_mode": {
    "name": "ipython",
    "version": 3
   },
   "file_extension": ".py",
   "mimetype": "text/x-python",
   "name": "python",
   "nbconvert_exporter": "python",
   "pygments_lexer": "ipython3",
   "version": "3.7.2"
  }
 },
 "nbformat": 4,
 "nbformat_minor": 1
}
