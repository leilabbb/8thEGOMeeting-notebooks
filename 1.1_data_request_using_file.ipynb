{
 "cells": [
  {
   "cell_type": "markdown",
   "metadata": {},
   "source": [
    "# Request and Download Data for Multiple Instruments\n",
    "*Written by Leila Belabbassi and Lori Garzio, Rutgers University*\n",
    "\n",
    "Purpose: demonstrate how to use interactive tools to build netCDF data request urls for pre-selected instruments in a .csv file, and send the requests. Several functions were already built to make the process easier and are included in the *scripts* and *functions* folders. Note: the functions were written to only download data containing scientific parameters (excludes engineering-only data streams).\n",
    "\n",
    "The .csv file with a pre-selected list of instruments must have the following columns:\n",
    "['reference_designator', 'delivery_method']. An example file (instrument_list.csv) is included. You can modify this file to download other instruments from other platforms. To find instruments to download, visit the [OOI Data Portal](https://ooinet.oceanobservatories.org).\n",
    "\n",
    "You must also provide a directory where outputs of the tool are saved. This includes 1) a summary of the status of the data request, the request url, and the outputUrl (THREDDs location where the files are saved), 2) the list of the request urls, 3) the dates for which data were requests and the deployments those dates span, and 4) a list of the urls that were not sent (e.g., if the process was stopped)."
   ]
  },
  {
   "cell_type": "markdown",
   "metadata": {},
   "source": [
    "### Input variables:"
   ]
  },
  {
   "cell_type": "code",
   "execution_count": 1,
   "metadata": {},
   "outputs": [],
   "source": [
    "#directory where outputs are saved\n",
    "sDir = '/Users/lgarzio/Documents/OOI/EGOMeeting/'\n",
    "\n",
    "username = '' #OOI API username\n",
    "token = '' # OOI API password\n",
    "\n",
    "# file with pre-selected list of instruments\n",
    "f = '/Users/lgarzio/Documents/repo/OOI/ooi-data-lab/8thEGOMeeting-notebooks/instrument_list.csv'"
   ]
  },
  {
   "cell_type": "markdown",
   "metadata": {},
   "source": [
    "### Import functions:"
   ]
  },
  {
   "cell_type": "code",
   "execution_count": 2,
   "metadata": {},
   "outputs": [],
   "source": [
    "import datetime as dt\n",
    "import pandas as pd\n",
    "import os\n",
    "import itertools\n",
    "import functions.common as cf\n",
    "from scripts import data_request_urls_ooi1_0\n",
    "from scripts import send_data_requests_nc\n",
    "from scripts import data_request_tools"
   ]
  },
  {
   "cell_type": "markdown",
   "metadata": {},
   "source": [
    "### Read input file:"
   ]
  },
  {
   "cell_type": "code",
   "execution_count": 3,
   "metadata": {},
   "outputs": [],
   "source": [
    "df = pd.read_csv(f)"
   ]
  },
  {
   "cell_type": "markdown",
   "metadata": {},
   "source": [
    "### Create request urls for instruments in the read file:\n",
    "Note: the data_request_tools functions *check_str* and *format_inputs* simply makes sure the various components of the reference designator are in the correct format to build the data request url. "
   ]
  },
  {
   "cell_type": "code",
   "execution_count": 4,
   "metadata": {},
   "outputs": [
    {
     "name": "stdout",
     "output_type": "stream",
     "text": [
      "CP05MOAS-GL336-03-CTDGVM000 ['telemetered']\n",
      "[['https://ooinet.oceanobservatories.org/api/m2m/12576/sensor/inv/CP05MOAS/GL336/03-CTDGVM000/telemetered/ctdgv_m_glider_instrument?beginDT=2015-01-11T20:57:00.000Z&endDT=2018-04-03T11:50:00.000Z&include_annotations=true&include_provenance=true']]\n",
      "CP05MOAS-GL336-04-DOSTAM000 ['telemetered']\n",
      "[['https://ooinet.oceanobservatories.org/api/m2m/12576/sensor/inv/CP05MOAS/GL336/03-CTDGVM000/telemetered/ctdgv_m_glider_instrument?beginDT=2015-01-11T20:57:00.000Z&endDT=2018-04-03T11:50:00.000Z&include_annotations=true&include_provenance=true'], ['https://ooinet.oceanobservatories.org/api/m2m/12576/sensor/inv/CP05MOAS/GL336/04-DOSTAM000/telemetered/dosta_abcdjm_glider_instrument?beginDT=2015-01-11T20:57:00.000Z&endDT=2018-04-03T11:50:00.000Z&include_annotations=true&include_provenance=true']]\n",
      "CP05MOAS-GL336-05-PARADM000 ['telemetered']\n",
      "[['https://ooinet.oceanobservatories.org/api/m2m/12576/sensor/inv/CP05MOAS/GL336/03-CTDGVM000/telemetered/ctdgv_m_glider_instrument?beginDT=2015-01-11T20:57:00.000Z&endDT=2018-04-03T11:50:00.000Z&include_annotations=true&include_provenance=true'], ['https://ooinet.oceanobservatories.org/api/m2m/12576/sensor/inv/CP05MOAS/GL336/04-DOSTAM000/telemetered/dosta_abcdjm_glider_instrument?beginDT=2015-01-11T20:57:00.000Z&endDT=2018-04-03T11:50:00.000Z&include_annotations=true&include_provenance=true'], ['https://ooinet.oceanobservatories.org/api/m2m/12576/sensor/inv/CP05MOAS/GL336/05-PARADM000/telemetered/parad_m_glider_instrument?beginDT=2015-01-11T20:57:00.000Z&endDT=2018-04-03T11:50:00.000Z&include_annotations=true&include_provenance=true']]\n",
      "CP05MOAS-GL336-02-FLORTM000 ['telemetered']\n",
      "[['https://ooinet.oceanobservatories.org/api/m2m/12576/sensor/inv/CP05MOAS/GL336/03-CTDGVM000/telemetered/ctdgv_m_glider_instrument?beginDT=2015-01-11T20:57:00.000Z&endDT=2018-04-03T11:50:00.000Z&include_annotations=true&include_provenance=true'], ['https://ooinet.oceanobservatories.org/api/m2m/12576/sensor/inv/CP05MOAS/GL336/04-DOSTAM000/telemetered/dosta_abcdjm_glider_instrument?beginDT=2015-01-11T20:57:00.000Z&endDT=2018-04-03T11:50:00.000Z&include_annotations=true&include_provenance=true'], ['https://ooinet.oceanobservatories.org/api/m2m/12576/sensor/inv/CP05MOAS/GL336/05-PARADM000/telemetered/parad_m_glider_instrument?beginDT=2015-01-11T20:57:00.000Z&endDT=2018-04-03T11:50:00.000Z&include_annotations=true&include_provenance=true'], ['https://ooinet.oceanobservatories.org/api/m2m/12576/sensor/inv/CP05MOAS/GL336/02-FLORTM000/telemetered/flort_m_sample?beginDT=2015-01-11T20:57:00.000Z&endDT=2018-04-03T11:50:00.000Z&include_annotations=true&include_provenance=true']]\n",
      "CP05MOAS-GL336-03-CTDGVM000 ['recovered']\n",
      "[['https://ooinet.oceanobservatories.org/api/m2m/12576/sensor/inv/CP05MOAS/GL336/03-CTDGVM000/telemetered/ctdgv_m_glider_instrument?beginDT=2015-01-11T20:57:00.000Z&endDT=2018-04-03T11:50:00.000Z&include_annotations=true&include_provenance=true'], ['https://ooinet.oceanobservatories.org/api/m2m/12576/sensor/inv/CP05MOAS/GL336/04-DOSTAM000/telemetered/dosta_abcdjm_glider_instrument?beginDT=2015-01-11T20:57:00.000Z&endDT=2018-04-03T11:50:00.000Z&include_annotations=true&include_provenance=true'], ['https://ooinet.oceanobservatories.org/api/m2m/12576/sensor/inv/CP05MOAS/GL336/05-PARADM000/telemetered/parad_m_glider_instrument?beginDT=2015-01-11T20:57:00.000Z&endDT=2018-04-03T11:50:00.000Z&include_annotations=true&include_provenance=true'], ['https://ooinet.oceanobservatories.org/api/m2m/12576/sensor/inv/CP05MOAS/GL336/02-FLORTM000/telemetered/flort_m_sample?beginDT=2015-01-11T20:57:00.000Z&endDT=2018-04-03T11:50:00.000Z&include_annotations=true&include_provenance=true'], ['https://ooinet.oceanobservatories.org/api/m2m/12576/sensor/inv/CP05MOAS/GL336/03-CTDGVM000/recovered_host/ctdgv_m_glider_instrument_recovered?beginDT=2015-01-11T20:57:00.000Z&endDT=2018-04-03T11:50:00.000Z&include_annotations=true&include_provenance=true']]\n",
      "CP05MOAS-GL336-04-DOSTAM000 ['recovered']\n",
      "[['https://ooinet.oceanobservatories.org/api/m2m/12576/sensor/inv/CP05MOAS/GL336/03-CTDGVM000/telemetered/ctdgv_m_glider_instrument?beginDT=2015-01-11T20:57:00.000Z&endDT=2018-04-03T11:50:00.000Z&include_annotations=true&include_provenance=true'], ['https://ooinet.oceanobservatories.org/api/m2m/12576/sensor/inv/CP05MOAS/GL336/04-DOSTAM000/telemetered/dosta_abcdjm_glider_instrument?beginDT=2015-01-11T20:57:00.000Z&endDT=2018-04-03T11:50:00.000Z&include_annotations=true&include_provenance=true'], ['https://ooinet.oceanobservatories.org/api/m2m/12576/sensor/inv/CP05MOAS/GL336/05-PARADM000/telemetered/parad_m_glider_instrument?beginDT=2015-01-11T20:57:00.000Z&endDT=2018-04-03T11:50:00.000Z&include_annotations=true&include_provenance=true'], ['https://ooinet.oceanobservatories.org/api/m2m/12576/sensor/inv/CP05MOAS/GL336/02-FLORTM000/telemetered/flort_m_sample?beginDT=2015-01-11T20:57:00.000Z&endDT=2018-04-03T11:50:00.000Z&include_annotations=true&include_provenance=true'], ['https://ooinet.oceanobservatories.org/api/m2m/12576/sensor/inv/CP05MOAS/GL336/03-CTDGVM000/recovered_host/ctdgv_m_glider_instrument_recovered?beginDT=2015-01-11T20:57:00.000Z&endDT=2018-04-03T11:50:00.000Z&include_annotations=true&include_provenance=true'], ['https://ooinet.oceanobservatories.org/api/m2m/12576/sensor/inv/CP05MOAS/GL336/04-DOSTAM000/recovered_host/dosta_abcdjm_glider_recovered?beginDT=2015-01-11T20:57:00.000Z&endDT=2018-04-03T11:50:00.000Z&include_annotations=true&include_provenance=true']]\n",
      "CP05MOAS-GL336-05-PARADM000 ['recovered']\n",
      "[['https://ooinet.oceanobservatories.org/api/m2m/12576/sensor/inv/CP05MOAS/GL336/03-CTDGVM000/telemetered/ctdgv_m_glider_instrument?beginDT=2015-01-11T20:57:00.000Z&endDT=2018-04-03T11:50:00.000Z&include_annotations=true&include_provenance=true'], ['https://ooinet.oceanobservatories.org/api/m2m/12576/sensor/inv/CP05MOAS/GL336/04-DOSTAM000/telemetered/dosta_abcdjm_glider_instrument?beginDT=2015-01-11T20:57:00.000Z&endDT=2018-04-03T11:50:00.000Z&include_annotations=true&include_provenance=true'], ['https://ooinet.oceanobservatories.org/api/m2m/12576/sensor/inv/CP05MOAS/GL336/05-PARADM000/telemetered/parad_m_glider_instrument?beginDT=2015-01-11T20:57:00.000Z&endDT=2018-04-03T11:50:00.000Z&include_annotations=true&include_provenance=true'], ['https://ooinet.oceanobservatories.org/api/m2m/12576/sensor/inv/CP05MOAS/GL336/02-FLORTM000/telemetered/flort_m_sample?beginDT=2015-01-11T20:57:00.000Z&endDT=2018-04-03T11:50:00.000Z&include_annotations=true&include_provenance=true'], ['https://ooinet.oceanobservatories.org/api/m2m/12576/sensor/inv/CP05MOAS/GL336/03-CTDGVM000/recovered_host/ctdgv_m_glider_instrument_recovered?beginDT=2015-01-11T20:57:00.000Z&endDT=2018-04-03T11:50:00.000Z&include_annotations=true&include_provenance=true'], ['https://ooinet.oceanobservatories.org/api/m2m/12576/sensor/inv/CP05MOAS/GL336/04-DOSTAM000/recovered_host/dosta_abcdjm_glider_recovered?beginDT=2015-01-11T20:57:00.000Z&endDT=2018-04-03T11:50:00.000Z&include_annotations=true&include_provenance=true'], ['https://ooinet.oceanobservatories.org/api/m2m/12576/sensor/inv/CP05MOAS/GL336/05-PARADM000/recovered_host/parad_m_glider_recovered?beginDT=2015-01-11T20:57:00.000Z&endDT=2018-04-03T11:50:00.000Z&include_annotations=true&include_provenance=true']]\n",
      "CP05MOAS-GL336-02-FLORTM000 ['recovered']\n",
      "[['https://ooinet.oceanobservatories.org/api/m2m/12576/sensor/inv/CP05MOAS/GL336/03-CTDGVM000/telemetered/ctdgv_m_glider_instrument?beginDT=2015-01-11T20:57:00.000Z&endDT=2018-04-03T11:50:00.000Z&include_annotations=true&include_provenance=true'], ['https://ooinet.oceanobservatories.org/api/m2m/12576/sensor/inv/CP05MOAS/GL336/04-DOSTAM000/telemetered/dosta_abcdjm_glider_instrument?beginDT=2015-01-11T20:57:00.000Z&endDT=2018-04-03T11:50:00.000Z&include_annotations=true&include_provenance=true'], ['https://ooinet.oceanobservatories.org/api/m2m/12576/sensor/inv/CP05MOAS/GL336/05-PARADM000/telemetered/parad_m_glider_instrument?beginDT=2015-01-11T20:57:00.000Z&endDT=2018-04-03T11:50:00.000Z&include_annotations=true&include_provenance=true'], ['https://ooinet.oceanobservatories.org/api/m2m/12576/sensor/inv/CP05MOAS/GL336/02-FLORTM000/telemetered/flort_m_sample?beginDT=2015-01-11T20:57:00.000Z&endDT=2018-04-03T11:50:00.000Z&include_annotations=true&include_provenance=true'], ['https://ooinet.oceanobservatories.org/api/m2m/12576/sensor/inv/CP05MOAS/GL336/03-CTDGVM000/recovered_host/ctdgv_m_glider_instrument_recovered?beginDT=2015-01-11T20:57:00.000Z&endDT=2018-04-03T11:50:00.000Z&include_annotations=true&include_provenance=true'], ['https://ooinet.oceanobservatories.org/api/m2m/12576/sensor/inv/CP05MOAS/GL336/04-DOSTAM000/recovered_host/dosta_abcdjm_glider_recovered?beginDT=2015-01-11T20:57:00.000Z&endDT=2018-04-03T11:50:00.000Z&include_annotations=true&include_provenance=true'], ['https://ooinet.oceanobservatories.org/api/m2m/12576/sensor/inv/CP05MOAS/GL336/05-PARADM000/recovered_host/parad_m_glider_recovered?beginDT=2015-01-11T20:57:00.000Z&endDT=2018-04-03T11:50:00.000Z&include_annotations=true&include_provenance=true'], ['https://ooinet.oceanobservatories.org/api/m2m/12576/sensor/inv/CP05MOAS/GL336/02-FLORTM000/recovered_host/flort_m_sample?beginDT=2015-01-11T20:57:00.000Z&endDT=2018-04-03T11:50:00.000Z&include_annotations=true&include_provenance=true']]\n"
     ]
    }
   ],
   "source": [
    "now = dt.datetime.now().strftime('%Y%m%dT%H%M')\n",
    "url_list = []\n",
    "for i, j in df.iterrows():\n",
    "    refdes = j['reference_designator']\n",
    "    array = refdes[0:2]\n",
    "    array = data_request_tools.check_str(array)\n",
    "    array = data_request_tools.format_inputs(array)\n",
    "    subsite = refdes.split('-')[0]\n",
    "    subsite = data_request_tools.check_str(subsite)\n",
    "    subsite = data_request_tools.format_inputs(subsite)\n",
    "    node = refdes.split('-')[1]\n",
    "    node = data_request_tools.check_str(node)\n",
    "    node = data_request_tools.format_inputs(node)\n",
    "    inst = '-'.join((refdes.split('-')[2], refdes.split('-')[3]))\n",
    "    inst = data_request_tools.check_str(inst)\n",
    "    inst = data_request_tools.format_inputs(inst)\n",
    "    delivery_methods = j['delivery_method']\n",
    "    delivery_methods = data_request_tools.check_str(delivery_methods)\n",
    "    delivery_methods = data_request_tools.format_inputs(delivery_methods)\n",
    "    print(refdes, delivery_methods)\n",
    "    urls = data_request_urls_ooi1_0.main(sDir, array, subsite, node, inst, delivery_methods, now)\n",
    "    url_list.append(urls)\n",
    "    print(url_list)"
   ]
  },
  {
   "cell_type": "markdown",
   "metadata": {},
   "source": [
    "### Send url requests:\n",
    "\n",
    "The *send_data_requests_nc* main function will send the data request urls that were built in the previous step using the provided credentials as authentication. The function will inform the user how many data requests there are and will ask the user to confirm that the requests should be sent."
   ]
  },
  {
   "cell_type": "code",
   "execution_count": 5,
   "metadata": {},
   "outputs": [
    {
     "name": "stdout",
     "output_type": "stream",
     "text": [
      "\n",
      "There are 8 requests to send, are you sure you want to continue? y/<n>: y\n",
      "\n",
      "Request url 1 of 8: https://ooinet.oceanobservatories.org/api/m2m/12576/sensor/inv/CP05MOAS/GL336/03-CTDGVM000/telemetered/ctdgv_m_glider_instrument?beginDT=2015-01-11T20:57:00.000Z&endDT=2018-04-03T11:50:00.000Z&include_annotations=true&include_provenance=true\n",
      "Data request sent\n",
      "Data available for request\n",
      "\n",
      "Request url 2 of 8: https://ooinet.oceanobservatories.org/api/m2m/12576/sensor/inv/CP05MOAS/GL336/04-DOSTAM000/telemetered/dosta_abcdjm_glider_instrument?beginDT=2015-01-11T20:57:00.000Z&endDT=2018-04-03T11:50:00.000Z&include_annotations=true&include_provenance=true\n",
      "Data request sent\n",
      "Data available for request\n",
      "\n",
      "Request url 3 of 8: https://ooinet.oceanobservatories.org/api/m2m/12576/sensor/inv/CP05MOAS/GL336/05-PARADM000/telemetered/parad_m_glider_instrument?beginDT=2015-01-11T20:57:00.000Z&endDT=2018-04-03T11:50:00.000Z&include_annotations=true&include_provenance=true\n",
      "Data request sent\n",
      "Data available for request\n",
      "\n",
      "Request url 4 of 8: https://ooinet.oceanobservatories.org/api/m2m/12576/sensor/inv/CP05MOAS/GL336/02-FLORTM000/telemetered/flort_m_sample?beginDT=2015-01-11T20:57:00.000Z&endDT=2018-04-03T11:50:00.000Z&include_annotations=true&include_provenance=true\n",
      "Data request sent\n",
      "Data available for request\n",
      "\n",
      "Request url 5 of 8: https://ooinet.oceanobservatories.org/api/m2m/12576/sensor/inv/CP05MOAS/GL336/03-CTDGVM000/recovered_host/ctdgv_m_glider_instrument_recovered?beginDT=2015-01-11T20:57:00.000Z&endDT=2018-04-03T11:50:00.000Z&include_annotations=true&include_provenance=true\n",
      "Data request sent\n",
      "Data available for request\n",
      "\n",
      "Request url 6 of 8: https://ooinet.oceanobservatories.org/api/m2m/12576/sensor/inv/CP05MOAS/GL336/04-DOSTAM000/recovered_host/dosta_abcdjm_glider_recovered?beginDT=2015-01-11T20:57:00.000Z&endDT=2018-04-03T11:50:00.000Z&include_annotations=true&include_provenance=true\n",
      "Data request sent\n",
      "Data available for request\n",
      "\n",
      "Request url 7 of 8: https://ooinet.oceanobservatories.org/api/m2m/12576/sensor/inv/CP05MOAS/GL336/05-PARADM000/recovered_host/parad_m_glider_recovered?beginDT=2015-01-11T20:57:00.000Z&endDT=2018-04-03T11:50:00.000Z&include_annotations=true&include_provenance=true\n",
      "Data request sent\n",
      "Data available for request\n",
      "\n",
      "Request url 8 of 8: https://ooinet.oceanobservatories.org/api/m2m/12576/sensor/inv/CP05MOAS/GL336/02-FLORTM000/recovered_host/flort_m_sample?beginDT=2015-01-11T20:57:00.000Z&endDT=2018-04-03T11:50:00.000Z&include_annotations=true&include_provenance=true\n",
      "Data request sent\n",
      "Data available for request\n",
      "\n",
      "Time elapsed sending data requests: 3.37 seconds\n"
     ]
    }
   ],
   "source": [
    "f_url_list = list(itertools.chain(*url_list))\n",
    "\n",
    "thredds_output_urls = send_data_requests_nc.main(sDir, f_url_list, username, token, now)"
   ]
  },
  {
   "cell_type": "markdown",
   "metadata": {},
   "source": [
    "### Seeing if the requests have fulfilled:\n",
    "\n",
    "This function checks the THREDDs location where the files are saved to determine if the request has fulfilled."
   ]
  },
  {
   "cell_type": "code",
   "execution_count": 6,
   "metadata": {},
   "outputs": [
    {
     "name": "stdout",
     "output_type": "stream",
     "text": [
      "\n",
      "Dataset 1 of 8: https://opendap.oceanobservatories.org/thredds/catalog/ooi/lgarzio@marine.rutgers.edu/20190520T140340-CP05MOAS-GL336-03-CTDGVM000-telemetered-ctdgv_m_glider_instrument/catalog.html\n",
      "Data request is still fulfilling. Trying again in 1 minute.\n",
      "Data request has fulfilled.\n",
      "\n",
      "Dataset 2 of 8: https://opendap.oceanobservatories.org/thredds/catalog/ooi/lgarzio@marine.rutgers.edu/20190520T140340-CP05MOAS-GL336-04-DOSTAM000-telemetered-dosta_abcdjm_glider_instrument/catalog.html\n",
      "Data request has fulfilled.\n",
      "\n",
      "Dataset 3 of 8: https://opendap.oceanobservatories.org/thredds/catalog/ooi/lgarzio@marine.rutgers.edu/20190520T140340-CP05MOAS-GL336-05-PARADM000-telemetered-parad_m_glider_instrument/catalog.html\n",
      "Data request has fulfilled.\n",
      "\n",
      "Dataset 4 of 8: https://opendap.oceanobservatories.org/thredds/catalog/ooi/lgarzio@marine.rutgers.edu/20190520T140340-CP05MOAS-GL336-02-FLORTM000-telemetered-flort_m_sample/catalog.html\n",
      "Data request is still fulfilling. Trying again in 1 minute.\n",
      "Data request has fulfilled.\n",
      "\n",
      "Dataset 5 of 8: https://opendap.oceanobservatories.org/thredds/catalog/ooi/lgarzio@marine.rutgers.edu/20190520T140341-CP05MOAS-GL336-03-CTDGVM000-recovered_host-ctdgv_m_glider_instrument_recovered/catalog.html\n",
      "Data request is still fulfilling. Trying again in 1 minute.\n",
      "Data request is still fulfilling. Trying again in 1 minute.\n",
      "Data request has fulfilled.\n",
      "\n",
      "Dataset 6 of 8: https://opendap.oceanobservatories.org/thredds/catalog/ooi/lgarzio@marine.rutgers.edu/20190520T140341-CP05MOAS-GL336-04-DOSTAM000-recovered_host-dosta_abcdjm_glider_recovered/catalog.html\n",
      "Data request is still fulfilling. Trying again in 1 minute.\n",
      "Data request is still fulfilling. Trying again in 1 minute.\n",
      "Data request is still fulfilling. Trying again in 1 minute.\n",
      "Data request has fulfilled.\n",
      "\n",
      "Dataset 7 of 8: https://opendap.oceanobservatories.org/thredds/catalog/ooi/lgarzio@marine.rutgers.edu/20190520T140341-CP05MOAS-GL336-05-PARADM000-recovered_host-parad_m_glider_recovered/catalog.html\n",
      "Data request is still fulfilling. Trying again in 1 minute.\n",
      "Data request is still fulfilling. Trying again in 1 minute.\n",
      "Data request is still fulfilling. Trying again in 1 minute.\n",
      "Data request has fulfilled.\n",
      "\n",
      "Dataset 8 of 8: https://opendap.oceanobservatories.org/thredds/catalog/ooi/lgarzio@marine.rutgers.edu/20190520T140343-CP05MOAS-GL336-02-FLORTM000-recovered_host-flort_m_sample/catalog.html\n",
      "Data request is still fulfilling. Trying again in 1 minute.\n",
      "Data request is still fulfilling. Trying again in 1 minute.\n",
      "Data request has fulfilled.\n"
     ]
    }
   ],
   "source": [
    "for i in range(len(thredds_output_urls)):\n",
    "    url = thredds_output_urls[i]\n",
    "    print('\\nDataset {} of {}: {}'.format((i + 1), len(thredds_output_urls), url))\n",
    "    if 'no_output_url' not in url:\n",
    "        cf.check_request_status(url)"
   ]
  },
  {
   "cell_type": "markdown",
   "metadata": {},
   "source": [
    "If you are interested in more ways to download data, including more interactive scripts, check out our data-download repo here: https://github.com/ooi-data-lab/data-download"
   ]
  }
 ],
 "metadata": {
  "kernelspec": {
   "display_name": "Python 3",
   "language": "python",
   "name": "python3"
  },
  "language_info": {
   "codemirror_mode": {
    "name": "ipython",
    "version": 3
   },
   "file_extension": ".py",
   "mimetype": "text/x-python",
   "name": "python",
   "nbconvert_exporter": "python",
   "pygments_lexer": "ipython3",
   "version": "3.7.2"
  }
 },
 "nbformat": 4,
 "nbformat_minor": 2
}
