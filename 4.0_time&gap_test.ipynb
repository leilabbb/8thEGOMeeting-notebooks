{
 "cells": [
  {
   "cell_type": "markdown",
   "metadata": {
    "slideshow": {
     "slide_type": "slide"
    }
   },
   "source": [
    "<p style=\"font-size:1.4em;;\"> Data Coverage &  Time Order & Gap Identification   Tests.</p>"
   ]
  },
  {
   "cell_type": "code",
   "execution_count": 1,
   "metadata": {
    "slideshow": {
     "slide_type": "skip"
    }
   },
   "outputs": [],
   "source": [
    "# functions needed to run the notebook\n",
    "import pandas as pd\n",
    "import functions.common as cf\n",
    "import functions.plotting as pf\n",
    "import xarray as xr\n",
    "from datetime import timedelta\n",
    "import numpy as np\n",
    "import datetime as dt\n",
    "import netCDF4 as nc\n",
    "from termcolor import colored"
   ]
  },
  {
   "cell_type": "markdown",
   "metadata": {
    "slideshow": {
     "slide_type": "slide"
    }
   },
   "source": [
    "**1**\n",
    "- **Get Datasets Review List**  \n",
    "- method: get the list of data files for review for a local file created by the 2.0_data_review_list.ipynb"
   ]
  },
  {
   "cell_type": "code",
   "execution_count": 3,
   "metadata": {
    "slideshow": {
     "slide_type": "-"
    }
   },
   "outputs": [
    {
     "data": {
      "text/html": [
       "<div>\n",
       "<style scoped>\n",
       "    .dataframe tbody tr th:only-of-type {\n",
       "        vertical-align: middle;\n",
       "    }\n",
       "\n",
       "    .dataframe tbody tr th {\n",
       "        vertical-align: top;\n",
       "    }\n",
       "\n",
       "    .dataframe thead th {\n",
       "        text-align: right;\n",
       "    }\n",
       "</style>\n",
       "<table border=\"1\" class=\"dataframe\">\n",
       "  <thead>\n",
       "    <tr style=\"text-align: right;\">\n",
       "      <th></th>\n",
       "      <th>datasets</th>\n",
       "    </tr>\n",
       "  </thead>\n",
       "  <tbody>\n",
       "    <tr>\n",
       "      <th>deployment0001</th>\n",
       "      <td>https://opendap.oceanobservatories.org/thredds/dodsC/ooi/lgarzio@marine.rutgers.edu/20190509T131304-CP05MOAS-GL335-05-PARADM000-recovered_host-parad_m_glider_recovered/deployment0001_CP05MOAS-GL335-05-PARADM000-recovered_host-parad_m_glider_recovered_20141006T202152.905850-20141213T073238.247380.nc</td>\n",
       "    </tr>\n",
       "    <tr>\n",
       "      <th>deployment0002</th>\n",
       "      <td>https://opendap.oceanobservatories.org/thredds/dodsC/ooi/lgarzio@marine.rutgers.edu/20190509T131304-CP05MOAS-GL335-05-PARADM000-recovered_host-parad_m_glider_recovered/deployment0002_CP05MOAS-GL335-05-PARADM000-recovered_host-parad_m_glider_recovered_20151014T001900.237980-20151110T091855.472810.nc</td>\n",
       "    </tr>\n",
       "    <tr>\n",
       "      <th>deployment0003</th>\n",
       "      <td>https://opendap.oceanobservatories.org/thredds/dodsC/ooi/lgarzio@marine.rutgers.edu/20190509T131304-CP05MOAS-GL335-05-PARADM000-recovered_host-parad_m_glider_recovered/deployment0003_CP05MOAS-GL335-05-PARADM000-recovered_host-parad_m_glider_recovered_20160404T185705.311220-20160417T235956.145260.nc</td>\n",
       "    </tr>\n",
       "    <tr>\n",
       "      <th>deployment0004</th>\n",
       "      <td>https://opendap.oceanobservatories.org/thredds/dodsC/ooi/lgarzio@marine.rutgers.edu/20190509T131304-CP05MOAS-GL335-05-PARADM000-recovered_host-parad_m_glider_recovered/deployment0004_CP05MOAS-GL335-05-PARADM000-recovered_host-parad_m_glider_recovered_20160529T204727.075500-20160626T091401.747920.nc</td>\n",
       "    </tr>\n",
       "    <tr>\n",
       "      <th>deployment0005</th>\n",
       "      <td>https://opendap.oceanobservatories.org/thredds/dodsC/ooi/lgarzio@marine.rutgers.edu/20190509T131304-CP05MOAS-GL335-05-PARADM000-recovered_host-parad_m_glider_recovered/deployment0005_CP05MOAS-GL335-05-PARADM000-recovered_host-parad_m_glider_recovered_20170116T150223.595370-20170304T093047.153350.nc</td>\n",
       "    </tr>\n",
       "  </tbody>\n",
       "</table>\n",
       "</div>"
      ],
      "text/plain": [
       "                                                                                                                                                                                                                                                                                                                   datasets\n",
       "deployment0001  https://opendap.oceanobservatories.org/thredds/dodsC/ooi/lgarzio@marine.rutgers.edu/20190509T131304-CP05MOAS-GL335-05-PARADM000-recovered_host-parad_m_glider_recovered/deployment0001_CP05MOAS-GL335-05-PARADM000-recovered_host-parad_m_glider_recovered_20141006T202152.905850-20141213T073238.247380.nc\n",
       "deployment0002  https://opendap.oceanobservatories.org/thredds/dodsC/ooi/lgarzio@marine.rutgers.edu/20190509T131304-CP05MOAS-GL335-05-PARADM000-recovered_host-parad_m_glider_recovered/deployment0002_CP05MOAS-GL335-05-PARADM000-recovered_host-parad_m_glider_recovered_20151014T001900.237980-20151110T091855.472810.nc\n",
       "deployment0003  https://opendap.oceanobservatories.org/thredds/dodsC/ooi/lgarzio@marine.rutgers.edu/20190509T131304-CP05MOAS-GL335-05-PARADM000-recovered_host-parad_m_glider_recovered/deployment0003_CP05MOAS-GL335-05-PARADM000-recovered_host-parad_m_glider_recovered_20160404T185705.311220-20160417T235956.145260.nc\n",
       "deployment0004  https://opendap.oceanobservatories.org/thredds/dodsC/ooi/lgarzio@marine.rutgers.edu/20190509T131304-CP05MOAS-GL335-05-PARADM000-recovered_host-parad_m_glider_recovered/deployment0004_CP05MOAS-GL335-05-PARADM000-recovered_host-parad_m_glider_recovered_20160529T204727.075500-20160626T091401.747920.nc\n",
       "deployment0005  https://opendap.oceanobservatories.org/thredds/dodsC/ooi/lgarzio@marine.rutgers.edu/20190509T131304-CP05MOAS-GL335-05-PARADM000-recovered_host-parad_m_glider_recovered/deployment0005_CP05MOAS-GL335-05-PARADM000-recovered_host-parad_m_glider_recovered_20170116T150223.595370-20170304T093047.153350.nc"
      ]
     },
     "execution_count": 3,
     "metadata": {},
     "output_type": "execute_result"
    }
   ],
   "source": [
    "reviewlist = pd.read_csv('data_review_list_CP05MOAS-GL335-05-PARADM000.csv')\n",
    "reviewlist.index = reviewlist['Unnamed: 0'].values\n",
    "pd.set_option('display.max_colwidth', -1)\n",
    "pd.DataFrame(reviewlist)[['datasets']]"
   ]
  },
  {
   "cell_type": "markdown",
   "metadata": {
    "slideshow": {
     "slide_type": "-"
    }
   },
   "source": [
    "**2**\n",
    "- **Get Deployment Information**\n",
    "- method: uses *refdes_datareview_json* function in the commom.py file under the local **/functions** directory "
   ]
  },
  {
   "cell_type": "code",
   "execution_count": 4,
   "metadata": {
    "slideshow": {
     "slide_type": "-"
    }
   },
   "outputs": [
    {
     "data": {
      "text/html": [
       "<div>\n",
       "<style scoped>\n",
       "    .dataframe tbody tr th:only-of-type {\n",
       "        vertical-align: middle;\n",
       "    }\n",
       "\n",
       "    .dataframe tbody tr th {\n",
       "        vertical-align: top;\n",
       "    }\n",
       "\n",
       "    .dataframe thead th {\n",
       "        text-align: right;\n",
       "    }\n",
       "</style>\n",
       "<table border=\"1\" class=\"dataframe\">\n",
       "  <thead>\n",
       "    <tr style=\"text-align: right;\">\n",
       "      <th></th>\n",
       "      <th>start_date</th>\n",
       "      <th>stop_date</th>\n",
       "    </tr>\n",
       "  </thead>\n",
       "  <tbody>\n",
       "    <tr>\n",
       "      <th>1</th>\n",
       "      <td>2014-10-06T20:16:00+00:00</td>\n",
       "      <td>2014-12-15T00:00:00+00:00</td>\n",
       "    </tr>\n",
       "    <tr>\n",
       "      <th>2</th>\n",
       "      <td>2015-10-13T01:12:14+00:00</td>\n",
       "      <td>2015-11-16T00:00:00+00:00</td>\n",
       "    </tr>\n",
       "    <tr>\n",
       "      <th>3</th>\n",
       "      <td>2016-04-04T18:57:02+00:00</td>\n",
       "      <td>2016-04-18T00:00:00+00:00</td>\n",
       "    </tr>\n",
       "    <tr>\n",
       "      <th>4</th>\n",
       "      <td>2016-05-27T20:33:00+00:00</td>\n",
       "      <td>2016-06-27T00:00:00+00:00</td>\n",
       "    </tr>\n",
       "    <tr>\n",
       "      <th>5</th>\n",
       "      <td>2017-01-16T14:59:00+00:00</td>\n",
       "      <td>2017-03-06T22:45:00+00:00</td>\n",
       "    </tr>\n",
       "  </tbody>\n",
       "</table>\n",
       "</div>"
      ],
      "text/plain": [
       "                  start_date                  stop_date\n",
       "1  2014-10-06T20:16:00+00:00  2014-12-15T00:00:00+00:00\n",
       "2  2015-10-13T01:12:14+00:00  2015-11-16T00:00:00+00:00\n",
       "3  2016-04-04T18:57:02+00:00  2016-04-18T00:00:00+00:00\n",
       "4  2016-05-27T20:33:00+00:00  2016-06-27T00:00:00+00:00\n",
       "5  2017-01-16T14:59:00+00:00  2017-03-06T22:45:00+00:00"
      ]
     },
     "execution_count": 4,
     "metadata": {},
     "output_type": "execute_result"
    }
   ],
   "source": [
    "col = list(reviewlist.columns)\n",
    "refdes = reviewlist[col[1]][0].split('/')[-1].split('_')[1][0:27]\n",
    "dr_data = cf.refdes_datareview_json(refdes)\n",
    "\n",
    "tf = pd.DataFrame(dr_data['instrument']['deployments'])[['deployment_number','start_date','stop_date']]\n",
    "tf.index = tf['deployment_number'].values\n",
    "pd.set_option('display.max_colwidth', -1)\n",
    "tf[['start_date','stop_date']]"
   ]
  },
  {
   "cell_type": "code",
   "execution_count": null,
   "metadata": {},
   "outputs": [],
   "source": []
  },
  {
   "cell_type": "markdown",
   "metadata": {},
   "source": [
    "**3**\n",
    "- **Get Annotations**\n",
    "- method: uses the output of the previous function *refdes_datareview_json*"
   ]
  },
  {
   "cell_type": "code",
   "execution_count": 9,
   "metadata": {},
   "outputs": [
    {
     "data": {
      "text/html": [
       "<div>\n",
       "<style scoped>\n",
       "    .dataframe tbody tr th:only-of-type {\n",
       "        vertical-align: middle;\n",
       "    }\n",
       "\n",
       "    .dataframe tbody tr th {\n",
       "        vertical-align: top;\n",
       "    }\n",
       "\n",
       "    .dataframe thead th {\n",
       "        text-align: right;\n",
       "    }\n",
       "</style>\n",
       "<table border=\"1\" class=\"dataframe\">\n",
       "  <thead>\n",
       "    <tr style=\"text-align: right;\">\n",
       "      <th></th>\n",
       "      <th>annotation</th>\n",
       "      <th>end_datetime</th>\n",
       "      <th>start_datetime</th>\n",
       "    </tr>\n",
       "  </thead>\n",
       "  <tbody>\n",
       "    <tr>\n",
       "      <th>CP05MOAS-GL335</th>\n",
       "      <td>No data expected because of a leak identified in the bellophraham.</td>\n",
       "      <td>2015-11-15T19:00:00+00:00</td>\n",
       "      <td>2015-11-10T04:00:00+00:00</td>\n",
       "    </tr>\n",
       "    <tr>\n",
       "      <th>CP05MOAS-GL335</th>\n",
       "      <td>No data expected because of a leak caused by a ship strike.</td>\n",
       "      <td>2017-03-03T23:00:00+00:00</td>\n",
       "      <td>2017-03-03T22:00:00+00:00</td>\n",
       "    </tr>\n",
       "  </tbody>\n",
       "</table>\n",
       "</div>"
      ],
      "text/plain": [
       "                                                                        annotation  \\\n",
       "CP05MOAS-GL335  No data expected because of a leak identified in the bellophraham.   \n",
       "CP05MOAS-GL335  No data expected because of a leak caused by a ship strike.          \n",
       "\n",
       "                             end_datetime             start_datetime  \n",
       "CP05MOAS-GL335  2015-11-15T19:00:00+00:00  2015-11-10T04:00:00+00:00  \n",
       "CP05MOAS-GL335  2017-03-03T23:00:00+00:00  2017-03-03T22:00:00+00:00  "
      ]
     },
     "execution_count": 9,
     "metadata": {},
     "output_type": "execute_result"
    }
   ],
   "source": [
    "tf = pd.DataFrame(dr_data['instrument']['annotations'])[['reference_designator','annotation','end_datetime','start_datetime']]\n",
    "tf.index = tf['reference_designator'].values\n",
    "pd.set_option('display.max_colwidth', -1)\n",
    "tf[['annotation','end_datetime','start_datetime']]"
   ]
  },
  {
   "cell_type": "code",
   "execution_count": null,
   "metadata": {},
   "outputs": [],
   "source": []
  },
  {
   "cell_type": "markdown",
   "metadata": {
    "slideshow": {
     "slide_type": "-"
    }
   },
   "source": [
    "**4**\n",
    "- **Time Order in Data Files**\n",
    "- <p style=\"color:red;\">Pass/Fail: </p> Test if timestamps in the file are unique and in ascending order.\n"
   ]
  },
  {
   "cell_type": "code",
   "execution_count": 10,
   "metadata": {
    "slideshow": {
     "slide_type": "skip"
    }
   },
   "outputs": [
    {
     "data": {
      "text/html": [
       "<div>\n",
       "<style scoped>\n",
       "    .dataframe tbody tr th:only-of-type {\n",
       "        vertical-align: middle;\n",
       "    }\n",
       "\n",
       "    .dataframe tbody tr th {\n",
       "        vertical-align: top;\n",
       "    }\n",
       "\n",
       "    .dataframe thead th {\n",
       "        text-align: right;\n",
       "    }\n",
       "</style>\n",
       "<table border=\"1\" class=\"dataframe\">\n",
       "  <thead>\n",
       "    <tr style=\"text-align: right;\">\n",
       "      <th></th>\n",
       "      <th>Delivery Method</th>\n",
       "      <th>Data Stream</th>\n",
       "      <th>Unique Test</th>\n",
       "      <th>Ascending Test</th>\n",
       "    </tr>\n",
       "  </thead>\n",
       "  <tbody>\n",
       "    <tr>\n",
       "      <th>1</th>\n",
       "      <td>recovered_host</td>\n",
       "      <td>parad_m_glider_recovered</td>\n",
       "      <td>pass</td>\n",
       "      <td>pass</td>\n",
       "    </tr>\n",
       "    <tr>\n",
       "      <th>2</th>\n",
       "      <td>recovered_host</td>\n",
       "      <td>parad_m_glider_recovered</td>\n",
       "      <td>pass</td>\n",
       "      <td>pass</td>\n",
       "    </tr>\n",
       "    <tr>\n",
       "      <th>3</th>\n",
       "      <td>recovered_host</td>\n",
       "      <td>parad_m_glider_recovered</td>\n",
       "      <td>pass</td>\n",
       "      <td>pass</td>\n",
       "    </tr>\n",
       "    <tr>\n",
       "      <th>4</th>\n",
       "      <td>recovered_host</td>\n",
       "      <td>parad_m_glider_recovered</td>\n",
       "      <td>pass</td>\n",
       "      <td>pass</td>\n",
       "    </tr>\n",
       "    <tr>\n",
       "      <th>5</th>\n",
       "      <td>recovered_host</td>\n",
       "      <td>parad_m_glider_recovered</td>\n",
       "      <td>pass</td>\n",
       "      <td>pass</td>\n",
       "    </tr>\n",
       "  </tbody>\n",
       "</table>\n",
       "</div>"
      ],
      "text/plain": [
       "  Delivery Method               Data Stream Unique Test Ascending Test\n",
       "1  recovered_host  parad_m_glider_recovered  pass        pass         \n",
       "2  recovered_host  parad_m_glider_recovered  pass        pass         \n",
       "3  recovered_host  parad_m_glider_recovered  pass        pass         \n",
       "4  recovered_host  parad_m_glider_recovered  pass        pass         \n",
       "5  recovered_host  parad_m_glider_recovered  pass        pass         "
      ]
     },
     "execution_count": 10,
     "metadata": {},
     "output_type": "execute_result"
    }
   ],
   "source": [
    "df = pd.DataFrame()\n",
    "for ii in range(len(reviewlist)):\n",
    "    deploy_num = int(reviewlist[col[0]][ii].split('t')[-1])\n",
    "    method = reviewlist[col[2]][ii]\n",
    "    stream = reviewlist[col[1]][ii].split('/')[-2].split('-')[-1]\n",
    "    # Get time array\n",
    "    ds = xr.open_dataset(reviewlist[col[1]][ii], mask_and_scale=False)\n",
    "    ds = ds.swap_dims({'obs': 'time'})\n",
    "    time = ds['time']\n",
    "    \n",
    "    # Check that the timestamps in the file are unique\n",
    "    len_time = time.__len__()\n",
    "    len_time_unique = np.unique(time).__len__()\n",
    "    if len_time == len_time_unique:\n",
    "        time_unique = 'pass'\n",
    "    else:\n",
    "        time_unique = 'fail'\n",
    "        \n",
    "    # Check that the timestamps in the file are in ascending order\n",
    "    time_in = [dt.datetime.utcfromtimestamp(np.datetime64(x).astype('O')/1e9) for x in time.values]\n",
    "    time_data = nc.date2num(time_in, 'seconds since 1900-01-01')\n",
    "\n",
    "    # Create True/False list for every timestamps\n",
    "    result = [(time_data[k + 1] - time_data[k]) > 0 for k in range(len(time_data) - 1)]\n",
    "\n",
    "    # List indices when time is not increasing\n",
    "    if result.count(True) == len(time) - 1:\n",
    "        time_ascending = 'pass'\n",
    "    else:\n",
    "        ind_fail = {k: time_in[k] for k, v in enumerate(result) if v is False}\n",
    "        time_ascending = 'fail: {}'.format(ind_fail)\n",
    "        \n",
    "    df0 = pd.DataFrame({'Delivery Method': [method],\n",
    "                        'Data Stream': [stream],\n",
    "                        'Unique Test': [time_unique],\n",
    "                        'Ascending Test': [time_ascending]                                      \n",
    "                        }, index=[deploy_num])\n",
    "\n",
    "    df = df.append(df0)\n",
    "\n",
    "pd.set_option('display.max_colwidth', -1)\n",
    "(df)"
   ]
  },
  {
   "cell_type": "raw",
   "metadata": {},
   "source": []
  },
  {
   "cell_type": "markdown",
   "metadata": {
    "slideshow": {
     "slide_type": "slide"
    }
   },
   "source": [
    "**5**\n",
    "- **Files Data Coverage:**\n",
    "<p style=\"color:blue;\">$$\\frac{File Days}{Deployment Days} \\% $$ </p> \n",
    "\n",
    "\n",
    "<p style=\"color:green;\">Deployment Days</p>Number of days the instrument was deployed.\n",
    "<p style=\"color:green;\">File Days</p>Number of days for which there is at least 1 timestamp available for the instrument.\n",
    "<p style=\"color:green;\">Start Gap</p>Number of missing days at the start of a deployment: comparison of the deployment start date to the data start date.\n",
    "<p style=\"color:green;\">End Gap</p>Number of missing days at the end of a deployment: comparison of the deployment end date to the data end date.\n",
    "<p style=\"color:green;\">Timestamps</p>Number of timestamps in a data file.\n",
    "<p style=\"color:green;\">Sampling Rate</p>\n",
    "Sampling rates are calculated from the differences in timestamps. The most common sampling rate is that which occurs >50%."
   ]
  },
  {
   "cell_type": "code",
   "execution_count": 6,
   "metadata": {
    "slideshow": {
     "slide_type": "skip"
    }
   },
   "outputs": [
    {
     "data": {
      "text/html": [
       "<div>\n",
       "<style scoped>\n",
       "    .dataframe tbody tr th:only-of-type {\n",
       "        vertical-align: middle;\n",
       "    }\n",
       "\n",
       "    .dataframe tbody tr th {\n",
       "        vertical-align: top;\n",
       "    }\n",
       "\n",
       "    .dataframe thead th {\n",
       "        text-align: right;\n",
       "    }\n",
       "</style>\n",
       "<table border=\"1\" class=\"dataframe\">\n",
       "  <thead>\n",
       "    <tr style=\"text-align: right;\">\n",
       "      <th></th>\n",
       "      <th>Delivery Method</th>\n",
       "      <th>Data Stream</th>\n",
       "      <th>Deployment Days</th>\n",
       "      <th>File Days</th>\n",
       "      <th>Timestamps</th>\n",
       "      <th>sampling Rate (s)</th>\n",
       "      <th>Start Gap</th>\n",
       "      <th>End Gap</th>\n",
       "      <th>Data Coverage (%)</th>\n",
       "    </tr>\n",
       "  </thead>\n",
       "  <tbody>\n",
       "    <tr>\n",
       "      <th>1</th>\n",
       "      <td>recovered_host</td>\n",
       "      <td>parad_m_glider_recovered</td>\n",
       "      <td>71</td>\n",
       "      <td>69</td>\n",
       "      <td>3730926</td>\n",
       "      <td>1</td>\n",
       "      <td>0</td>\n",
       "      <td>2</td>\n",
       "      <td>97</td>\n",
       "    </tr>\n",
       "    <tr>\n",
       "      <th>2</th>\n",
       "      <td>recovered_host</td>\n",
       "      <td>parad_m_glider_recovered</td>\n",
       "      <td>35</td>\n",
       "      <td>28</td>\n",
       "      <td>1116293</td>\n",
       "      <td>1</td>\n",
       "      <td>1</td>\n",
       "      <td>6</td>\n",
       "      <td>80</td>\n",
       "    </tr>\n",
       "    <tr>\n",
       "      <th>3</th>\n",
       "      <td>recovered_host</td>\n",
       "      <td>parad_m_glider_recovered</td>\n",
       "      <td>15</td>\n",
       "      <td>14</td>\n",
       "      <td>483042</td>\n",
       "      <td>1</td>\n",
       "      <td>0</td>\n",
       "      <td>1</td>\n",
       "      <td>93</td>\n",
       "    </tr>\n",
       "    <tr>\n",
       "      <th>4</th>\n",
       "      <td>recovered_host</td>\n",
       "      <td>parad_m_glider_recovered</td>\n",
       "      <td>32</td>\n",
       "      <td>29</td>\n",
       "      <td>1536288</td>\n",
       "      <td>1</td>\n",
       "      <td>2</td>\n",
       "      <td>1</td>\n",
       "      <td>91</td>\n",
       "    </tr>\n",
       "    <tr>\n",
       "      <th>5</th>\n",
       "      <td>recovered_host</td>\n",
       "      <td>parad_m_glider_recovered</td>\n",
       "      <td>50</td>\n",
       "      <td>48</td>\n",
       "      <td>3352550</td>\n",
       "      <td>1</td>\n",
       "      <td>0</td>\n",
       "      <td>2</td>\n",
       "      <td>96</td>\n",
       "    </tr>\n",
       "  </tbody>\n",
       "</table>\n",
       "</div>"
      ],
      "text/plain": [
       "  Delivery Method               Data Stream  Deployment Days  File Days  \\\n",
       "1  recovered_host  parad_m_glider_recovered  71               69          \n",
       "2  recovered_host  parad_m_glider_recovered  35               28          \n",
       "3  recovered_host  parad_m_glider_recovered  15               14          \n",
       "4  recovered_host  parad_m_glider_recovered  32               29          \n",
       "5  recovered_host  parad_m_glider_recovered  50               48          \n",
       "\n",
       "   Timestamps  sampling Rate (s)  Start Gap  End Gap  Data Coverage (%)  \n",
       "1  3730926     1                  0          2        97                 \n",
       "2  1116293     1                  1          6        80                 \n",
       "3  483042      1                  0          1        93                 \n",
       "4  1536288     1                  2          1        91                 \n",
       "5  3352550     1                  0          2        96                 "
      ]
     },
     "execution_count": 6,
     "metadata": {},
     "output_type": "execute_result"
    }
   ],
   "source": [
    "df = pd.DataFrame()\n",
    "for ii in range(len(reviewlist)):         \n",
    "    deploy_num = int(reviewlist[col[0]][ii].split('t')[-1])\n",
    "    method = reviewlist[col[2]][ii]\n",
    "    stream = reviewlist[col[1]][ii].split('/')[-2].split('-')[-1]\n",
    "    deploy_info = cf.get_deployment_information(dr_data, deploy_num)\n",
    "    deploy_depth = deploy_info['deployment_depth']\n",
    "    \n",
    "    # Calculate days deployed\n",
    "    deploy_start = str(deploy_info['start_date'])\n",
    "    deploy_stop = str(deploy_info['stop_date']) \n",
    "#     print('{}{} - {}{}'.format('Data Start Date: ', deploy_start,'Data End Date: ',deploy_stop))\n",
    "    if deploy_stop != 'None':\n",
    "        r_deploy_start = pd.to_datetime(deploy_start).replace(hour=0, minute=0, second=0)\n",
    "        if deploy_stop.split('T')[1] == '00:00:00':\n",
    "            r_deploy_stop = pd.to_datetime(deploy_stop)\n",
    "        else:\n",
    "            r_deploy_stop = (pd.to_datetime(deploy_stop) + timedelta(days=1)).replace(hour=0, minute=0, second=0)\n",
    "        n_days_deployed = (r_deploy_stop - r_deploy_start).days\n",
    "    else:\n",
    "        n_days_deployed = None\n",
    "    \n",
    "    # Get time array\n",
    "    ds = xr.open_dataset(reviewlist[col[1]][ii], mask_and_scale=False)\n",
    "    ds = ds.swap_dims({'obs': 'time'})\n",
    "    time = ds['time']\n",
    "    \n",
    "    # Check that the timestamps in the file are unique\n",
    "    len_time = time.__len__()\n",
    "    len_time_unique = np.unique(time).__len__()\n",
    "    \n",
    "    # calculate gaps size at start of deployment    \n",
    "    start_gap = (pd.to_datetime(str(time.values[0])) - r_deploy_start).days\n",
    "   \n",
    "    # calculate gap size at end of deployment\n",
    "    end_gap = (r_deploy_stop - pd.to_datetime(str(time.values[-1]))).days    \n",
    "    \n",
    "    # Count the number of days for which there is at least 1 timestamp    \n",
    "    n_days = len(np.unique(time.values.astype('datetime64[D]')))\n",
    "    time_df = pd.DataFrame(time.values, columns=['time'])\n",
    "    \n",
    "    # Calculate the sampling rate to the nearest second\n",
    "    time_df['diff'] = time_df['time'].diff().astype('timedelta64[s]')\n",
    "    rates_df = time_df.groupby(['diff']).agg(['count'])\n",
    "    n_diff_calc = len(time_df) - 1\n",
    "    rates = dict(n_unique_rates=len(rates_df), common_sampling_rates=dict())\n",
    "    for i, row in rates_df.iterrows():\n",
    "        percent = (float(row['time']['count']) / float(n_diff_calc))\n",
    "        if percent > 0.1:\n",
    "            rates['common_sampling_rates'].update({int(i): '{:.2%}'.format(percent)})\n",
    "    sampling_rt_sec = None\n",
    "    for k, v in rates['common_sampling_rates'].items():\n",
    "        if float(v.strip('%')) > 50.00:\n",
    "            sampling_rt_sec = k\n",
    "\n",
    "    if not sampling_rt_sec:\n",
    "        sampling_rt_sec = 'no consistent sampling rate: {}'.format(rates['common_sampling_rates']) \n",
    "        \n",
    "    df0 = pd.DataFrame({\n",
    "                        'Delivery Method': [method],    \n",
    "                        'Data Stream': [stream],\n",
    "                        'Deployment Days': [n_days_deployed],\n",
    "                        'File Days': [n_days], \n",
    "                        'Timestamps': [len_time],\n",
    "                        'sampling Rate (s)': [sampling_rt_sec],\n",
    "                        'Start Gap': [start_gap],\n",
    "                        'End Gap': [end_gap],\n",
    "                        'Data Coverage (%)': [round((n_days*100)/n_days_deployed)]        \n",
    "                        }, index=[deploy_num])\n",
    "\n",
    "    df = df.append(df0)\n",
    "pd.set_option('display.max_colwidth', -1)\n",
    "(df)"
   ]
  },
  {
   "cell_type": "code",
   "execution_count": null,
   "metadata": {},
   "outputs": [],
   "source": []
  },
  {
   "cell_type": "markdown",
   "metadata": {},
   "source": [
    "**Note**\n",
    "<p style=\"color:red;\">No annotation in the system to explain the gaps at the end and start of deployments.</p>"
   ]
  },
  {
   "cell_type": "code",
   "execution_count": null,
   "metadata": {},
   "outputs": [],
   "source": []
  },
  {
   "cell_type": "markdown",
   "metadata": {},
   "source": [
    "**6**\n",
    "- **Identify Gaps in Data Files:**\n",
    "<p style=\"color:green;\">End Gap</p>\n",
    "Number of missing days at the end of a deployment: comparison of the deployment end date to the data end date.\n",
    "<p style=\"color:green;\">Gaps Count</p>\n",
    "Number of gaps within a data file (exclusive of missing data at the beginning and end of a deployment). Gap is defined as >1 day of missing data.\n",
    "<p style=\"color:green;\">Gap Days</p>\n",
    "Number of days of missing data within a data file (exclusive of missing data at the beginning and end of a deployment)."
   ]
  },
  {
   "cell_type": "code",
   "execution_count": 7,
   "metadata": {
    "slideshow": {
     "slide_type": "skip"
    }
   },
   "outputs": [
    {
     "data": {
      "text/html": [
       "<div>\n",
       "<style scoped>\n",
       "    .dataframe tbody tr th:only-of-type {\n",
       "        vertical-align: middle;\n",
       "    }\n",
       "\n",
       "    .dataframe tbody tr th {\n",
       "        vertical-align: top;\n",
       "    }\n",
       "\n",
       "    .dataframe thead th {\n",
       "        text-align: right;\n",
       "    }\n",
       "</style>\n",
       "<table border=\"1\" class=\"dataframe\">\n",
       "  <thead>\n",
       "    <tr style=\"text-align: right;\">\n",
       "      <th></th>\n",
       "      <th>Delivery Method</th>\n",
       "      <th>Data Stream</th>\n",
       "      <th>Gap List</th>\n",
       "      <th>Gap Days</th>\n",
       "    </tr>\n",
       "  </thead>\n",
       "  <tbody>\n",
       "    <tr>\n",
       "      <th>1</th>\n",
       "      <td>recovered_host</td>\n",
       "      <td>parad_m_glider_recovered</td>\n",
       "      <td>[]</td>\n",
       "      <td>0</td>\n",
       "    </tr>\n",
       "    <tr>\n",
       "      <th>2</th>\n",
       "      <td>recovered_host</td>\n",
       "      <td>parad_m_glider_recovered</td>\n",
       "      <td>[]</td>\n",
       "      <td>0</td>\n",
       "    </tr>\n",
       "    <tr>\n",
       "      <th>3</th>\n",
       "      <td>recovered_host</td>\n",
       "      <td>parad_m_glider_recovered</td>\n",
       "      <td>[]</td>\n",
       "      <td>0</td>\n",
       "    </tr>\n",
       "    <tr>\n",
       "      <th>4</th>\n",
       "      <td>recovered_host</td>\n",
       "      <td>parad_m_glider_recovered</td>\n",
       "      <td>[]</td>\n",
       "      <td>0</td>\n",
       "    </tr>\n",
       "    <tr>\n",
       "      <th>5</th>\n",
       "      <td>recovered_host</td>\n",
       "      <td>parad_m_glider_recovered</td>\n",
       "      <td>[]</td>\n",
       "      <td>0</td>\n",
       "    </tr>\n",
       "  </tbody>\n",
       "</table>\n",
       "</div>"
      ],
      "text/plain": [
       "  Delivery Method               Data Stream Gap List  Gap Days\n",
       "1  recovered_host  parad_m_glider_recovered  []       0       \n",
       "2  recovered_host  parad_m_glider_recovered  []       0       \n",
       "3  recovered_host  parad_m_glider_recovered  []       0       \n",
       "4  recovered_host  parad_m_glider_recovered  []       0       \n",
       "5  recovered_host  parad_m_glider_recovered  []       0       "
      ]
     },
     "execution_count": 7,
     "metadata": {},
     "output_type": "execute_result"
    }
   ],
   "source": [
    "df = pd.DataFrame()\n",
    "for ii in range(len(reviewlist)):\n",
    "    deploy_num = int(reviewlist[col[0]][ii].split('t')[-1])\n",
    "    method = reviewlist[col[2]][ii]\n",
    "    stream = reviewlist[col[1]][ii].split('/')[-2].split('-')[-1]\n",
    "    # Get time array\n",
    "    ds = xr.open_dataset(reviewlist[col[1]][ii], mask_and_scale=False)\n",
    "    ds = ds.swap_dims({'obs': 'time'})\n",
    "    time = ds['time']\n",
    "    \n",
    "    # Get a list of data gaps >1 day    \n",
    "    time_df = pd.DataFrame(time.values, columns=['time'])\n",
    "    gap_list = cf.timestamp_gap_test(time_df)\n",
    "    df0 = pd.DataFrame({\n",
    "                        'Delivery Method': [method], \n",
    "                        'Data Stream': [stream],\n",
    "                        'Gap List': [gap_list],\n",
    "                        'Gap Days': [int(len(gap_list))],\n",
    "                        }, index=[deploy_num])\n",
    "\n",
    "    df = df.append(df0) \n",
    "pd.set_option('display.max_colwidth', -1)\n",
    "(df)"
   ]
  },
  {
   "cell_type": "markdown",
   "metadata": {
    "slideshow": {
     "slide_type": "-"
    }
   },
   "source": [
    "<p style=\"color:green;\">Note</p>\n",
    "\n",
    "No data gaps greater than a day identified"
   ]
  },
  {
   "cell_type": "markdown",
   "metadata": {
    "slideshow": {
     "slide_type": "slide"
    }
   },
   "source": [
    "**Summary of Results**"
   ]
  },
  {
   "cell_type": "code",
   "execution_count": 5,
   "metadata": {
    "slideshow": {
     "slide_type": "skip"
    }
   },
   "outputs": [],
   "source": [
    "df = cf.time_gap_test(reviewlist, col, dr_data)\n",
    "pd.set_option('display.max_colwidth', -1)\n",
    "print(colored('Instrument', 'green'), colored(refdes, 'blue'))\n",
    "(df)"
   ]
  },
  {
   "cell_type": "code",
   "execution_count": 6,
   "metadata": {
    "slideshow": {
     "slide_type": "-"
    }
   },
   "outputs": [
    {
     "name": "stdout",
     "output_type": "stream",
     "text": [
      "\u001b[32mInstrument\u001b[0m \u001b[34mCP05MOAS-GL335-05-PARADM000\u001b[0m\n"
     ]
    },
    {
     "data": {
      "text/html": [
       "<div>\n",
       "<style scoped>\n",
       "    .dataframe tbody tr th:only-of-type {\n",
       "        vertical-align: middle;\n",
       "    }\n",
       "\n",
       "    .dataframe tbody tr th {\n",
       "        vertical-align: top;\n",
       "    }\n",
       "\n",
       "    .dataframe thead th {\n",
       "        text-align: right;\n",
       "    }\n",
       "</style>\n",
       "<table border=\"1\" class=\"dataframe\">\n",
       "  <thead>\n",
       "    <tr style=\"text-align: right;\">\n",
       "      <th></th>\n",
       "      <th>Delivery Method</th>\n",
       "      <th>Data Stream</th>\n",
       "      <th>Deployment Days</th>\n",
       "      <th>File Days</th>\n",
       "      <th>Timestamps</th>\n",
       "      <th>Start Gap</th>\n",
       "      <th>End Gap</th>\n",
       "      <th>Gap List</th>\n",
       "      <th>Gap Days</th>\n",
       "      <th>Sampling Rate(s)</th>\n",
       "      <th>Time Order</th>\n",
       "      <th>Data Coverage(%)</th>\n",
       "    </tr>\n",
       "  </thead>\n",
       "  <tbody>\n",
       "    <tr>\n",
       "      <th>1</th>\n",
       "      <td>recovered_host</td>\n",
       "      <td>parad_m_glider_recovered</td>\n",
       "      <td>71</td>\n",
       "      <td>69</td>\n",
       "      <td>3730926</td>\n",
       "      <td>0</td>\n",
       "      <td>2</td>\n",
       "      <td>[]</td>\n",
       "      <td>0</td>\n",
       "      <td>1</td>\n",
       "      <td>[Unique: pass, Ascending: pass]</td>\n",
       "      <td>97</td>\n",
       "    </tr>\n",
       "    <tr>\n",
       "      <th>2</th>\n",
       "      <td>recovered_host</td>\n",
       "      <td>parad_m_glider_recovered</td>\n",
       "      <td>35</td>\n",
       "      <td>28</td>\n",
       "      <td>1116293</td>\n",
       "      <td>1</td>\n",
       "      <td>6</td>\n",
       "      <td>[]</td>\n",
       "      <td>0</td>\n",
       "      <td>1</td>\n",
       "      <td>[Unique: pass, Ascending: pass]</td>\n",
       "      <td>80</td>\n",
       "    </tr>\n",
       "    <tr>\n",
       "      <th>3</th>\n",
       "      <td>recovered_host</td>\n",
       "      <td>parad_m_glider_recovered</td>\n",
       "      <td>15</td>\n",
       "      <td>14</td>\n",
       "      <td>483042</td>\n",
       "      <td>0</td>\n",
       "      <td>1</td>\n",
       "      <td>[]</td>\n",
       "      <td>0</td>\n",
       "      <td>1</td>\n",
       "      <td>[Unique: pass, Ascending: pass]</td>\n",
       "      <td>93</td>\n",
       "    </tr>\n",
       "    <tr>\n",
       "      <th>4</th>\n",
       "      <td>recovered_host</td>\n",
       "      <td>parad_m_glider_recovered</td>\n",
       "      <td>32</td>\n",
       "      <td>29</td>\n",
       "      <td>1536288</td>\n",
       "      <td>2</td>\n",
       "      <td>1</td>\n",
       "      <td>[]</td>\n",
       "      <td>0</td>\n",
       "      <td>1</td>\n",
       "      <td>[Unique: pass, Ascending: pass]</td>\n",
       "      <td>91</td>\n",
       "    </tr>\n",
       "    <tr>\n",
       "      <th>5</th>\n",
       "      <td>recovered_host</td>\n",
       "      <td>parad_m_glider_recovered</td>\n",
       "      <td>50</td>\n",
       "      <td>48</td>\n",
       "      <td>3352550</td>\n",
       "      <td>0</td>\n",
       "      <td>2</td>\n",
       "      <td>[]</td>\n",
       "      <td>0</td>\n",
       "      <td>1</td>\n",
       "      <td>[Unique: pass, Ascending: pass]</td>\n",
       "      <td>96</td>\n",
       "    </tr>\n",
       "  </tbody>\n",
       "</table>\n",
       "</div>"
      ],
      "text/plain": [
       "  Delivery Method               Data Stream  Deployment Days  File Days  \\\n",
       "1  recovered_host  parad_m_glider_recovered  71               69          \n",
       "2  recovered_host  parad_m_glider_recovered  35               28          \n",
       "3  recovered_host  parad_m_glider_recovered  15               14          \n",
       "4  recovered_host  parad_m_glider_recovered  32               29          \n",
       "5  recovered_host  parad_m_glider_recovered  50               48          \n",
       "\n",
       "   Timestamps  Start Gap  End Gap Gap List  Gap Days  Sampling Rate(s)  \\\n",
       "1  3730926     0          2        []       0         1                  \n",
       "2  1116293     1          6        []       0         1                  \n",
       "3  483042      0          1        []       0         1                  \n",
       "4  1536288     2          1        []       0         1                  \n",
       "5  3352550     0          2        []       0         1                  \n",
       "\n",
       "                        Time Order  Data Coverage(%)  \n",
       "1  [Unique: pass, Ascending: pass]  97                \n",
       "2  [Unique: pass, Ascending: pass]  80                \n",
       "3  [Unique: pass, Ascending: pass]  93                \n",
       "4  [Unique: pass, Ascending: pass]  91                \n",
       "5  [Unique: pass, Ascending: pass]  96                "
      ]
     },
     "execution_count": 6,
     "metadata": {},
     "output_type": "execute_result"
    }
   ],
   "source": []
  },
  {
   "cell_type": "markdown",
   "metadata": {},
   "source": [
    "**Notes**\n",
    "\n",
    "- <p style=\"color:green;\">Time Order:</p> \n",
    "    - The time array in the data files are unique and in ascending order.\n",
    "    \n",
    "- <p style=\"color:green;\">Data Coverage:</p>\n",
    "    - Data coverage is good between 80 and 97 %.\n",
    "    \n",
    "- <p style=\"color:green;\">Data Gaps:</p>\n",
    "    - The data files are gap free, except for the gaps at the end and start of deployments.\n",
    "    - Gaps identified are not annotated in the system.\n"
   ]
  },
  {
   "cell_type": "markdown",
   "metadata": {},
   "source": [
    "**End**\n",
    "- Link to the instrument report page:\n",
    "https://datareview.marine.rutgers.edu/instruments/report/CP05MOAS-GL335-05-PARADM000"
   ]
  },
  {
   "cell_type": "code",
   "execution_count": null,
   "metadata": {},
   "outputs": [],
   "source": []
  }
 ],
 "metadata": {
  "kernelspec": {
   "display_name": "Python 3",
   "language": "python",
   "name": "python3"
  },
  "language_info": {
   "codemirror_mode": {
    "name": "ipython",
    "version": 3
   },
   "file_extension": ".py",
   "mimetype": "text/x-python",
   "name": "python",
   "nbconvert_exporter": "python",
   "pygments_lexer": "ipython3",
   "version": "3.7.2"
  }
 },
 "nbformat": 4,
 "nbformat_minor": 2
}
