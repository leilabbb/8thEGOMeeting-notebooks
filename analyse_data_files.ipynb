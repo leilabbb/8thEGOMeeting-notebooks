{
 "cells": [
  {
   "cell_type": "markdown",
   "metadata": {},
   "source": [
    "# Analyse Data Files:\n",
    "Imports tools to analyze OOI netCDF files and provide summary outputs."
   ]
  },
  {
   "cell_type": "markdown",
   "metadata": {},
   "source": [
    "### Input variables:"
   ]
  },
  {
   "cell_type": "code",
   "execution_count": 63,
   "metadata": {},
   "outputs": [],
   "source": [
    "sDir =  '/Users/leila/Documents/NSFEduSupport/review/output' # location to save summary output\n",
    "url_list = ['https://opendap.oceanobservatories.org/thredds/catalog/ooi/leila.ocean@gmail.com/20190319T195519-CP05MOAS-GL335-03-CTDGVM000-recovered_host-ctdgv_m_glider_instrument_recovered/catalog.html',\n",
    "            'https://opendap.oceanobservatories.org/thredds/catalog/ooi/leila.ocean@gmail.com/20190319T195533-CP05MOAS-GL335-03-CTDGVM000-telemetered-ctdgv_m_glider_instrument/catalog.html'] # THERDD server containing the netCDF data files\n",
    "review_file = 'https://raw.githubusercontent.com/ooi-data-lab/data-review-prep/master/review_list/data_review_list.csv'\n",
    "# f =  #location to a file containing THREDDs urls with .nc files to analyze. \n",
    "#The column containing the THREDDs urls must be labeled 'outputUrl'"
   ]
  },
  {
   "cell_type": "markdown",
   "metadata": {},
   "source": [
    "### Import functions:"
   ]
  },
  {
   "cell_type": "code",
   "execution_count": 1,
   "metadata": {},
   "outputs": [
    {
     "name": "stderr",
     "output_type": "stream",
     "text": [
      "/Users/leila/anaconda3/lib/python3.7/importlib/_bootstrap.py:219: UserWarning: \n",
      "WARNING: Backwards incompatible files will be created with HDF5 1.10.x \n",
      "and netCDF < 4.4.1. Upgrading to netCDF4 >= 4.4.1 or downgrading to \n",
      "to HDF5 version 1.8.x is highly recommended \n",
      "(see https://github.com/Unidata/netcdf-c/issues/250).\n",
      "  return f(*args, **kwds)\n"
     ]
    }
   ],
   "source": [
    "import os\n",
    "import xarray as xr\n",
    "import pandas as pd\n",
    "import re\n",
    "import numpy as np\n",
    "import json\n",
    "import datetime as dt\n",
    "import netCDF4 as nc\n",
    "import functions.common as cf\n",
    "import functions.plotting as pf\n",
    "from datetime import timedelta\n",
    "from collections import OrderedDict"
   ]
  },
  {
   "cell_type": "markdown",
   "metadata": {},
   "source": [
    "## Complete the analysis by reference designator"
   ]
  },
  {
   "cell_type": "code",
   "execution_count": 64,
   "metadata": {},
   "outputs": [],
   "source": [
    "reviewlist = pd.read_csv(review_file)"
   ]
  },
  {
   "cell_type": "code",
   "execution_count": 89,
   "metadata": {
    "scrolled": true
   },
   "outputs": [
    {
     "name": "stdout",
     "output_type": "stream",
     "text": [
      "CP05MOAS-GL335-03-CTDGVM000-recovered_host-ctdgv_m_glider_instrument_recovered\n",
      "      deploymentNumber        startDateTime         stopDateTime in_am\n",
      "3694               1.0  2014-10-06T20:16:00  2014-12-15T00:00:00   yes\n",
      "3695               2.0  2015-10-13T01:12:14  2015-11-16T00:00:00   yes\n",
      "3696               3.0  2016-04-04T18:57:02  2016-04-18T00:00:00   yes\n",
      "3697               4.0  2016-05-27T20:33:00  2016-06-27T00:00:00   yes\n",
      "3698               5.0  2017-01-16T14:59:00  2017-03-06T22:45:00   yes\n",
      "Data request has fulfilled.\n",
      "CP05MOAS-GL335-03-CTDGVM000-telemetered-ctdgv_m_glider_instrument\n",
      "      deploymentNumber        startDateTime         stopDateTime in_am\n",
      "3694               1.0  2014-10-06T20:16:00  2014-12-15T00:00:00   yes\n",
      "3695               2.0  2015-10-13T01:12:14  2015-11-16T00:00:00   yes\n",
      "3696               3.0  2016-04-04T18:57:02  2016-04-18T00:00:00   yes\n",
      "3697               4.0  2016-05-27T20:33:00  2016-06-27T00:00:00   yes\n",
      "3698               5.0  2017-01-16T14:59:00  2017-03-06T22:45:00   yes\n",
      "Data request has fulfilled.\n",
      "['https://opendap.oceanobservatories.org/thredds/dodsC/ooi/leila.ocean@gmail.com/20190319T195533-CP05MOAS-GL335-03-CTDGVM000-telemetered-ctdgv_m_glider_instrument/deployment0005_CP05MOAS-GL335-03-CTDGVM000-telemetered-ctdgv_m_glider_instrument_20170116T150223.595370-20170304T045334.799840.nc', 'https://opendap.oceanobservatories.org/thredds/dodsC/ooi/leila.ocean@gmail.com/20190319T195533-CP05MOAS-GL335-03-CTDGVM000-telemetered-ctdgv_m_glider_instrument/deployment0005_CP05MOAS-GL335-00-ENG000000-telemetered-glider_gps_position_20170116T150227.215330-20170304T025552.929900.nc', 'https://opendap.oceanobservatories.org/thredds/dodsC/ooi/leila.ocean@gmail.com/20190319T195533-CP05MOAS-GL335-03-CTDGVM000-telemetered-ctdgv_m_glider_instrument/deployment0004_CP05MOAS-GL335-03-CTDGVM000-telemetered-ctdgv_m_glider_instrument_20160527T212312.351560-20160626T091401.747920.nc', 'https://opendap.oceanobservatories.org/thredds/dodsC/ooi/leila.ocean@gmail.com/20190319T195533-CP05MOAS-GL335-03-CTDGVM000-telemetered-ctdgv_m_glider_instrument/deployment0004_CP05MOAS-GL335-00-ENG000000-telemetered-glider_gps_position_20160527T212324.404630-20160626T091457.840360.nc', 'https://opendap.oceanobservatories.org/thredds/dodsC/ooi/leila.ocean@gmail.com/20190319T195533-CP05MOAS-GL335-03-CTDGVM000-telemetered-ctdgv_m_glider_instrument/deployment0003_CP05MOAS-GL335-03-CTDGVM000-telemetered-ctdgv_m_glider_instrument_20160404T185705.311220-20160417T235956.145260.nc', 'https://opendap.oceanobservatories.org/thredds/dodsC/ooi/leila.ocean@gmail.com/20190319T195533-CP05MOAS-GL335-03-CTDGVM000-telemetered-ctdgv_m_glider_instrument/deployment0003_CP05MOAS-GL335-00-ENG000000-telemetered-glider_gps_position_20160404T185713.510310-20160417T235828.888030.nc', 'https://opendap.oceanobservatories.org/thredds/dodsC/ooi/leila.ocean@gmail.com/20190319T195533-CP05MOAS-GL335-03-CTDGVM000-telemetered-ctdgv_m_glider_instrument/deployment0002_CP05MOAS-GL335-03-CTDGVM000-telemetered-ctdgv_m_glider_instrument_20151014T001900.237980-20151110T091835.231900.nc', 'https://opendap.oceanobservatories.org/thredds/dodsC/ooi/leila.ocean@gmail.com/20190319T195533-CP05MOAS-GL335-03-CTDGVM000-telemetered-ctdgv_m_glider_instrument/deployment0002_CP05MOAS-GL335-00-ENG000000-telemetered-glider_gps_position_20151014T001904.566160-20151110T084743.388180.nc', 'https://opendap.oceanobservatories.org/thredds/dodsC/ooi/leila.ocean@gmail.com/20190319T195533-CP05MOAS-GL335-03-CTDGVM000-telemetered-ctdgv_m_glider_instrument/deployment0001_CP05MOAS-GL335-03-CTDGVM000-telemetered-ctdgv_m_glider_instrument_20141006T202152.905850-20141213T035757.300290.nc', 'https://opendap.oceanobservatories.org/thredds/dodsC/ooi/leila.ocean@gmail.com/20190319T195533-CP05MOAS-GL335-03-CTDGVM000-telemetered-ctdgv_m_glider_instrument/deployment0001_CP05MOAS-GL335-00-ENG000000-telemetered-glider_gps_position_20141006T202156.895420-20141213T042354.297970.nc']\n"
     ]
    }
   ],
   "source": [
    "for uu in url_list:\n",
    "    # get instrument  = reference designator \n",
    "    elements = uu.split('/')[-2].split('-')\n",
    "    rd = '-'.join((elements[1], elements[2], elements[3], elements[4]))\n",
    "    \n",
    "    data = OrderedDict(deployments=OrderedDict())\n",
    "    \n",
    "    # create an output file\n",
    "    save_dir = os.path.join(sDir, r.split('-')[0], rd)\n",
    "    cf.create_dir(save_dir)\n",
    "    \n",
    "    # check for the OOI 1.0 datasets for review    \n",
    "    rl_filtered = reviewlist.loc[(reviewlist['Reference Designator'] == rd) & (reviewlist['status'] == 'for review')]\n",
    "    \n",
    "    # print to the screen\n",
    "    catalog_rms = '-'.join((rd, elements[-2], elements[-1]))\n",
    "    print(catalog_rms)\n",
    "    print(pd.DataFrame({'deploymentNumber': rl_filtered['deploymentNumber'],\n",
    "                        'startDateTime': rl_filtered['startDateTime'],\n",
    "                       'stopDateTime': rl_filtered['stopDateTime'],\n",
    "                       'in_am': rl_filtered['in_am']}))\n",
    "    \n",
    "        \n",
    "    # get data files from THREDDS server\n",
    "    udatasets = cf.get_nc_urls([uu])\n",
    "    \n",
    "    # get deployments from file names\n",
    "    review_deployments = rl_filtered['deploymentNumber'].tolist()\n",
    "    review_deployments_int = ['deployment%04d' % int(x) for x in review_deployments]\n",
    "\n",
    "    # get data files of interest\n",
    "    datasets = []\n",
    "    for rev_dep in review_deployments_int:\n",
    "        rdatasets = [s for s in udatasets if rev_dep in s]\n",
    "        if len(rdatasets) > 0:            \n",
    "            for dss in rdatasets:  # filter out collocated data files\n",
    "                if catalog_rms == dss.split('/')[-1].split('_20')[0][15:]:\n",
    "                    datasets.append(dss)\n",
    "                    \n",
    "print(udatasets)"
   ]
  },
  {
   "cell_type": "code",
   "execution_count": 77,
   "metadata": {},
   "outputs": [],
   "source": [
    "fname, subsite, refdes, method, data_stream, deployment = cf.nc_attributes(datasets[0])"
   ]
  },
  {
   "cell_type": "code",
   "execution_count": 90,
   "metadata": {},
   "outputs": [
    {
     "name": "stdout",
     "output_type": "stream",
     "text": [
      "['https://opendap.oceanobservatories.org/thredds/dodsC/ooi/leila.ocean@gmail.com/20190319T195533-CP05MOAS-GL335-03-CTDGVM000-telemetered-ctdgv_m_glider_instrument/deployment0001_CP05MOAS-GL335-03-CTDGVM000-telemetered-ctdgv_m_glider_instrument_20141006T202152.905850-20141213T035757.300290.nc', 'https://opendap.oceanobservatories.org/thredds/dodsC/ooi/leila.ocean@gmail.com/20190319T195533-CP05MOAS-GL335-03-CTDGVM000-telemetered-ctdgv_m_glider_instrument/deployment0002_CP05MOAS-GL335-03-CTDGVM000-telemetered-ctdgv_m_glider_instrument_20151014T001900.237980-20151110T091835.231900.nc', 'https://opendap.oceanobservatories.org/thredds/dodsC/ooi/leila.ocean@gmail.com/20190319T195533-CP05MOAS-GL335-03-CTDGVM000-telemetered-ctdgv_m_glider_instrument/deployment0003_CP05MOAS-GL335-03-CTDGVM000-telemetered-ctdgv_m_glider_instrument_20160404T185705.311220-20160417T235956.145260.nc', 'https://opendap.oceanobservatories.org/thredds/dodsC/ooi/leila.ocean@gmail.com/20190319T195533-CP05MOAS-GL335-03-CTDGVM000-telemetered-ctdgv_m_glider_instrument/deployment0004_CP05MOAS-GL335-03-CTDGVM000-telemetered-ctdgv_m_glider_instrument_20160527T212312.351560-20160626T091401.747920.nc', 'https://opendap.oceanobservatories.org/thredds/dodsC/ooi/leila.ocean@gmail.com/20190319T195533-CP05MOAS-GL335-03-CTDGVM000-telemetered-ctdgv_m_glider_instrument/deployment0005_CP05MOAS-GL335-03-CTDGVM000-telemetered-ctdgv_m_glider_instrument_20170116T150223.595370-20170304T045334.799840.nc']\n"
     ]
    }
   ],
   "source": [
    "print(datasets)"
   ]
  },
  {
   "cell_type": "code",
   "execution_count": null,
   "metadata": {},
   "outputs": [],
   "source": [
    " # Get info from the data review database\n",
    "dr_data = cf.refdes_datareview_json(refdes)\n",
    "stream_vars = cf.return_stream_vars(data_stream)\n",
    "sci_vars = cf.return_science_vars(data_stream)\n",
    "deploy_info = get_deployment_information(dr_data, int(deployment[-4:]))"
   ]
  },
  {
   "cell_type": "code",
   "execution_count": null,
   "metadata": {},
   "outputs": [],
   "source": [
    "# Grab deployment Variables\n",
    "deploy_start = str(deploy_info['start_date'])\n",
    "deploy_stop = str(deploy_info['stop_date'])\n",
    "deploy_lon = deploy_info['longitude']\n",
    "deploy_lat = deploy_info['latitude']\n",
    "deploy_depth = deploy_info['deployment_depth']"
   ]
  },
  {
   "cell_type": "code",
   "execution_count": null,
   "metadata": {},
   "outputs": [],
   "source": [
    "# Calculate days deployed\n",
    "if deploy_stop != 'None':\n",
    "    r_deploy_start = pd.to_datetime(deploy_start).replace(hour=0, minute=0, second=0)\n",
    "    if deploy_stop.split('T')[1] == '00:00:00':\n",
    "        r_deploy_stop = pd.to_datetime(deploy_stop)\n",
    "    else:\n",
    "        r_deploy_stop = (pd.to_datetime(deploy_stop) + timedelta(days=1)).replace(hour=0, minute=0, second=0)\n",
    "    n_days_deployed = (r_deploy_stop - r_deploy_start).days\n",
    "else:\n",
    "    n_days_deployed = None"
   ]
  }
 ],
 "metadata": {
  "kernelspec": {
   "display_name": "Python 3",
   "language": "python",
   "name": "python3"
  },
  "language_info": {
   "codemirror_mode": {
    "name": "ipython",
    "version": 3
   },
   "file_extension": ".py",
   "mimetype": "text/x-python",
   "name": "python",
   "nbconvert_exporter": "python",
   "pygments_lexer": "ipython3",
   "version": "3.7.2"
  }
 },
 "nbformat": 4,
 "nbformat_minor": 2
}
